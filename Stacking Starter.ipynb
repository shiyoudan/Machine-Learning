{
 "cells": [
  {
   "cell_type": "code",
   "execution_count": 25,
   "metadata": {
    "collapsed": false
   },
   "outputs": [
    {
     "name": "stdout",
     "output_type": "stream",
     "text": [
      "/home/twbzheng/Desktop\r\n"
     ]
    }
   ],
   "source": [
    "!pwd"
   ]
  },
  {
   "cell_type": "code",
   "execution_count": 1,
   "metadata": {
    "collapsed": false
   },
   "outputs": [
    {
     "name": "stderr",
     "output_type": "stream",
     "text": [
      "/home/twbzheng/anaconda3/lib/python3.5/site-packages/sklearn/cross_validation.py:44: DeprecationWarning: This module was deprecated in version 0.18 in favor of the model_selection module into which all the refactored classes and functions are moved. Also note that the interface of the new CV iterators are different from that of this module. This module will be removed in 0.20.\n",
      "  \"This module will be removed in 0.20.\", DeprecationWarning)\n"
     ]
    }
   ],
   "source": [
    "# Stacking Starter based on Allstate Faron's Script\n",
    "#https://www.kaggle.com/mmueller/allstate-claims-severity/stacking-starter/run/390867\n",
    "# Preprocessing from Alexandru Papiu\n",
    "#https://www.kaggle.com/apapiu/house-prices-advanced-regression-techniques/regularized-linear-models\n",
    "\n",
    "import pandas as pd\n",
    "import numpy as np\n",
    "from scipy.stats import skew\n",
    "import xgboost as xgb\n",
    "from sklearn.cross_validation import KFold\n",
    "from sklearn.ensemble import ExtraTreesRegressor\n",
    "from sklearn.ensemble import RandomForestRegressor\n",
    "from sklearn.metrics import mean_squared_error\n",
    "from sklearn.linear_model import Ridge, RidgeCV, ElasticNet, LassoCV, Lasso\n",
    "from math import sqrt"
   ]
  },
  {
   "cell_type": "code",
   "execution_count": 21,
   "metadata": {
    "collapsed": true
   },
   "outputs": [],
   "source": [
    "TARGET = 'SalePrice'\n",
    "NFOLDS = 5\n",
    "SEED = 0\n",
    "NROWS = None\n",
    "SUBMISSION_FILE = '/home/twbzheng/Desktop/submission.csv'"
   ]
  },
  {
   "cell_type": "code",
   "execution_count": 3,
   "metadata": {
    "collapsed": true
   },
   "outputs": [],
   "source": [
    "## Load the data ##\n",
    "train = pd.read_csv(\"/home/twbzheng/Desktop/train.csv\")\n",
    "test = pd.read_csv(\"/home/twbzheng/Desktop/test.csv\")\n",
    "\n",
    "ntrain = train.shape[0]\n",
    "ntest = test.shape[0]"
   ]
  },
  {
   "cell_type": "code",
   "execution_count": 4,
   "metadata": {
    "collapsed": true
   },
   "outputs": [],
   "source": [
    "## Preprocessing ##\n",
    "\n",
    "y_train = np.log(train[TARGET]+1)\n",
    "\n",
    "\n",
    "train.drop([TARGET], axis=1, inplace=True)\n",
    "\n",
    "\n",
    "all_data = pd.concat((train.loc[:,'MSSubClass':'SaleCondition'],\n",
    "                      test.loc[:,'MSSubClass':'SaleCondition']))"
   ]
  },
  {
   "cell_type": "code",
   "execution_count": 5,
   "metadata": {
    "collapsed": true
   },
   "outputs": [],
   "source": [
    "#log transform skewed numeric features:\n",
    "numeric_feats = all_data.dtypes[all_data.dtypes != \"object\"].index\n",
    "\n",
    "skewed_feats = train[numeric_feats].apply(lambda x: skew(x.dropna())) #compute skewness\n",
    "skewed_feats = skewed_feats[skewed_feats > 0.75]\n",
    "skewed_feats = skewed_feats.index\n",
    "\n",
    "all_data[skewed_feats] = np.log1p(all_data[skewed_feats])\n",
    "\n",
    "all_data = pd.get_dummies(all_data)"
   ]
  },
  {
   "cell_type": "code",
   "execution_count": 6,
   "metadata": {
    "collapsed": true
   },
   "outputs": [],
   "source": [
    "#filling NA's with the mean of the column:\n",
    "all_data = all_data.fillna(all_data.mean())\n",
    "\n",
    "#creating matrices for sklearn:\n",
    "\n",
    "x_train = np.array(all_data[:train.shape[0]])\n",
    "x_test = np.array(all_data[train.shape[0]:])\n",
    "\n",
    "kf = KFold(ntrain, n_folds=NFOLDS, shuffle=True, random_state=SEED)"
   ]
  },
  {
   "cell_type": "code",
   "execution_count": 7,
   "metadata": {
    "collapsed": true
   },
   "outputs": [],
   "source": [
    "class SklearnWrapper(object):\n",
    "    def __init__(self, clf, seed=0, params=None):\n",
    "        params['random_state'] = seed\n",
    "        self.clf = clf(**params)\n",
    "\n",
    "    def train(self, x_train, y_train):\n",
    "        self.clf.fit(x_train, y_train)\n",
    "\n",
    "    def predict(self, x):\n",
    "        return self.clf.predict(x)"
   ]
  },
  {
   "cell_type": "code",
   "execution_count": 8,
   "metadata": {
    "collapsed": true
   },
   "outputs": [],
   "source": [
    "class XgbWrapper(object):\n",
    "    def __init__(self, seed=0, params=None):\n",
    "        self.param = params\n",
    "        self.param['seed'] = seed\n",
    "        self.nrounds = params.pop('nrounds', 250)\n",
    "\n",
    "    def train(self, x_train, y_train):\n",
    "        dtrain = xgb.DMatrix(x_train, label=y_train)\n",
    "        self.gbdt = xgb.train(self.param, dtrain, self.nrounds)\n",
    "\n",
    "    def predict(self, x):\n",
    "        return self.gbdt.predict(xgb.DMatrix(x))"
   ]
  },
  {
   "cell_type": "code",
   "execution_count": 9,
   "metadata": {
    "collapsed": true
   },
   "outputs": [],
   "source": [
    "def get_oof(clf):\n",
    "    oof_train = np.zeros((ntrain,))\n",
    "    oof_test = np.zeros((ntest,))\n",
    "    oof_test_skf = np.empty((NFOLDS, ntest))\n",
    "\n",
    "    for i, (train_index, test_index) in enumerate(kf):\n",
    "        x_tr = x_train[train_index]\n",
    "        y_tr = y_train[train_index]\n",
    "        x_te = x_train[test_index]\n",
    "\n",
    "        clf.train(x_tr, y_tr)\n",
    "\n",
    "        oof_train[test_index] = clf.predict(x_te)\n",
    "        oof_test_skf[i, :] = clf.predict(x_test)\n",
    "\n",
    "    oof_test[:] = oof_test_skf.mean(axis=0)\n",
    "    return oof_train.reshape(-1, 1), oof_test.reshape(-1, 1)"
   ]
  },
  {
   "cell_type": "code",
   "execution_count": 10,
   "metadata": {
    "collapsed": true
   },
   "outputs": [],
   "source": [
    "et_params = {\n",
    "    'n_jobs': 16,\n",
    "    'n_estimators': 100,\n",
    "    'max_features': 0.5,\n",
    "    'max_depth': 12,\n",
    "    'min_samples_leaf': 2,\n",
    "}\n",
    "\n",
    "rf_params = {\n",
    "    'n_jobs': 16,\n",
    "    'n_estimators': 100,\n",
    "    'max_features': 0.2,\n",
    "    'max_depth': 12,\n",
    "    'min_samples_leaf': 2,\n",
    "}\n",
    "\n",
    "xgb_params = {\n",
    "    'seed': 0,\n",
    "    'colsample_bytree': 0.7,\n",
    "    'silent': 1,\n",
    "    'subsample': 0.7,\n",
    "    'learning_rate': 0.075,\n",
    "    'objective': 'reg:linear',\n",
    "    'max_depth': 4,\n",
    "    'num_parallel_tree': 1,\n",
    "    'min_child_weight': 1,\n",
    "    'eval_metric': 'rmse',\n",
    "    'nrounds': 500\n",
    "}\n",
    "\n",
    "\n",
    "\n",
    "rd_params={\n",
    "    'alpha': 10\n",
    "}\n",
    "\n",
    "ls_params={\n",
    "    'alpha': 0.005\n",
    "}"
   ]
  },
  {
   "cell_type": "code",
   "execution_count": 11,
   "metadata": {
    "collapsed": true
   },
   "outputs": [],
   "source": [
    "xg = XgbWrapper(seed=SEED, params=xgb_params)\n",
    "et = SklearnWrapper(clf=ExtraTreesRegressor, seed=SEED, params=et_params)\n",
    "rf = SklearnWrapper(clf=RandomForestRegressor, seed=SEED, params=rf_params)\n",
    "rd = SklearnWrapper(clf=Ridge, seed=SEED, params=rd_params)\n",
    "ls = SklearnWrapper(clf=Lasso, seed=SEED, params=ls_params)"
   ]
  },
  {
   "cell_type": "code",
   "execution_count": 12,
   "metadata": {
    "collapsed": true
   },
   "outputs": [],
   "source": [
    "xg_oof_train, xg_oof_test = get_oof(xg)\n",
    "et_oof_train, et_oof_test = get_oof(et)\n",
    "rf_oof_train, rf_oof_test = get_oof(rf)\n",
    "rd_oof_train, rd_oof_test = get_oof(rd)\n",
    "ls_oof_train, ls_oof_test = get_oof(ls)"
   ]
  },
  {
   "cell_type": "code",
   "execution_count": 13,
   "metadata": {
    "collapsed": false
   },
   "outputs": [
    {
     "name": "stdout",
     "output_type": "stream",
     "text": [
      "XG-CV: 0.12348741482609528\n",
      "ET-CV: 0.1453111543958458\n",
      "RF-CV: 0.1421886015348642\n",
      "RD-CV: 0.13183915747018143\n",
      "LS-CV: 0.14321633190165173\n"
     ]
    }
   ],
   "source": [
    "print(\"XG-CV: {}\".format(sqrt(mean_squared_error(y_train, xg_oof_train))))\n",
    "print(\"ET-CV: {}\".format(sqrt(mean_squared_error(y_train, et_oof_train))))\n",
    "print(\"RF-CV: {}\".format(sqrt(mean_squared_error(y_train, rf_oof_train))))\n",
    "print(\"RD-CV: {}\".format(sqrt(mean_squared_error(y_train, rd_oof_train))))\n",
    "print(\"LS-CV: {}\".format(sqrt(mean_squared_error(y_train, ls_oof_train))))"
   ]
  },
  {
   "cell_type": "code",
   "execution_count": 14,
   "metadata": {
    "collapsed": false
   },
   "outputs": [
    {
     "name": "stdout",
     "output_type": "stream",
     "text": [
      "(1460, 5),(1459, 5)\n"
     ]
    }
   ],
   "source": [
    "x_train = np.concatenate((xg_oof_train, et_oof_train, rf_oof_train, rd_oof_train, ls_oof_train), axis=1)\n",
    "x_test = np.concatenate((xg_oof_test, et_oof_test, rf_oof_test, rd_oof_test, ls_oof_test), axis=1)\n",
    "\n",
    "print(\"{},{}\".format(x_train.shape, x_test.shape))"
   ]
  },
  {
   "cell_type": "code",
   "execution_count": 15,
   "metadata": {
    "collapsed": true
   },
   "outputs": [],
   "source": [
    "dtrain = xgb.DMatrix(x_train, label=y_train)\n",
    "dtest = xgb.DMatrix(x_test)"
   ]
  },
  {
   "cell_type": "code",
   "execution_count": 16,
   "metadata": {
    "collapsed": true
   },
   "outputs": [],
   "source": [
    "xgb_params = {\n",
    "    'seed': 0,\n",
    "    'colsample_bytree': 0.8,\n",
    "    'silent': 1,\n",
    "    'subsample': 0.6,\n",
    "    'learning_rate': 0.01,\n",
    "    'objective': 'reg:linear',\n",
    "    'max_depth': 1,\n",
    "    'num_parallel_tree': 1,\n",
    "    'min_child_weight': 1,\n",
    "    'eval_metric': 'rmse',\n",
    "}"
   ]
  },
  {
   "cell_type": "code",
   "execution_count": 17,
   "metadata": {
    "collapsed": false
   },
   "outputs": [
    {
     "name": "stdout",
     "output_type": "stream",
     "text": [
      "[0]\ttrain-rmse:11.4159+0.00727902\ttest-rmse:11.4159+0.0221769\n",
      "[10]\ttrain-rmse:10.3275+0.0064755\ttest-rmse:10.3275+0.0230638\n",
      "[20]\ttrain-rmse:9.34289+0.00554956\ttest-rmse:9.34287+0.0240784\n",
      "[30]\ttrain-rmse:8.45265+0.0051308\ttest-rmse:8.45262+0.0246055\n",
      "[40]\ttrain-rmse:7.64738+0.00467881\ttest-rmse:7.64737+0.0250842\n",
      "[50]\ttrain-rmse:6.91909+0.0041852\ttest-rmse:6.91923+0.0247385\n",
      "[60]\ttrain-rmse:6.26004+0.003761\ttest-rmse:6.26015+0.0242063\n",
      "[70]\ttrain-rmse:5.66417+0.00327822\ttest-rmse:5.66428+0.0239044\n",
      "[80]\ttrain-rmse:5.12543+0.00306749\ttest-rmse:5.12544+0.0234643\n",
      "[90]\ttrain-rmse:4.638+0.00261501\ttest-rmse:4.63806+0.0232192\n",
      "[100]\ttrain-rmse:4.19697+0.00228641\ttest-rmse:4.19716+0.0230531\n",
      "[110]\ttrain-rmse:3.79809+0.00212798\ttest-rmse:3.79841+0.0226684\n",
      "[120]\ttrain-rmse:3.4373+0.00195699\ttest-rmse:3.43774+0.02242\n",
      "[130]\ttrain-rmse:3.11104+0.00192658\ttest-rmse:3.11143+0.0219111\n",
      "[140]\ttrain-rmse:2.81567+0.00167211\ttest-rmse:2.81631+0.0215395\n",
      "[150]\ttrain-rmse:2.54881+0.00157355\ttest-rmse:2.54949+0.0212534\n",
      "[160]\ttrain-rmse:2.30724+0.00133306\ttest-rmse:2.30798+0.02087\n",
      "[170]\ttrain-rmse:2.08897+0.00118158\ttest-rmse:2.08967+0.0205865\n",
      "[180]\ttrain-rmse:1.8916+0.00104437\ttest-rmse:1.89234+0.0204009\n",
      "[190]\ttrain-rmse:1.71307+0.00100127\ttest-rmse:1.71377+0.02002\n",
      "[200]\ttrain-rmse:1.55159+0.000989418\ttest-rmse:1.55244+0.0194413\n",
      "[210]\ttrain-rmse:1.40568+0.000911319\ttest-rmse:1.40652+0.0191194\n",
      "[220]\ttrain-rmse:1.27372+0.000892773\ttest-rmse:1.27472+0.0185634\n",
      "[230]\ttrain-rmse:1.15469+0.000783413\ttest-rmse:1.15587+0.0184936\n",
      "[240]\ttrain-rmse:1.0471+0.000859678\ttest-rmse:1.04825+0.018399\n",
      "[250]\ttrain-rmse:0.949874+0.00091072\ttest-rmse:0.951094+0.0179843\n",
      "[260]\ttrain-rmse:0.862089+0.00097644\ttest-rmse:0.863468+0.0177169\n",
      "[270]\ttrain-rmse:0.782694+0.00101053\ttest-rmse:0.784226+0.0175042\n",
      "[280]\ttrain-rmse:0.711211+0.00108221\ttest-rmse:0.71278+0.0173496\n",
      "[290]\ttrain-rmse:0.64668+0.00105809\ttest-rmse:0.648471+0.0172249\n",
      "[300]\ttrain-rmse:0.588495+0.00110228\ttest-rmse:0.590395+0.0171707\n",
      "[310]\ttrain-rmse:0.536095+0.00124196\ttest-rmse:0.538107+0.0169979\n",
      "[320]\ttrain-rmse:0.488913+0.00132224\ttest-rmse:0.491004+0.016926\n",
      "[330]\ttrain-rmse:0.446466+0.00130455\ttest-rmse:0.448643+0.0169201\n",
      "[340]\ttrain-rmse:0.408374+0.00138591\ttest-rmse:0.410747+0.0169027\n",
      "[350]\ttrain-rmse:0.374162+0.00145826\ttest-rmse:0.376861+0.0168606\n",
      "[360]\ttrain-rmse:0.343545+0.00155601\ttest-rmse:0.346464+0.01685\n",
      "[370]\ttrain-rmse:0.316161+0.00157324\ttest-rmse:0.319462+0.0169406\n",
      "[380]\ttrain-rmse:0.29168+0.0016786\ttest-rmse:0.295245+0.0168044\n",
      "[390]\ttrain-rmse:0.269863+0.00177444\ttest-rmse:0.273779+0.0168049\n",
      "[400]\ttrain-rmse:0.250486+0.00198765\ttest-rmse:0.254715+0.0167058\n",
      "[410]\ttrain-rmse:0.233207+0.00203111\ttest-rmse:0.237853+0.0167524\n",
      "[420]\ttrain-rmse:0.217981+0.0021047\ttest-rmse:0.223019+0.0167184\n",
      "[430]\ttrain-rmse:0.204507+0.00224419\ttest-rmse:0.209856+0.0166095\n",
      "[440]\ttrain-rmse:0.19277+0.00228596\ttest-rmse:0.198422+0.0166786\n",
      "[450]\ttrain-rmse:0.182352+0.00236663\ttest-rmse:0.188284+0.0166779\n",
      "[460]\ttrain-rmse:0.173279+0.00242304\ttest-rmse:0.1795+0.0167266\n",
      "[470]\ttrain-rmse:0.165378+0.00256419\ttest-rmse:0.172041+0.0166598\n",
      "[480]\ttrain-rmse:0.158467+0.00267849\ttest-rmse:0.165442+0.0165512\n",
      "[490]\ttrain-rmse:0.152486+0.00276123\ttest-rmse:0.159828+0.0163943\n",
      "[500]\ttrain-rmse:0.147234+0.00287046\ttest-rmse:0.154934+0.0162537\n",
      "[510]\ttrain-rmse:0.142701+0.00293947\ttest-rmse:0.150692+0.016129\n",
      "[520]\ttrain-rmse:0.138672+0.00304799\ttest-rmse:0.14714+0.01596\n",
      "[530]\ttrain-rmse:0.135246+0.0030728\ttest-rmse:0.144041+0.015758\n",
      "[540]\ttrain-rmse:0.132274+0.00308097\ttest-rmse:0.141336+0.015576\n",
      "[550]\ttrain-rmse:0.129701+0.00313639\ttest-rmse:0.13898+0.0154657\n",
      "[560]\ttrain-rmse:0.127449+0.00316908\ttest-rmse:0.136944+0.015299\n",
      "[570]\ttrain-rmse:0.12549+0.00318921\ttest-rmse:0.135142+0.0151666\n",
      "[580]\ttrain-rmse:0.123786+0.00323439\ttest-rmse:0.13368+0.0149568\n",
      "[590]\ttrain-rmse:0.122276+0.00328142\ttest-rmse:0.132433+0.0148273\n",
      "[600]\ttrain-rmse:0.120969+0.00331039\ttest-rmse:0.131324+0.0146253\n",
      "[610]\ttrain-rmse:0.119793+0.00332355\ttest-rmse:0.130332+0.0143967\n",
      "[620]\ttrain-rmse:0.118766+0.00329975\ttest-rmse:0.129589+0.0142018\n",
      "[630]\ttrain-rmse:0.117865+0.00329627\ttest-rmse:0.1289+0.0140477\n",
      "[640]\ttrain-rmse:0.117058+0.00332969\ttest-rmse:0.128286+0.0139407\n",
      "[650]\ttrain-rmse:0.116315+0.003338\ttest-rmse:0.127787+0.0138525\n",
      "[660]\ttrain-rmse:0.115629+0.00332421\ttest-rmse:0.127253+0.0137279\n",
      "[670]\ttrain-rmse:0.115032+0.00332463\ttest-rmse:0.126931+0.0136447\n",
      "[680]\ttrain-rmse:0.11445+0.00332572\ttest-rmse:0.126462+0.0134652\n",
      "[690]\ttrain-rmse:0.113966+0.0033754\ttest-rmse:0.126122+0.0133219\n",
      "[700]\ttrain-rmse:0.113506+0.00335967\ttest-rmse:0.125903+0.0132843\n",
      "[710]\ttrain-rmse:0.113074+0.00337555\ttest-rmse:0.12572+0.0131539\n",
      "[720]\ttrain-rmse:0.112657+0.00335166\ttest-rmse:0.125399+0.0130867\n",
      "[730]\ttrain-rmse:0.112275+0.00333588\ttest-rmse:0.125197+0.0129769\n",
      "[740]\ttrain-rmse:0.111895+0.00331662\ttest-rmse:0.124991+0.0128664\n",
      "[750]\ttrain-rmse:0.111557+0.00328993\ttest-rmse:0.124769+0.0128268\n",
      "[760]\ttrain-rmse:0.111242+0.00327446\ttest-rmse:0.124603+0.0127282\n",
      "[770]\ttrain-rmse:0.110923+0.00326941\ttest-rmse:0.124477+0.0127356\n",
      "[780]\ttrain-rmse:0.110642+0.00327439\ttest-rmse:0.12432+0.0126438\n",
      "[790]\ttrain-rmse:0.110386+0.00325854\ttest-rmse:0.124197+0.0125914\n",
      "[800]\ttrain-rmse:0.110119+0.00324452\ttest-rmse:0.124119+0.0125962\n",
      "[810]\ttrain-rmse:0.109854+0.00321918\ttest-rmse:0.124025+0.0125739\n",
      "[820]\ttrain-rmse:0.109622+0.00322279\ttest-rmse:0.123944+0.0124996\n",
      "[830]\ttrain-rmse:0.10941+0.00321172\ttest-rmse:0.123851+0.0124602\n",
      "[840]\ttrain-rmse:0.109191+0.003196\ttest-rmse:0.123775+0.0124414\n",
      "[850]\ttrain-rmse:0.108982+0.00317882\ttest-rmse:0.123684+0.0123874\n",
      "[860]\ttrain-rmse:0.108766+0.00316746\ttest-rmse:0.123604+0.0123736\n",
      "[870]\ttrain-rmse:0.108571+0.00314423\ttest-rmse:0.123571+0.0123605\n",
      "[880]\ttrain-rmse:0.108363+0.00312086\ttest-rmse:0.123532+0.0123664\n",
      "[890]\ttrain-rmse:0.108173+0.00310794\ttest-rmse:0.123428+0.0123051\n",
      "[900]\ttrain-rmse:0.108003+0.00309647\ttest-rmse:0.123385+0.0122897\n",
      "[910]\ttrain-rmse:0.107816+0.00308159\ttest-rmse:0.123306+0.0122556\n",
      "[920]\ttrain-rmse:0.107637+0.00306931\ttest-rmse:0.123216+0.0122124\n",
      "[930]\ttrain-rmse:0.107476+0.00306639\ttest-rmse:0.12315+0.0122382\n",
      "[940]\ttrain-rmse:0.107328+0.00306121\ttest-rmse:0.123093+0.0122312\n",
      "[950]\ttrain-rmse:0.107177+0.00306017\ttest-rmse:0.123086+0.0122451\n",
      "[960]\ttrain-rmse:0.107029+0.00304708\ttest-rmse:0.123025+0.0122309\n",
      "[970]\ttrain-rmse:0.106887+0.00304157\ttest-rmse:0.123029+0.0122087\n",
      "[980]\ttrain-rmse:0.106755+0.00303313\ttest-rmse:0.122989+0.0122047\n",
      "[990]\ttrain-rmse:0.106612+0.00302744\ttest-rmse:0.122913+0.0122029\n"
     ]
    }
   ],
   "source": [
    "res = xgb.cv(xgb_params, dtrain, num_boost_round=1000, nfold=4, seed=SEED, stratified=False,\n",
    "             early_stopping_rounds=25, verbose_eval=10, show_stdv=True)\n",
    "\n",
    "best_nrounds = res.shape[0] - 1\n",
    "cv_mean = res.iloc[-1, 0]\n",
    "cv_std = res.iloc[-1, 1]"
   ]
  },
  {
   "cell_type": "code",
   "execution_count": 18,
   "metadata": {
    "collapsed": false
   },
   "outputs": [
    {
     "name": "stdout",
     "output_type": "stream",
     "text": [
      "Ensemble-CV: 0.12288575+0.012216477036670597\n"
     ]
    }
   ],
   "source": [
    "print('Ensemble-CV: {0}+{1}'.format(cv_mean, cv_std))"
   ]
  },
  {
   "cell_type": "code",
   "execution_count": 19,
   "metadata": {
    "collapsed": true
   },
   "outputs": [],
   "source": [
    "gbdt = xgb.train(xgb_params, dtrain, best_nrounds)"
   ]
  },
  {
   "cell_type": "code",
   "execution_count": 24,
   "metadata": {
    "collapsed": false
   },
   "outputs": [],
   "source": [
    "submission = pd.read_csv(SUBMISSION_FILE)\n",
    "submission.iloc[:, 1] = gbdt.predict(dtest)\n",
    "saleprice = np.exp(submission['SalePrice'])-1\n",
    "submission['SalePrice'] = saleprice\n",
    "submission.to_csv('xgstacker_starter.sub.csv', index=None)"
   ]
  },
  {
   "cell_type": "code",
   "execution_count": null,
   "metadata": {
    "collapsed": true
   },
   "outputs": [],
   "source": []
  }
 ],
 "metadata": {
  "anaconda-cloud": {},
  "kernelspec": {
   "display_name": "Python [Root]",
   "language": "python",
   "name": "Python [Root]"
  },
  "language_info": {
   "codemirror_mode": {
    "name": "ipython",
    "version": 3
   },
   "file_extension": ".py",
   "mimetype": "text/x-python",
   "name": "python",
   "nbconvert_exporter": "python",
   "pygments_lexer": "ipython3",
   "version": "3.5.2"
  }
 },
 "nbformat": 4,
 "nbformat_minor": 0
}
