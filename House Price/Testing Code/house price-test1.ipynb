{
 "cells": [
  {
   "cell_type": "code",
   "execution_count": 2,
   "metadata": {},
   "outputs": [
    {
     "name": "stdout",
     "output_type": "stream",
     "text": [
      "Checking whether there is an H2O instance running at http://localhost:54321. connected.\n"
     ]
    },
    {
     "data": {
      "text/html": [
       "<div style=\"overflow:auto\"><table style=\"width:50%\"><tr><td>H2O cluster uptime:</td>\n",
       "<td>14 secs</td></tr>\n",
       "<tr><td>H2O cluster version:</td>\n",
       "<td>3.10.4.8</td></tr>\n",
       "<tr><td>H2O cluster version age:</td>\n",
       "<td>1 month and 1 day </td></tr>\n",
       "<tr><td>H2O cluster name:</td>\n",
       "<td>H2O_from_python_youdan_h2ikwk</td></tr>\n",
       "<tr><td>H2O cluster total nodes:</td>\n",
       "<td>1</td></tr>\n",
       "<tr><td>H2O cluster free memory:</td>\n",
       "<td>1.921 Gb</td></tr>\n",
       "<tr><td>H2O cluster total cores:</td>\n",
       "<td>1</td></tr>\n",
       "<tr><td>H2O cluster allowed cores:</td>\n",
       "<td>1</td></tr>\n",
       "<tr><td>H2O cluster status:</td>\n",
       "<td>locked, healthy</td></tr>\n",
       "<tr><td>H2O connection url:</td>\n",
       "<td>http://localhost:54321</td></tr>\n",
       "<tr><td>H2O connection proxy:</td>\n",
       "<td>None</td></tr>\n",
       "<tr><td>H2O internal security:</td>\n",
       "<td>False</td></tr>\n",
       "<tr><td>Python version:</td>\n",
       "<td>3.5.2 final</td></tr></table></div>"
      ],
      "text/plain": [
       "--------------------------  -----------------------------\n",
       "H2O cluster uptime:         14 secs\n",
       "H2O cluster version:        3.10.4.8\n",
       "H2O cluster version age:    1 month and 1 day\n",
       "H2O cluster name:           H2O_from_python_youdan_h2ikwk\n",
       "H2O cluster total nodes:    1\n",
       "H2O cluster free memory:    1.921 Gb\n",
       "H2O cluster total cores:    1\n",
       "H2O cluster allowed cores:  1\n",
       "H2O cluster status:         locked, healthy\n",
       "H2O connection url:         http://localhost:54321\n",
       "H2O connection proxy:\n",
       "H2O internal security:      False\n",
       "Python version:             3.5.2 final\n",
       "--------------------------  -----------------------------"
      ]
     },
     "metadata": {},
     "output_type": "display_data"
    }
   ],
   "source": [
    "import h2o\n",
    "from h2o.estimators.glm import H2OGeneralizedLinearEstimator\n",
    "from h2o.grid.grid_search import H2OGridSearch \n",
    "h2o.init(max_mem_size='2G')  # give h2o as much memory as possible\n",
    "h2o.no_progress() # turn off h2o progress bars\n",
    "\n",
    "import numpy as np\n",
    "import pandas as pd"
   ]
  },
  {
   "cell_type": "code",
   "execution_count": 3,
   "metadata": {},
   "outputs": [
    {
     "name": "stdout",
     "output_type": "stream",
     "text": [
      "(1460, 81)\n",
      "(1459, 81)\n"
     ]
    }
   ],
   "source": [
    "train = h2o.import_file('/home/youdan/Documents/ML_House price/train.csv')\n",
    "test = h2o.import_file('/home/youdan/Documents/ML_House price/test.csv')\n",
    "\n",
    "# bug fix - from Keston\n",
    "dummy_col = np.random.rand(test.shape[0])\n",
    "test = test.cbind(h2o.H2OFrame(dummy_col))\n",
    "cols = test.columns\n",
    "cols[-1] = 'SalePrice'\n",
    "test.columns = cols\n",
    "print(train.shape)\n",
    "print(test.shape)"
   ]
  },
  {
   "cell_type": "code",
   "execution_count": 4,
   "metadata": {
    "collapsed": true
   },
   "outputs": [],
   "source": [
    "def get_type_lists(frame=train, rejects=['Id', 'SalePrice']):\n",
    "\n",
    "    \"\"\"Creates lists of numeric and categorical variables.\n",
    "    \n",
    "    :param frame: The frame from which to determine types.\n",
    "    :param rejects: Variable names not to be included in returned lists.\n",
    "    :return: Tuple of lists for numeric and categorical variables in the frame.\n",
    "    \n",
    "    \"\"\"\n",
    "    \n",
    "    nums, cats = [], []\n",
    "    for key, val in frame.types.items():\n",
    "        if key not in rejects:\n",
    "            if val == 'enum':\n",
    "                cats.append(key)\n",
    "            else: \n",
    "                nums.append(key)\n",
    "                \n",
    "    print('Numeric =', nums)                \n",
    "    print()\n",
    "    print('Categorical =', cats)\n",
    "    \n",
    "    return nums, cats"
   ]
  },
  {
   "cell_type": "code",
   "execution_count": 5,
   "metadata": {},
   "outputs": [
    {
     "name": "stdout",
     "output_type": "stream",
     "text": [
      "Numeric = ['MiscVal', 'GarageCars', 'BedroomAbvGr', 'TotRmsAbvGrd', 'Fireplaces', 'BsmtUnfSF', 'YrSold', '2ndFlrSF', 'GrLivArea', 'YearBuilt', 'PoolArea', '3SsnPorch', 'TotalBsmtSF', 'BsmtFinSF2', 'OverallQual', 'OpenPorchSF', 'MoSold', 'HalfBath', 'GarageYrBlt', 'EnclosedPorch', 'BsmtHalfBath', '1stFlrSF', 'BsmtFinSF1', 'MSSubClass', 'MasVnrArea', 'YearRemodAdd', 'GarageArea', 'ScreenPorch', 'LotArea', 'KitchenAbvGr', 'WoodDeckSF', 'FullBath', 'LowQualFinSF', 'OverallCond', 'BsmtFullBath', 'LotFrontage']\n",
      "\n",
      "Categorical = ['Neighborhood', 'Exterior1st', 'LandSlope', 'Functional', 'CentralAir', 'Alley', 'BsmtCond', 'LotConfig', 'HouseStyle', 'GarageType', 'Exterior2nd', 'FireplaceQu', 'BldgType', 'RoofMatl', 'GarageCond', 'BsmtQual', 'ExterQual', 'BsmtExposure', 'Fence', 'PavedDrive', 'LandContour', 'Street', 'MasVnrType', 'ExterCond', 'Utilities', 'LotShape', 'SaleType', 'MSZoning', 'Condition2', 'GarageQual', 'RoofStyle', 'GarageFinish', 'Heating', 'Condition1', 'PoolQC', 'SaleCondition', 'Electrical', 'BsmtFinType1', 'BsmtFinType2', 'KitchenQual', 'HeatingQC', 'MiscFeature', 'Foundation']\n"
     ]
    }
   ],
   "source": [
    "original_nums, cats = get_type_lists()"
   ]
  },
  {
   "cell_type": "code",
   "execution_count": 6,
   "metadata": {},
   "outputs": [
    {
     "name": "stdout",
     "output_type": "stream",
     "text": [
      "(1001, 81)\n",
      "(459, 81)\n"
     ]
    }
   ],
   "source": [
    "train, valid = train.split_frame([0.7], seed=12345)\n",
    "print(train.shape)\n",
    "print(valid.shape)"
   ]
  },
  {
   "cell_type": "code",
   "execution_count": 7,
   "metadata": {
    "collapsed": true
   },
   "outputs": [],
   "source": [
    "# median usually better than mean\n",
    "# (_ signifies temporary throw-away variable, used to suppress output)\n",
    "_ = train[['MasVnrArea', 'GarageYrBlt', 'LotFrontage']].impute(method='median')\n",
    "_ = valid[['MasVnrArea', 'GarageYrBlt', 'LotFrontage']].impute(method='median')\n",
    "_ = test[['BsmtHalfBath', 'BsmtFinSF1', 'BsmtFullBath', 'BsmtFinSF2', 'BsmtUnfSF', 'MasVnrArea', \n",
    "          'GarageYrBlt', 'LotFrontage', 'GarageCars', 'TotalBsmtSF', 'GarageArea']].impute(method='median')"
   ]
  },
  {
   "cell_type": "code",
   "execution_count": 8,
   "metadata": {
    "collapsed": true
   },
   "outputs": [],
   "source": [
    "def target_encoder(training_frame, test_frame, x, y, lambda_=0.15, threshold=150, test=False):\n",
    "\n",
    "    \"\"\" Applies simple target encoding to categorical variables.\n",
    "\n",
    "    :param training_frame: Training frame which to create target means and to be encoded.\n",
    "    :param test_frame: Test frame to be encoded using information from training frame.\n",
    "    :param x: Name of input variable to be encoded.\n",
    "    :param y: Name of target variable to use for encoding.\n",
    "    :param lambda_: Balance between level mean and overall mean for small groups.\n",
    "    :param threshold: Number below which a level is considered small enough to be shrunken.\n",
    "    :param test: Whether or not to print the row_val_dict for testing purposes.\n",
    "    :return: Tuple of encoded variable from train and test set as H2OFrames.\n",
    "\n",
    "    \"\"\"\n",
    "\n",
    "    # convert to pandas\n",
    "    trdf = training_frame.as_data_frame().loc[:, [x,y]] # df\n",
    "    tss = test_frame.as_data_frame().loc[:, x]          # series\n",
    "\n",
    "\n",
    "    # create dictionary of level:encode val\n",
    "\n",
    "    encode_name = x + '_Tencode'\n",
    "    overall_mean = trdf[y].mean()\n",
    "    row_val_dict = {}\n",
    "\n",
    "    for level in trdf[x].unique():\n",
    "        level_df = trdf[trdf[x] == level][y]\n",
    "        level_n = level_df.shape[0]\n",
    "        level_mean = level_df.mean()\n",
    "        if level_n >= threshold:\n",
    "            row_val_dict[level] = level_mean\n",
    "        else:\n",
    "            row_val_dict[level] = ((1 - lambda_) * level_mean) +\\\n",
    "                                  (lambda_ * overall_mean)\n",
    "\n",
    "    row_val_dict[np.nan] = overall_mean # handle missing values\n",
    "\n",
    "    if test:\n",
    "        print(row_val_dict)\n",
    "\n",
    "    # apply the transform to training data\n",
    "    trdf[encode_name] = trdf[x].apply(lambda i: row_val_dict[i])\n",
    "\n",
    "    # apply the transform to test data\n",
    "    tsdf = pd.DataFrame(columns=[x, encode_name])\n",
    "    tsdf[x] = tss\n",
    "    tsdf.loc[:, encode_name] = overall_mean # handle previously unseen values\n",
    "    # handle values that are seen in tsdf but not row_val_dict\n",
    "    for i, col_i in enumerate(tsdf[x]):\n",
    "        try:\n",
    "            row_val_dict[col_i]\n",
    "        except:\n",
    "            # a value that appeared in tsdf isn't in the row_val_dict so just\n",
    "            # make it the overall_mean\n",
    "            row_val_dict[col_i] = overall_mean\n",
    "    tsdf[encode_name] = tsdf[x].apply(lambda i: row_val_dict[i])\n",
    "\n",
    "\n",
    "    # convert back to H2O\n",
    "\n",
    "    trdf = h2o.H2OFrame(trdf[encode_name].as_matrix())\n",
    "    trdf.columns = [encode_name]\n",
    "\n",
    "    tsdf = h2o.H2OFrame(tsdf[encode_name].as_matrix())\n",
    "    tsdf.columns = [encode_name]\n",
    "\n",
    "    return (trdf, tsdf)"
   ]
  },
  {
   "cell_type": "code",
   "execution_count": 9,
   "metadata": {},
   "outputs": [
    {
     "name": "stdout",
     "output_type": "stream",
     "text": [
      "Encoding: Neighborhood (1/43) ...\n",
      "Encoding: Exterior1st (2/43) ...\n",
      "Encoding: LandSlope (3/43) ...\n",
      "Encoding: Functional (4/43) ...\n",
      "Encoding: CentralAir (5/43) ...\n",
      "Encoding: Alley (6/43) ...\n",
      "Encoding: BsmtCond (7/43) ...\n",
      "Encoding: LotConfig (8/43) ...\n",
      "Encoding: HouseStyle (9/43) ...\n",
      "Encoding: GarageType (10/43) ...\n",
      "Encoding: Exterior2nd (11/43) ...\n",
      "Encoding: FireplaceQu (12/43) ...\n",
      "Encoding: BldgType (13/43) ...\n",
      "Encoding: RoofMatl (14/43) ...\n",
      "Encoding: GarageCond (15/43) ...\n",
      "Encoding: BsmtQual (16/43) ...\n",
      "Encoding: ExterQual (17/43) ...\n",
      "Encoding: BsmtExposure (18/43) ...\n",
      "Encoding: Fence (19/43) ...\n",
      "Encoding: PavedDrive (20/43) ...\n",
      "Encoding: LandContour (21/43) ...\n",
      "Encoding: Street (22/43) ...\n",
      "Encoding: MasVnrType (23/43) ...\n",
      "Encoding: ExterCond (24/43) ...\n",
      "Encoding: Utilities (25/43) ...\n",
      "Encoding: LotShape (26/43) ...\n",
      "Encoding: SaleType (27/43) ...\n",
      "Encoding: MSZoning (28/43) ...\n",
      "Encoding: Condition2 (29/43) ...\n",
      "Encoding: GarageQual (30/43) ...\n",
      "Encoding: RoofStyle (31/43) ...\n",
      "Encoding: GarageFinish (32/43) ...\n",
      "Encoding: Heating (33/43) ...\n",
      "Encoding: Condition1 (34/43) ...\n",
      "Encoding: PoolQC (35/43) ...\n",
      "Encoding: SaleCondition (36/43) ...\n",
      "Encoding: Electrical (37/43) ...\n",
      "Encoding: BsmtFinType1 (38/43) ...\n",
      "Encoding: BsmtFinType2 (39/43) ...\n",
      "Encoding: KitchenQual (40/43) ...\n",
      "Encoding: HeatingQC (41/43) ...\n",
      "Encoding: MiscFeature (42/43) ...\n",
      "Encoding: Foundation (43/43) ...\n",
      "Done.\n"
     ]
    }
   ],
   "source": [
    "total = len(cats)\n",
    "for i, var in enumerate(cats):\n",
    "    \n",
    "    tr_enc, _ = target_encoder(train, test, var, 'SalePrice')\n",
    "    v_enc, ts_enc = target_encoder(valid, test, var, 'SalePrice')\n",
    "    \n",
    "    print('Encoding: ' + var + ' (' + str(i+1) + '/' + str(total) + ') ...')\n",
    "\n",
    "    train = train.cbind(tr_enc)\n",
    "    valid = valid.cbind(v_enc)\n",
    "    test = test.cbind(ts_enc)    \n",
    "    \n",
    "print('Done.')"
   ]
  },
  {
   "cell_type": "code",
   "execution_count": 10,
   "metadata": {},
   "outputs": [
    {
     "name": "stdout",
     "output_type": "stream",
     "text": [
      "Numeric = ['FireplaceQu_Tencode', 'MiscFeature_Tencode', 'CentralAir_Tencode', 'MiscVal', 'GarageCars', 'RoofMatl_Tencode', 'BedroomAbvGr', 'Fence_Tencode', 'BsmtCond_Tencode', 'TotRmsAbvGrd', 'Exterior2nd_Tencode', 'BsmtQual_Tencode', 'Fireplaces', 'ExterQual_Tencode', 'BsmtUnfSF', 'YrSold', '2ndFlrSF', 'GrLivArea', 'Functional_Tencode', 'YearBuilt', 'PoolArea', 'MSZoning_Tencode', 'BldgType_Tencode', 'SaleCondition_Tencode', 'LandSlope_Tencode', '3SsnPorch', 'Exterior1st_Tencode', 'TotalBsmtSF', '1stFlrSF', 'Heating_Tencode', 'LandContour_Tencode', 'Utilities_Tencode', 'BsmtFinSF2', 'OverallQual', 'OpenPorchSF', 'MoSold', 'HalfBath', 'Electrical_Tencode', 'HeatingQC_Tencode', 'SaleType_Tencode', 'Condition2_Tencode', 'PoolQC_Tencode', 'GarageCond_Tencode', 'EnclosedPorch', 'BsmtHalfBath', 'MasVnrType_Tencode', 'LotShape_Tencode', 'BsmtFinSF1', 'KitchenQual_Tencode', 'RoofStyle_Tencode', 'LotConfig_Tencode', 'Alley_Tencode', 'PavedDrive_Tencode', 'Neighborhood_Tencode', 'MasVnrArea', 'GarageYrBlt', 'YearRemodAdd', 'GarageArea', 'GarageType_Tencode', 'ScreenPorch', 'LotArea', 'BsmtFinType1_Tencode', 'MSSubClass', 'GarageFinish_Tencode', 'BsmtFinType2_Tencode', 'Street_Tencode', 'KitchenAbvGr', 'GarageQual_Tencode', 'BsmtExposure_Tencode', 'ExterCond_Tencode', 'WoodDeckSF', 'FullBath', 'LowQualFinSF', 'BsmtFullBath', 'Foundation_Tencode', 'HouseStyle_Tencode', 'OverallCond', 'Condition1_Tencode', 'LotFrontage']\n",
      "\n",
      "Categorical = ['Neighborhood', 'Exterior1st', 'LandSlope', 'Functional', 'CentralAir', 'Alley', 'BsmtCond', 'LotConfig', 'HouseStyle', 'GarageType', 'Exterior2nd', 'FireplaceQu', 'BldgType', 'SaleCondition', 'RoofMatl', 'GarageCond', 'BsmtQual', 'ExterQual', 'BsmtExposure', 'LandContour', 'Fence', 'PavedDrive', 'Street', 'MasVnrType', 'ExterCond', 'Utilities', 'LotShape', 'PoolQC', 'SaleType', 'MSZoning', 'Condition2', 'GarageQual', 'RoofStyle', 'GarageFinish', 'Heating', 'HeatingQC', 'Electrical', 'BsmtFinType1', 'BsmtFinType2', 'KitchenQual', 'Condition1', 'MiscFeature', 'Foundation']\n"
     ]
    }
   ],
   "source": [
    "encoded_nums, cats = get_type_lists(frame=train)"
   ]
  },
  {
   "cell_type": "code",
   "execution_count": 11,
   "metadata": {},
   "outputs": [
    {
     "name": "stdout",
     "output_type": "stream",
     "text": [
      "Imputed and encoded numeric training data:\n",
      "Rows:1001\n",
      "Cols:79\n",
      "\n",
      "\n"
     ]
    },
    {
     "data": {
      "text/html": [
       "<table>\n",
       "<thead>\n",
       "<tr><th>       </th><th>FireplaceQu_Tencode  </th><th>MiscFeature_Tencode  </th><th>CentralAir_Tencode  </th><th>MiscVal           </th><th>GarageCars        </th><th>RoofMatl_Tencode  </th><th>BedroomAbvGr      </th><th>Fence_Tencode     </th><th>BsmtCond_Tencode  </th><th>TotRmsAbvGrd     </th><th>Exterior2nd_Tencode  </th><th>BsmtQual_Tencode  </th><th>Fireplaces        </th><th>ExterQual_Tencode  </th><th>BsmtUnfSF         </th><th>YrSold            </th><th>2ndFlrSF          </th><th>GrLivArea         </th><th>Functional_Tencode  </th><th>YearBuilt         </th><th>PoolArea          </th><th>MSZoning_Tencode  </th><th>BldgType_Tencode  </th><th>SaleCondition_Tencode  </th><th>LandSlope_Tencode  </th><th>3SsnPorch         </th><th>Exterior1st_Tencode  </th><th>TotalBsmtSF       </th><th>1stFlrSF          </th><th>Heating_Tencode   </th><th>LandContour_Tencode  </th><th>Utilities_Tencode  </th><th>BsmtFinSF2        </th><th>OverallQual       </th><th>OpenPorchSF      </th><th>MoSold            </th><th>HalfBath           </th><th>Electrical_Tencode  </th><th>HeatingQC_Tencode  </th><th>SaleType_Tencode  </th><th>Condition2_Tencode  </th><th>PoolQC_Tencode    </th><th>GarageCond_Tencode  </th><th>EnclosedPorch     </th><th>BsmtHalfBath        </th><th>MasVnrType_Tencode  </th><th>LotShape_Tencode  </th><th>BsmtFinSF1       </th><th>KitchenQual_Tencode  </th><th>RoofStyle_Tencode  </th><th>LotConfig_Tencode  </th><th>Alley_Tencode     </th><th>PavedDrive_Tencode  </th><th>Neighborhood_Tencode  </th><th>MasVnrArea        </th><th>GarageYrBlt       </th><th>YearRemodAdd      </th><th>GarageArea        </th><th>GarageType_Tencode  </th><th>ScreenPorch       </th><th>LotArea           </th><th>BsmtFinType1_Tencode  </th><th>MSSubClass       </th><th>GarageFinish_Tencode  </th><th>BsmtFinType2_Tencode  </th><th>Street_Tencode    </th><th>KitchenAbvGr      </th><th>GarageQual_Tencode  </th><th>BsmtExposure_Tencode  </th><th>ExterCond_Tencode  </th><th>WoodDeckSF        </th><th>FullBath          </th><th>LowQualFinSF      </th><th>BsmtFullBath      </th><th>Foundation_Tencode  </th><th>HouseStyle_Tencode  </th><th>OverallCond       </th><th>Condition1_Tencode  </th><th>LotFrontage      </th></tr>\n",
       "</thead>\n",
       "<tbody>\n",
       "<tr><td>type   </td><td>real                 </td><td>real                 </td><td>real                </td><td>int               </td><td>int               </td><td>real              </td><td>int               </td><td>real              </td><td>real              </td><td>int              </td><td>real                 </td><td>real              </td><td>int               </td><td>real               </td><td>int               </td><td>int               </td><td>int               </td><td>int               </td><td>real                </td><td>int               </td><td>int               </td><td>real              </td><td>real              </td><td>real                   </td><td>real               </td><td>int               </td><td>real                 </td><td>int               </td><td>int               </td><td>real              </td><td>real                 </td><td>real               </td><td>int               </td><td>int               </td><td>int              </td><td>int               </td><td>int                </td><td>real                </td><td>real               </td><td>real              </td><td>real                </td><td>real              </td><td>real                </td><td>int               </td><td>int                 </td><td>real                </td><td>real              </td><td>int              </td><td>real                 </td><td>real               </td><td>real               </td><td>real              </td><td>real                </td><td>real                  </td><td>real              </td><td>real              </td><td>int               </td><td>int               </td><td>real                </td><td>int               </td><td>int               </td><td>real                  </td><td>int              </td><td>real                  </td><td>real                  </td><td>real              </td><td>int               </td><td>real                </td><td>real                  </td><td>real               </td><td>int               </td><td>int               </td><td>int               </td><td>int               </td><td>real                </td><td>real                </td><td>int               </td><td>real                </td><td>real             </td></tr>\n",
       "<tr><td>mins   </td><td>141462.34885614386   </td><td>140375.79385614386   </td><td>119608.23368665231  </td><td>0.0               </td><td>0.0               </td><td>143775.79385614386</td><td>0.0               </td><td>141306.73814185814</td><td>84275.79385614385 </td><td>3.0              </td><td>129978.23968947721   </td><td>121216.12093947716</td><td>0.0               </td><td>116078.96885614384 </td><td>0.0               </td><td>2006.0            </td><td>0.0               </td><td>480.0             </td><td>110059.12718947718  </td><td>1875.0            </td><td>0.0               </td><td>78614.79385614385 </td><td>138273.46052281052</td><td>115832.04385614385     </td><td>181486.5182747485  </td><td>0.0               </td><td>78325.79385614385    </td><td>0.0               </td><td>480.0             </td><td>93469.96052281052 </td><td>145140.16285614387   </td><td>144200.79385614386 </td><td>0.0               </td><td>2.0               </td><td>0.0              </td><td>1.0               </td><td>0.0                </td><td>84275.79385614385   </td><td>135668.69902855766 </td><td>125968.29385614385</td><td>108075.79385614385  </td><td>182171.95904095902</td><td>112070.79385614385  </td><td>0.0               </td><td>0.0                 </td><td>155578.6188811189   </td><td>163944.59385614382</td><td>0.0              </td><td>124936.94820396995   </td><td>161577.2224275724  </td><td>176473.2899159664  </td><td>128075.200999001  </td><td>129253.89464979463  </td><td>109690.79385614385    </td><td>0.0               </td><td>1908.0            </td><td>1950.0            </td><td>0.0               </td><td>125174.9605228105   </td><td>0.0               </td><td>1300.0            </td><td>150410.4464877228     </td><td>20.0             </td><td>141354.57177033494    </td><td>154536.9355228105     </td><td>146350.10385614386</td><td>0.0               </td><td>96813.29385614385   </td><td>167645.4123076923     </td><td>122047.14941169939 </td><td>0.0               </td><td>0.0               </td><td>0.0               </td><td>0.0               </td><td>121726.89385614387  </td><td>118907.22242757239  </td><td>2.0               </td><td>134468.29385614386  </td><td>21.0             </td></tr>\n",
       "<tr><td>mean   </td><td>200266.80114860163   </td><td>181198.19224147475   </td><td>182822.70708043198  </td><td>39.684315684315685</td><td>1.7932067932067928</td><td>182033.940055499  </td><td>2.871128871128871 </td><td>177450.87030976015</td><td>184043.11900766572</td><td>6.512487512487513</td><td>183994.52609268858   </td><td>182245.41278741238</td><td>0.6203796203796205</td><td>181095.69602749895 </td><td>575.99000999001   </td><td>2007.8281718281721</td><td>341.7872127872128 </td><td>1519.8011988011988</td><td>182576.245336881    </td><td>1972.2987012987012</td><td>3.3766233766233764</td><td>183387.92640181998</td><td>182849.79797600006</td><td>181541.32494458588     </td><td>182145.0556687069  </td><td>3.4565434565434567</td><td>183565.7137941479    </td><td>1063.2387612387622</td><td>1172.0889110889111</td><td>182323.57985955104</td><td>182186.7329973224    </td><td>182178.65314071544 </td><td>41.64935064935065 </td><td>6.144855144855144 </td><td>44.92407592407592</td><td>6.362637362637364 </td><td>0.38161838161838163</td><td>182952.64128239398  </td><td>182409.7085632649  </td><td>181180.3311701286 </td><td>182224.4420403772   </td><td>182802.8256832079 </td><td>186002.74671607107  </td><td>21.257742257742255</td><td>0.059940059940059943</td><td>180574.40004970055  </td><td>181993.92786324568</td><td>445.5994005994006</td><td>180810.97023994982   </td><td>182159.00869385363 </td><td>181772.161181426   </td><td>180171.38546862724</td><td>182908.18055950044  </td><td>182171.95904095905    </td><td>106.91146881287725</td><td>1978.7345225603353</td><td>1985.1388611388606</td><td>477.4685314685315 </td><td>185255.62265751231  </td><td>14.763236763236764</td><td>10628.262737262741</td><td>185645.7951523501     </td><td>57.08791208791207</td><td>185712.8721618042     </td><td>184056.75787594027    </td><td>182203.53498429657</td><td>1.0469530469530466</td><td>186018.3297154892   </td><td>182844.62529074325    </td><td>182637.2350592465  </td><td>91.07392607392606 </td><td>1.5744255744255748</td><td>5.9250749250749255</td><td>0.4265734265734267</td><td>183119.90242260235  </td><td>183188.25635258848  </td><td>5.583416583416583 </td><td>182645.11776425372  </td><td>70.59975669099758</td></tr>\n",
       "<tr><td>maxs   </td><td>306119.08332982805   </td><td>239825.79385614384   </td><td>186782.0            </td><td>15500.0           </td><td>4.0               </td><td>669075.7938561438 </td><td>8.0               </td><td>182171.95904095902</td><td>212500.14385614384</td><td>14.0             </td><td>298475.79385614384   </td><td>312352.66653056245</td><td>3.0               </td><td>348876.58744588745 </td><td>2153.0            </td><td>2010.0            </td><td>2065.0            </td><td>5642.0            </td><td>185063.63879957132  </td><td>2010.0            </td><td>738.0             </td><td>204495.20385614387</td><td>187595.7541966427 </td><td>260380.61674771016     </td><td>200379.84385614382 </td><td>508.0             </td><td>250025.79385614384   </td><td>6110.0            </td><td>4692.0            </td><td>185483.95814185814</td><td>215016.8662245649    </td><td>182216.631         </td><td>1127.0            </td><td>10.0              </td><td>523.0            </td><td>12.0              </td><td>2.0                </td><td>187738.31270358307  </td><td>216426.0           </td><td>263880.6876061438 </td><td>269469.54385614384  </td><td>443825.79385614384</td><td>188146.7502726281   </td><td>552.0             </td><td>2.0                 </td><td>256064.37787676242  </td><td>220137.0973044197 </td><td>5644.0           </td><td>305958.08769176033   </td><td>248325.79385614384 </td><td>215932.78135614385 </td><td>182171.95904095902</td><td>187523.8671023965   </td><td>329868.3581418581     </td><td>1378.0            </td><td>2010.0            </td><td>2010.0            </td><td>1418.0            </td><td>243875.54558028182  </td><td>440.0             </td><td>164660.0          </td><td>236446.98648648648    </td><td>190.0            </td><td>243708.832            </td><td>218122.46052281052    </td><td>182383.5220883534 </td><td>3.0               </td><td>222252.04385614384  </td><td>243510.2073978105     </td><td>185708.33940774488 </td><td>736.0             </td><td>3.0               </td><td>528.0             </td><td>3.0               </td><td>226465.8274336283   </td><td>210965.119205298    </td><td>9.0               </td><td>219155.3393106893   </td><td>313.0            </td></tr>\n",
       "<tr><td>sigma  </td><td>24220.26519043972    </td><td>5900.12706884176     </td><td>15828.294334486287  </td><td>516.2493547150991 </td><td>0.7349787794173422</td><td>15980.206375764046</td><td>0.8052177496650359</td><td>11076.460716121792</td><td>10415.5288163924  </td><td>1.587480364002625</td><td>30224.673393447134   </td><td>49068.18360107548 </td><td>0.6416730131026672</td><td>52277.89924581869  </td><td>444.45750741786316</td><td>1.3169835057606325</td><td>432.90859505942325</td><td>520.2774292995628 </td><td>9673.472750816683   </td><td>29.873026099002573</td><td>43.98791894358055 </td><td>22616.41995033149 </td><td>13615.684128255081</td><td>24904.825355766643     </td><td>1835.4154172265185 </td><td>29.83605804459362 </td><td>29589.150408848316   </td><td>450.46835397846087</td><td>392.4739572085174 </td><td>8588.039549532366 </td><td>11064.930655592709   </td><td>1201.5656926005151 </td><td>148.91838678308974</td><td>1.3535124690951335</td><td>63.01874506660878</td><td>2.6768195003329303</td><td>0.500221729058003  </td><td>16469.485082849515  </td><td>35398.540443061385 </td><td>25459.930478733866</td><td>6389.719881512636   </td><td>11861.80122991298 </td><td>10671.429849329992  </td><td>61.04442237008637 </td><td>0.24577143121932707 </td><td>32873.17832435438   </td><td>21926.25817117466 </td><td>467.1732658871227</td><td>49556.815992526295   </td><td>20695.377655471337 </td><td>10669.0402255879   </td><td>9252.695490054048 </td><td>15415.629575665143  </td><td>51529.93244080358     </td><td>179.4411497100248 </td><td>24.075751996724126</td><td>20.60683620310741 </td><td>209.92257920181257</td><td>34065.80911242865   </td><td>54.16981527671003 </td><td>9442.373107111374 </td><td>33760.02487150487     </td><td>42.22127738162671</td><td>41548.007813036085    </td><td>7125.754339386591     </td><td>2541.5759666990516</td><td>0.2253734828971829</td><td>11950.130371967634  </td><td>24443.645488332317    </td><td>9945.861000354022  </td><td>120.05044160464604</td><td>0.553809800116696 </td><td>49.51948485817861 </td><td>0.5204355357324735</td><td>39735.240377141236  </td><td>21247.331540214993  </td><td>1.0887078190610717</td><td>13080.75973520576   </td><td>22.74966637011054</td></tr>\n",
       "<tr><td>zeros  </td><td>0                    </td><td>0                    </td><td>0                   </td><td>969               </td><td>48                </td><td>0                 </td><td>4                 </td><td>0                 </td><td>0                 </td><td>0                </td><td>0                    </td><td>0                 </td><td>466               </td><td>0                  </td><td>78                </td><td>0                 </td><td>572               </td><td>0                 </td><td>0                   </td><td>0                 </td><td>995               </td><td>0                 </td><td>0                 </td><td>0                      </td><td>0                  </td><td>985               </td><td>0                    </td><td>25                </td><td>0                 </td><td>0                 </td><td>0                    </td><td>0                  </td><td>894               </td><td>0                 </td><td>460              </td><td>0                 </td><td>626                </td><td>0                   </td><td>0                  </td><td>0                 </td><td>0                   </td><td>0                 </td><td>0                   </td><td>867               </td><td>943                 </td><td>0                   </td><td>0                 </td><td>326              </td><td>0                    </td><td>0                  </td><td>0                  </td><td>0                 </td><td>0                   </td><td>0                     </td><td>570               </td><td>0                 </td><td>0                 </td><td>48                </td><td>0                   </td><td>921               </td><td>0                 </td><td>0                     </td><td>0                </td><td>0                     </td><td>0                     </td><td>0                 </td><td>1                 </td><td>0                   </td><td>0                     </td><td>0                  </td><td>523               </td><td>6                 </td><td>984               </td><td>586               </td><td>0                   </td><td>0                   </td><td>0                 </td><td>0                   </td><td>0                </td></tr>\n",
       "<tr><td>missing</td><td>0                    </td><td>0                    </td><td>0                   </td><td>0                 </td><td>0                 </td><td>0                 </td><td>0                 </td><td>0                 </td><td>0                 </td><td>0                </td><td>0                    </td><td>0                 </td><td>0                 </td><td>0                  </td><td>0                 </td><td>0                 </td><td>0                 </td><td>0                 </td><td>0                   </td><td>0                 </td><td>0                 </td><td>0                 </td><td>0                 </td><td>0                      </td><td>0                  </td><td>0                 </td><td>0                    </td><td>0                 </td><td>0                 </td><td>0                 </td><td>0                    </td><td>0                  </td><td>0                 </td><td>0                 </td><td>0                </td><td>0                 </td><td>0                  </td><td>0                   </td><td>0                  </td><td>0                 </td><td>0                   </td><td>0                 </td><td>0                   </td><td>0                 </td><td>0                   </td><td>0                   </td><td>0                 </td><td>0                </td><td>0                    </td><td>0                  </td><td>0                  </td><td>0                 </td><td>0                   </td><td>0                     </td><td>0                 </td><td>0                 </td><td>0                 </td><td>0                 </td><td>0                   </td><td>0                 </td><td>0                 </td><td>0                     </td><td>0                </td><td>0                     </td><td>0                     </td><td>0                 </td><td>0                 </td><td>0                   </td><td>0                     </td><td>0                  </td><td>0                 </td><td>0                 </td><td>0                 </td><td>0                 </td><td>0                   </td><td>0                   </td><td>0                 </td><td>0                   </td><td>0                </td></tr>\n",
       "<tr><td>0      </td><td>182171.95904095902   </td><td>182171.95904095902   </td><td>186782.0            </td><td>0.0               </td><td>2.0               </td><td>181235.93597560975</td><td>3.0               </td><td>182171.95904095902</td><td>184737.95170142702</td><td>8.0              </td><td>216626.9093484419    </td><td>200924.0538641686 </td><td>0.0               </td><td>229333.4454277286  </td><td>150.0             </td><td>2008.0            </td><td>854.0             </td><td>1710.0            </td><td>185063.63879957132  </td><td>2003.0            </td><td>0.0               </td><td>192391.8022670025 </td><td>187595.7541966427 </td><td>177020.8800489596      </td><td>181982.57594936708 </td><td>0.0               </td><td>216859.7290502793    </td><td>856.0             </td><td>856.0             </td><td>183201.27365208542</td><td>182282.48766816143   </td><td>182216.631         </td><td>0.0               </td><td>7.0               </td><td>61.0             </td><td>2.0               </td><td>1.0                </td><td>187738.31270358307  </td><td>216426.0           </td><td>174574.41216991964</td><td>182525.73333333334  </td><td>182171.95904095902</td><td>188146.7502726281   </td><td>0.0               </td><td>0.0                 </td><td>203515.30891719743  </td><td>165131.57073954982</td><td>706.0            </td><td>212221.98514851482   </td><td>171522.79741935484 </td><td>176473.2899159664  </td><td>182171.95904095902</td><td>187523.8671023965   </td><td>197940.3021894772     </td><td>196.0             </td><td>2003.0            </td><td>2003.0            </td><td>548.0             </td><td>203664.60358890702  </td><td>0.0               </td><td>8450.0            </td><td>236446.98648648648    </td><td>60.0             </td><td>200494.42807017543    </td><td>185630.71806674334    </td><td>182383.5220883534 </td><td>1.0               </td><td>188334.07174392935  </td><td>167645.4123076923     </td><td>185708.33940774488 </td><td>0.0               </td><td>2.0               </td><td>0.0               </td><td>1.0               </td><td>226465.8274336283   </td><td>210965.119205298    </td><td>5.0               </td><td>185776.46347031964  </td><td>65.0             </td></tr>\n",
       "<tr><td>1      </td><td>204076.0357142857    </td><td>182171.95904095902   </td><td>186782.0            </td><td>0.0               </td><td>2.0               </td><td>181235.93597560975</td><td>3.0               </td><td>182171.95904095902</td><td>184737.95170142702</td><td>6.0              </td><td>155721.17213200592   </td><td>200924.0538641686 </td><td>1.0               </td><td>144619.2755267423  </td><td>284.0             </td><td>2007.0            </td><td>0.0               </td><td>1262.0            </td><td>185063.63879957132  </td><td>1976.0            </td><td>0.0               </td><td>192391.8022670025 </td><td>187595.7541966427 </td><td>177020.8800489596      </td><td>181982.57594936708 </td><td>0.0               </td><td>155330.24861804862   </td><td>1262.0            </td><td>1262.0            </td><td>183201.27365208542</td><td>182282.48766816143   </td><td>182216.631         </td><td>0.0               </td><td>6.0               </td><td>0.0              </td><td>5.0               </td><td>0.0                </td><td>187738.31270358307  </td><td>216426.0           </td><td>174574.41216991964</td><td>182525.73333333334  </td><td>182171.95904095902</td><td>188146.7502726281   </td><td>0.0               </td><td>1.0                 </td><td>155578.6188811189   </td><td>165131.57073954982</td><td>978.0            </td><td>139811.59481037923   </td><td>171522.79741935484 </td><td>178818.25814185815 </td><td>182171.95904095902</td><td>187523.8671023965   </td><td>218575.79385614384    </td><td>0.0               </td><td>1976.0            </td><td>1976.0            </td><td>460.0             </td><td>203664.60358890702  </td><td>0.0               </td><td>9600.0            </td><td>161782.77448994666    </td><td>20.0             </td><td>200494.42807017543    </td><td>185630.71806674334    </td><td>182383.5220883534 </td><td>1.0               </td><td>188334.07174392935  </td><td>243510.2073978105     </td><td>185708.33940774488 </td><td>298.0             </td><td>2.0               </td><td>0.0               </td><td>0.0               </td><td>150397.2807424594   </td><td>178321.97183098592  </td><td>8.0               </td><td>147024.1605228105   </td><td>80.0             </td></tr>\n",
       "<tr><td>2      </td><td>204076.0357142857    </td><td>182171.95904095902   </td><td>186782.0            </td><td>0.0               </td><td>2.0               </td><td>181235.93597560975</td><td>3.0               </td><td>182171.95904095902</td><td>184737.95170142702</td><td>6.0              </td><td>216626.9093484419    </td><td>200924.0538641686 </td><td>1.0               </td><td>229333.4454277286  </td><td>434.0             </td><td>2008.0            </td><td>866.0             </td><td>1786.0            </td><td>185063.63879957132  </td><td>2001.0            </td><td>0.0               </td><td>192391.8022670025 </td><td>187595.7541966427 </td><td>177020.8800489596      </td><td>181982.57594936708 </td><td>0.0               </td><td>216859.7290502793    </td><td>920.0             </td><td>920.0             </td><td>183201.27365208542</td><td>182282.48766816143   </td><td>182216.631         </td><td>0.0               </td><td>7.0               </td><td>42.0             </td><td>9.0               </td><td>1.0                </td><td>187738.31270358307  </td><td>216426.0           </td><td>174574.41216991964</td><td>182525.73333333334  </td><td>182171.95904095902</td><td>188146.7502726281   </td><td>0.0               </td><td>0.0                 </td><td>203515.30891719743  </td><td>209450.39420289855</td><td>486.0            </td><td>212221.98514851482   </td><td>171522.79741935484 </td><td>176473.2899159664  </td><td>182171.95904095902</td><td>187523.8671023965   </td><td>197940.3021894772     </td><td>162.0             </td><td>2001.0            </td><td>2002.0            </td><td>608.0             </td><td>203664.60358890702  </td><td>0.0               </td><td>11250.0           </td><td>236446.98648648648    </td><td>60.0             </td><td>200494.42807017543    </td><td>185630.71806674334    </td><td>182383.5220883534 </td><td>1.0               </td><td>188334.07174392935  </td><td>187129.2701381951     </td><td>185708.33940774488 </td><td>0.0               </td><td>2.0               </td><td>0.0               </td><td>1.0               </td><td>226465.8274336283   </td><td>210965.119205298    </td><td>5.0               </td><td>185776.46347031964  </td><td>68.0             </td></tr>\n",
       "<tr><td>3      </td><td>204076.0357142857    </td><td>182171.95904095902   </td><td>186782.0            </td><td>0.0               </td><td>3.0               </td><td>181235.93597560975</td><td>4.0               </td><td>182171.95904095902</td><td>184737.95170142702</td><td>9.0              </td><td>216626.9093484419    </td><td>200924.0538641686 </td><td>1.0               </td><td>229333.4454277286  </td><td>490.0             </td><td>2008.0            </td><td>1053.0            </td><td>2198.0            </td><td>185063.63879957132  </td><td>2000.0            </td><td>0.0               </td><td>192391.8022670025 </td><td>187595.7541966427 </td><td>177020.8800489596      </td><td>181982.57594936708 </td><td>0.0               </td><td>216859.7290502793    </td><td>1145.0            </td><td>1145.0            </td><td>183201.27365208542</td><td>182282.48766816143   </td><td>182216.631         </td><td>0.0               </td><td>8.0               </td><td>84.0             </td><td>12.0              </td><td>1.0                </td><td>187738.31270358307  </td><td>216426.0           </td><td>174574.41216991964</td><td>182525.73333333334  </td><td>182171.95904095902</td><td>188146.7502726281   </td><td>0.0               </td><td>0.0                 </td><td>203515.30891719743  </td><td>209450.39420289855</td><td>655.0            </td><td>212221.98514851482   </td><td>171522.79741935484 </td><td>178818.25814185815 </td><td>182171.95904095902</td><td>187523.8671023965   </td><td>329868.3581418581     </td><td>350.0             </td><td>2000.0            </td><td>2000.0            </td><td>836.0             </td><td>203664.60358890702  </td><td>0.0               </td><td>14260.0           </td><td>236446.98648648648    </td><td>60.0             </td><td>200494.42807017543    </td><td>185630.71806674334    </td><td>182383.5220883534 </td><td>1.0               </td><td>188334.07174392935  </td><td>207605.41721854304    </td><td>185708.33940774488 </td><td>192.0             </td><td>2.0               </td><td>0.0               </td><td>1.0               </td><td>226465.8274336283   </td><td>210965.119205298    </td><td>5.0               </td><td>185776.46347031964  </td><td>84.0             </td></tr>\n",
       "<tr><td>4      </td><td>182171.95904095902   </td><td>151058.18256582128   </td><td>186782.0            </td><td>700.0             </td><td>2.0               </td><td>181235.93597560975</td><td>1.0               </td><td>154576.6979101979 </td><td>184737.95170142702</td><td>5.0              </td><td>216626.9093484419    </td><td>200924.0538641686 </td><td>0.0               </td><td>144619.2755267423  </td><td>64.0              </td><td>2009.0            </td><td>566.0             </td><td>1362.0            </td><td>185063.63879957132  </td><td>1993.0            </td><td>0.0               </td><td>192391.8022670025 </td><td>187595.7541966427 </td><td>177020.8800489596      </td><td>181982.57594936708 </td><td>320.0             </td><td>216859.7290502793    </td><td>796.0             </td><td>796.0             </td><td>183201.27365208542</td><td>182282.48766816143   </td><td>182216.631         </td><td>0.0               </td><td>5.0               </td><td>30.0             </td><td>10.0              </td><td>1.0                </td><td>187738.31270358307  </td><td>216426.0           </td><td>174574.41216991964</td><td>182525.73333333334  </td><td>182171.95904095902</td><td>188146.7502726281   </td><td>0.0               </td><td>0.0                 </td><td>155578.6188811189   </td><td>209450.39420289855</td><td>732.0            </td><td>139811.59481037923   </td><td>171522.79741935484 </td><td>176473.2899159664  </td><td>182171.95904095902</td><td>187523.8671023965   </td><td>157653.3733433233     </td><td>0.0               </td><td>1993.0            </td><td>1995.0            </td><td>480.0             </td><td>203664.60358890702  </td><td>0.0               </td><td>14115.0           </td><td>236446.98648648648    </td><td>50.0             </td><td>141354.57177033494    </td><td>185630.71806674334    </td><td>182383.5220883534 </td><td>1.0               </td><td>188334.07174392935  </td><td>167645.4123076923     </td><td>185708.33940774488 </td><td>40.0              </td><td>1.0               </td><td>0.0               </td><td>1.0               </td><td>185142.46052281052  </td><td>149995.43881027232  </td><td>5.0               </td><td>185776.46347031964  </td><td>85.0             </td></tr>\n",
       "<tr><td>5      </td><td>225928.18076923073   </td><td>182171.95904095902   </td><td>186782.0            </td><td>0.0               </td><td>2.0               </td><td>181235.93597560975</td><td>3.0               </td><td>182171.95904095902</td><td>184737.95170142702</td><td>7.0              </td><td>216626.9093484419    </td><td>312352.66653056245</td><td>1.0               </td><td>229333.4454277286  </td><td>317.0             </td><td>2007.0            </td><td>0.0               </td><td>1694.0            </td><td>185063.63879957132  </td><td>2004.0            </td><td>0.0               </td><td>192391.8022670025 </td><td>187595.7541966427 </td><td>177020.8800489596      </td><td>181982.57594936708 </td><td>0.0               </td><td>216859.7290502793    </td><td>1686.0            </td><td>1694.0            </td><td>183201.27365208542</td><td>182282.48766816143   </td><td>182216.631         </td><td>0.0               </td><td>8.0               </td><td>57.0             </td><td>8.0               </td><td>0.0                </td><td>187738.31270358307  </td><td>216426.0           </td><td>174574.41216991964</td><td>182525.73333333334  </td><td>182171.95904095902</td><td>188146.7502726281   </td><td>0.0               </td><td>0.0                 </td><td>256064.37787676242  </td><td>165131.57073954982</td><td>1369.0           </td><td>212221.98514851482   </td><td>171522.79741935484 </td><td>176473.2899159664  </td><td>182171.95904095902</td><td>187523.8671023965   </td><td>214617.5167374998     </td><td>186.0             </td><td>2004.0            </td><td>2005.0            </td><td>636.0             </td><td>203664.60358890702  </td><td>0.0               </td><td>10084.0           </td><td>236446.98648648648    </td><td>20.0             </td><td>200494.42807017543    </td><td>185630.71806674334    </td><td>182383.5220883534 </td><td>1.0               </td><td>188334.07174392935  </td><td>207605.41721854304    </td><td>185708.33940774488 </td><td>255.0             </td><td>2.0               </td><td>0.0               </td><td>1.0               </td><td>226465.8274336283   </td><td>178321.97183098592  </td><td>5.0               </td><td>185776.46347031964  </td><td>75.0             </td></tr>\n",
       "<tr><td>6      </td><td>204076.0357142857    </td><td>182171.95904095902   </td><td>186782.0            </td><td>0.0               </td><td>2.0               </td><td>181235.93597560975</td><td>2.0               </td><td>182171.95904095902</td><td>184737.95170142702</td><td>8.0              </td><td>153754.05472570908   </td><td>141930.00455580864</td><td>2.0               </td><td>144619.2755267423  </td><td>952.0             </td><td>2008.0            </td><td>752.0             </td><td>1774.0            </td><td>153787.09385614382  </td><td>1931.0            </td><td>0.0               </td><td>135492.29843360864</td><td>187595.7541966427 </td><td>153108.76116383614     </td><td>181982.57594936708 </td><td>0.0               </td><td>174764.54385614384   </td><td>952.0             </td><td>1022.0            </td><td>183201.27365208542</td><td>182282.48766816143   </td><td>182216.631         </td><td>0.0               </td><td>7.0               </td><td>0.0              </td><td>4.0               </td><td>0.0                </td><td>129502.64385614383  </td><td>157465.01829268291 </td><td>174574.41216991964</td><td>182525.73333333334  </td><td>182171.95904095902</td><td>188146.7502726281   </td><td>205.0             </td><td>0.0                 </td><td>155578.6188811189   </td><td>165131.57073954982</td><td>0.0              </td><td>139811.59481037923   </td><td>171522.79741935484 </td><td>176473.2899159664  </td><td>182171.95904095902</td><td>187523.8671023965   </td><td>133772.61742757243    </td><td>0.0               </td><td>1931.0            </td><td>1950.0            </td><td>468.0             </td><td>133017.2480620155   </td><td>0.0               </td><td>6120.0            </td><td>172096.88704318934    </td><td>50.0             </td><td>141354.57177033494    </td><td>185630.71806674334    </td><td>182383.5220883534 </td><td>2.0               </td><td>131334.20218947722  </td><td>167645.4123076923     </td><td>185708.33940774488 </td><td>90.0              </td><td>2.0               </td><td>0.0               </td><td>0.0               </td><td>136922.75385614386  </td><td>149995.43881027232  </td><td>5.0               </td><td>134468.29385614386  </td><td>51.0             </td></tr>\n",
       "<tr><td>7      </td><td>182171.95904095902   </td><td>182171.95904095902   </td><td>186782.0            </td><td>0.0               </td><td>1.0               </td><td>181235.93597560975</td><td>3.0               </td><td>182171.95904095902</td><td>184737.95170142702</td><td>5.0              </td><td>169688.48681389034   </td><td>141930.00455580864</td><td>0.0               </td><td>144619.2755267423  </td><td>134.0             </td><td>2008.0            </td><td>0.0               </td><td>1040.0            </td><td>185063.63879957132  </td><td>1965.0            </td><td>0.0               </td><td>192391.8022670025 </td><td>187595.7541966427 </td><td>177020.8800489596      </td><td>181982.57594936708 </td><td>0.0               </td><td>162189.7051282051    </td><td>1040.0            </td><td>1040.0            </td><td>183201.27365208542</td><td>182282.48766816143   </td><td>182216.631         </td><td>0.0               </td><td>5.0               </td><td>0.0              </td><td>2.0               </td><td>0.0                </td><td>187738.31270358307  </td><td>216426.0           </td><td>174574.41216991964</td><td>182525.73333333334  </td><td>182171.95904095902</td><td>188146.7502726281   </td><td>0.0               </td><td>0.0                 </td><td>155578.6188811189   </td><td>165131.57073954982</td><td>906.0            </td><td>139811.59481037923   </td><td>222601.05940594056 </td><td>176473.2899159664  </td><td>182171.95904095902</td><td>187523.8671023965   </td><td>143540.98922651424    </td><td>0.0               </td><td>1965.0            </td><td>1965.0            </td><td>384.0             </td><td>133017.2480620155   </td><td>0.0               </td><td>11200.0           </td><td>150410.4464877228     </td><td>20.0             </td><td>141354.57177033494    </td><td>185630.71806674334    </td><td>182383.5220883534 </td><td>1.0               </td><td>188334.07174392935  </td><td>167645.4123076923     </td><td>185708.33940774488 </td><td>0.0               </td><td>1.0               </td><td>0.0               </td><td>1.0               </td><td>150397.2807424594   </td><td>178321.97183098592  </td><td>5.0               </td><td>185776.46347031964  </td><td>70.0             </td></tr>\n",
       "<tr><td>8      </td><td>225928.18076923073   </td><td>182171.95904095902   </td><td>186782.0            </td><td>0.0               </td><td>3.0               </td><td>181235.93597560975</td><td>4.0               </td><td>182171.95904095902</td><td>184737.95170142702</td><td>11.0             </td><td>153754.05472570908   </td><td>312352.66653056245</td><td>2.0               </td><td>348876.58744588745 </td><td>177.0             </td><td>2006.0            </td><td>1142.0            </td><td>2324.0            </td><td>185063.63879957132  </td><td>2005.0            </td><td>0.0               </td><td>192391.8022670025 </td><td>187595.7541966427 </td><td>260380.61674771016     </td><td>181982.57594936708 </td><td>0.0               </td><td>155487.09385614382   </td><td>1175.0            </td><td>1182.0            </td><td>183201.27365208542</td><td>182282.48766816143   </td><td>182216.631         </td><td>0.0               </td><td>9.0               </td><td>21.0             </td><td>7.0               </td><td>0.0                </td><td>187738.31270358307  </td><td>216426.0           </td><td>263880.6876061438 </td><td>182525.73333333334  </td><td>182171.95904095902</td><td>188146.7502726281   </td><td>0.0               </td><td>0.0                 </td><td>256064.37787676242  </td><td>209450.39420289855</td><td>998.0            </td><td>305958.08769176033   </td><td>222601.05940594056 </td><td>176473.2899159664  </td><td>182171.95904095902</td><td>187523.8671023965   </td><td>301677.8909715284     </td><td>286.0             </td><td>2005.0            </td><td>2006.0            </td><td>736.0             </td><td>243875.54558028182  </td><td>0.0               </td><td>11924.0           </td><td>236446.98648648648    </td><td>60.0             </td><td>243708.832            </td><td>185630.71806674334    </td><td>182383.5220883534 </td><td>1.0               </td><td>188334.07174392935  </td><td>167645.4123076923     </td><td>185708.33940774488 </td><td>147.0             </td><td>3.0               </td><td>0.0               </td><td>1.0               </td><td>226465.8274336283   </td><td>210965.119205298    </td><td>5.0               </td><td>185776.46347031964  </td><td>85.0             </td></tr>\n",
       "<tr><td>9      </td><td>182171.95904095902   </td><td>182171.95904095902   </td><td>186782.0            </td><td>0.0               </td><td>1.0               </td><td>181235.93597560975</td><td>2.0               </td><td>182171.95904095902</td><td>184737.95170142702</td><td>4.0              </td><td>172512.37104060987   </td><td>141930.00455580864</td><td>0.0               </td><td>144619.2755267423  </td><td>175.0             </td><td>2008.0            </td><td>0.0               </td><td>912.0             </td><td>185063.63879957132  </td><td>1962.0            </td><td>0.0               </td><td>192391.8022670025 </td><td>187595.7541966427 </td><td>177020.8800489596      </td><td>181982.57594936708 </td><td>0.0               </td><td>162189.7051282051    </td><td>912.0             </td><td>912.0             </td><td>183201.27365208542</td><td>182282.48766816143   </td><td>182216.631         </td><td>0.0               </td><td>5.0               </td><td>0.0              </td><td>9.0               </td><td>0.0                </td><td>187738.31270358307  </td><td>141464.28231292518 </td><td>174574.41216991964</td><td>182525.73333333334  </td><td>182171.95904095902</td><td>188146.7502726281   </td><td>0.0               </td><td>0.0                 </td><td>155578.6188811189   </td><td>220137.0973044197 </td><td>737.0            </td><td>139811.59481037923   </td><td>222601.05940594056 </td><td>176473.2899159664  </td><td>182171.95904095902</td><td>187523.8671023965   </td><td>143540.98922651424    </td><td>0.0               </td><td>1962.0            </td><td>1962.0            </td><td>352.0             </td><td>133017.2480620155   </td><td>176.0             </td><td>12968.0           </td><td>161782.77448994666    </td><td>20.0             </td><td>141354.57177033494    </td><td>185630.71806674334    </td><td>182383.5220883534 </td><td>1.0               </td><td>188334.07174392935  </td><td>167645.4123076923     </td><td>185708.33940774488 </td><td>140.0             </td><td>1.0               </td><td>0.0               </td><td>1.0               </td><td>150397.2807424594   </td><td>178321.97183098592  </td><td>6.0               </td><td>185776.46347031964  </td><td>70.59975669099755</td></tr>\n",
       "</tbody>\n",
       "</table>"
      ]
     },
     "metadata": {},
     "output_type": "display_data"
    },
    {
     "name": "stdout",
     "output_type": "stream",
     "text": [
      "--------------------------------------------------------------------------------\n",
      "Imputed and encoded numeric validation data:\n",
      "Rows:459\n",
      "Cols:79\n",
      "\n",
      "\n"
     ]
    },
    {
     "data": {
      "text/html": [
       "<table>\n",
       "<thead>\n",
       "<tr><th>       </th><th>FireplaceQu_Tencode  </th><th>MiscFeature_Tencode  </th><th>CentralAir_Tencode  </th><th>MiscVal           </th><th>GarageCars        </th><th>RoofMatl_Tencode  </th><th>BedroomAbvGr      </th><th>Fence_Tencode     </th><th>BsmtCond_Tencode  </th><th>TotRmsAbvGrd      </th><th>Exterior2nd_Tencode  </th><th>BsmtQual_Tencode  </th><th>Fireplaces        </th><th>ExterQual_Tencode  </th><th>BsmtUnfSF        </th><th>YrSold            </th><th>2ndFlrSF         </th><th>GrLivArea         </th><th>Functional_Tencode  </th><th>YearBuilt         </th><th>PoolArea          </th><th>MSZoning_Tencode  </th><th>BldgType_Tencode  </th><th>SaleCondition_Tencode  </th><th>LandSlope_Tencode  </th><th>3SsnPorch         </th><th>Exterior1st_Tencode  </th><th>TotalBsmtSF       </th><th>1stFlrSF          </th><th>Heating_Tencode   </th><th>LandContour_Tencode  </th><th>Utilities_Tencode     </th><th>BsmtFinSF2        </th><th>OverallQual       </th><th>OpenPorchSF      </th><th>MoSold           </th><th>HalfBath           </th><th>Electrical_Tencode  </th><th>HeatingQC_Tencode  </th><th>SaleType_Tencode  </th><th>Condition2_Tencode  </th><th>PoolQC_Tencode    </th><th>GarageCond_Tencode  </th><th>EnclosedPorch    </th><th>BsmtHalfBath       </th><th>MasVnrType_Tencode  </th><th>LotShape_Tencode  </th><th>BsmtFinSF1        </th><th>KitchenQual_Tencode  </th><th>RoofStyle_Tencode  </th><th>LotConfig_Tencode  </th><th>Alley_Tencode     </th><th>PavedDrive_Tencode  </th><th>Neighborhood_Tencode  </th><th>MasVnrArea       </th><th>GarageYrBlt       </th><th>YearRemodAdd      </th><th>GarageArea       </th><th>GarageType_Tencode  </th><th>ScreenPorch       </th><th>LotArea           </th><th>BsmtFinType1_Tencode  </th><th>MSSubClass       </th><th>GarageFinish_Tencode  </th><th>BsmtFinType2_Tencode  </th><th>Street_Tencode    </th><th>KitchenAbvGr       </th><th>GarageQual_Tencode  </th><th>BsmtExposure_Tencode  </th><th>ExterCond_Tencode  </th><th>WoodDeckSF        </th><th>FullBath          </th><th>LowQualFinSF     </th><th>BsmtFullBath      </th><th>Foundation_Tencode  </th><th>HouseStyle_Tencode  </th><th>OverallCond      </th><th>Condition1_Tencode  </th><th>LotFrontage       </th></tr>\n",
       "</thead>\n",
       "<tbody>\n",
       "<tr><td>type   </td><td>real                 </td><td>real                 </td><td>real                </td><td>int               </td><td>int               </td><td>real              </td><td>int               </td><td>real              </td><td>real              </td><td>int               </td><td>real                 </td><td>real              </td><td>int               </td><td>real               </td><td>int              </td><td>int               </td><td>int              </td><td>int               </td><td>real                </td><td>int               </td><td>int               </td><td>real              </td><td>real              </td><td>real                   </td><td>real               </td><td>int               </td><td>real                 </td><td>int               </td><td>int               </td><td>real              </td><td>real                 </td><td>real                  </td><td>int               </td><td>int               </td><td>int              </td><td>int              </td><td>int                </td><td>real                </td><td>real               </td><td>real              </td><td>real                </td><td>real              </td><td>real                </td><td>int              </td><td>int                </td><td>real                </td><td>real              </td><td>int               </td><td>real                 </td><td>real               </td><td>real               </td><td>real              </td><td>real                </td><td>real                  </td><td>real             </td><td>real              </td><td>int               </td><td>int              </td><td>real                </td><td>int               </td><td>int               </td><td>real                  </td><td>int              </td><td>real                  </td><td>real                  </td><td>real              </td><td>int                </td><td>real                </td><td>real                  </td><td>real               </td><td>int               </td><td>int               </td><td>int              </td><td>int               </td><td>real                </td><td>real                </td><td>int              </td><td>real                </td><td>real              </td></tr>\n",
       "<tr><td>mins   </td><td>133191.52450980392   </td><td>73479.02450980392    </td><td>111601.52450980392  </td><td>0.0               </td><td>0.0               </td><td>175904.02450980392</td><td>0.0               </td><td>133419.96200980392</td><td>78579.02450980392 </td><td>2.0               </td><td>106204.02450980392   </td><td>134771.7517825312 </td><td>0.0               </td><td>91042.14950980392  </td><td>0.0              </td><td>2006.0            </td><td>0.0              </td><td>334.0             </td><td>84954.02450980392   </td><td>1872.0            </td><td>0.0               </td><td>118217.35784313723</td><td>128987.56617647059</td><td>143816.52450980392     </td><td>175531.83179723503 </td><td>0.0               </td><td>96429.02450980392    </td><td>0.0               </td><td>334.0             </td><td>77729.02450980392 </td><td>163075.56297134238   </td><td>178193.4967320261     </td><td>0.0               </td><td>1.0               </td><td>0.0              </td><td>1.0              </td><td>0.0                </td><td>100143.52450980392  </td><td>100679.02450980392 </td><td>107734.02450980392</td><td>84954.02450980392   </td><td>178193.4967320261 </td><td>118776.94117647059  </td><td>0.0              </td><td>0.0                </td><td>131576.52450980392  </td><td>163981.4191419142 </td><td>0.0               </td><td>105130.89950980392   </td><td>139864.02450980392 </td><td>165751.57330498463 </td><td>134607.54723707662</td><td>114840.96895424835  </td><td>112866.7168174962     </td><td>0.0              </td><td>1900.0            </td><td>1950.0            </td><td>0.0              </td><td>111434.07450980392  </td><td>0.0               </td><td>1491.0            </td><td>146338.19117647054    </td><td>20.0             </td><td>143948.79679144386    </td><td>145091.52450980392    </td><td>95579.02450980392 </td><td>1.0                </td><td>134853.20367647058  </td><td>161376.63366336632    </td><td>91754.02450980392  </td><td>0.0               </td><td>0.0               </td><td>0.0              </td><td>0.0               </td><td>110363.31736694675  </td><td>122402.59593837534  </td><td>1.0              </td><td>150223.0311764706   </td><td>21.0              </td></tr>\n",
       "<tr><td>mean   </td><td>194587.77315419997   </td><td>177409.6635197288    </td><td>179115.18492887355  </td><td>51.78649237472766 </td><td>1.710239651416122 </td><td>177969.71943483272</td><td>2.8562091503267975</td><td>173941.1787702735 </td><td>180413.2355397497 </td><td>6.529411764705884 </td><td>179728.6088213935    </td><td>179069.59942970655</td><td>0.5969498910675382</td><td>174940.2994916485  </td><td>548.1590413943355</td><td>2007.7886710239645</td><td>358.3442265795207</td><td>1506.0043572984753</td><td>178425.73264556364  </td><td>1969.0196078431372</td><td>1.411764705882353 </td><td>179328.32668845312</td><td>178649.1491050451 </td><td>177335.48292323464     </td><td>177815.9926203597  </td><td>3.30718954248366  </td><td>179651.10523303004   </td><td>1044.7603485838783</td><td>1141.9912854030501</td><td>178371.04867785895</td><td>177854.22806185653   </td><td>178193.49673202608    </td><td>57.23529411764707 </td><td>6.0               </td><td>50.44662309368194</td><td>6.233115468409586</td><td>0.38562091503267976</td><td>179083.62772865137  </td><td>180663.6615169379  </td><td>177239.6370242215 </td><td>178197.18104147975  </td><td>178198.69396030012</td><td>184432.01265538894  </td><td>23.47276688453159</td><td>0.05228758169934641</td><td>176108.20460862629  </td><td>176786.222382417  </td><td>439.36601307189545</td><td>177298.2844312017    </td><td>177381.14581571188 </td><td>178163.26637404418 </td><td>176164.9969256838 </td><td>179002.96058140037  </td><td>178193.49673202622    </td><td>96.68340611353712</td><td>1977.9953051643195</td><td>1984.2701525054467</td><td>463.1917211328976</td><td>185134.53079371178  </td><td>15.710239651416122</td><td>10273.808278867104</td><td>180031.30962236744    </td><td>56.48148148148149</td><td>181122.0343137255     </td><td>180587.6997415524     </td><td>178225.25931265752</td><td>1.0457516339869284 </td><td>184195.20382758768  </td><td>178366.11043615706    </td><td>178484.556313811   </td><td>101.15904139433553</td><td>1.5446623093681917</td><td>5.668845315904139</td><td>0.4226579520697168</td><td>179041.90369302404  </td><td>177648.76674783204  </td><td>5.557734204793029</td><td>178617.62590029472  </td><td>68.85751978891818 </td></tr>\n",
       "<tr><td>maxs   </td><td>345181.5245098039    </td><td>188229.02450980392   </td><td>184861.0283687943   </td><td>8300.0            </td><td>4.0               </td><td>296434.0245098039 </td><td>6.0               </td><td>181956.919246646  </td><td>204324.73418722322</td><td>12.0              </td><td>237481.8022875817    </td><td>287410.74022408965</td><td>3.0               </td><td>311103.9129713424  </td><td>2336.0           </td><td>2010.0            </td><td>1611.0           </td><td>3608.0            </td><td>181312.14950980392  </td><td>2009.0            </td><td>648.0             </td><td>219311.6970098039 </td><td>183943.1995098039 </td><td>255001.6042717087      </td><td>219485.84269162212 </td><td>407.0             </td><td>230256.21200980392   </td><td>3200.0            </td><td>3228.0            </td><td>179414.41573033712</td><td>252389.9995098039    </td><td>178193.4967320261     </td><td>1474.0            </td><td>10.0              </td><td>547.0            </td><td>12.0             </td><td>2.0                </td><td>184788.65617433414  </td><td>211491.75330396474 </td><td>255001.6042717087 </td><td>302979.0245098039   </td><td>180579.02450980392</td><td>187300.52567237162  </td><td>301.0            </td><td>1.0                </td><td>243111.468058191    </td><td>257372.27450980392</td><td>1880.0            </td><td>307728.63562091504   </td><td>205162.1274859944  </td><td>221371.6687405731  </td><td>180974.4445098039 </td><td>184063.06872037915  </td><td>288359.0245098039     </td><td>1600.0           </td><td>2009.0            </td><td>2009.0            </td><td>1248.0           </td><td>243247.17284313726  </td><td>480.0             </td><td>215245.0          </td><td>224699.7863950498     </td><td>190.0            </td><td>223156.8495098039     </td><td>194068.52450980392    </td><td>178405.7096069869 </td><td>2.0                </td><td>282791.5245098039   </td><td>252970.21398348815    </td><td>197862.35784313726 </td><td>857.0             </td><td>3.0               </td><td>572.0            </td><td>2.0               </td><td>222366.88205128204  </td><td>221634.02450980392  </td><td>9.0              </td><td>311479.0245098039   </td><td>182.0             </td></tr>\n",
       "<tr><td>sigma  </td><td>26261.653007678      </td><td>5663.060039991692    </td><td>19717.249202290554  </td><td>449.54109321577573</td><td>0.7712943151662266</td><td>12445.87241289975 </td><td>0.8391483048651235</td><td>10548.08650865389 </td><td>13346.550640278581</td><td>1.7068785455857545</td><td>26639.054892573466   </td><td>44973.30052212845 </td><td>0.6515613257699316</td><td>46704.676972640176 </td><td>436.0358278966987</td><td>1.3530662972075558</td><td>444.5856999141146</td><td>537.1049436609105 </td><td>8139.874204543358   </td><td>30.82351593092024 </td><td>30.246049815005012</td><td>22954.507567875302</td><td>11313.686291071555</td><td>25636.556448480504     </td><td>9612.485004032442  </td><td>28.184579011387555</td><td>27697.042657464834   </td><td>412.08118513284444</td><td>373.0166882400161 </td><td>7482.963820995203 </td><td>12704.546441754977   </td><td>1.4566928583274597e-11</td><td>185.24001065203294</td><td>1.4417359744722111</td><td>72.74780631554772</td><td>2.762054423699208</td><td>0.5091844194507409 </td><td>17731.970597652486  </td><td>31183.876623648637 </td><td>25705.64861904969 </td><td>7675.716724689658   </td><td>111.34690123726485</td><td>11807.813469454744  </td><td>61.32101817353126</td><td>0.2228492452574714 </td><td>27404.304553567163  </td><td>21170.42264902132 </td><td>431.4241433973325 </td><td>48579.93227209305    </td><td>13516.296484902436 </td><td>11574.4525615196   </td><td>9343.377742370943 </td><td>17370.73133050444   </td><td>47446.35307377432     </td><td>183.006592418819 </td><td>23.83540679437044 </td><td>20.739310451691118</td><td>221.9549854463704</td><td>30435.66812388826   </td><td>59.127913702103534</td><td>11072.988785723224</td><td>27951.82176724417     </td><td>42.51618219006454</td><td>32859.95876853635     </td><td>6894.848900014338     </td><td>3866.0185855881623</td><td>0.20917396118996429</td><td>10759.770112055128  </td><td>27626.169564810094    </td><td>12461.39043678306  </td><td>136.0428056028113 </td><td>0.5445931590280559</td><td>46.66085163497713</td><td>0.5161250426046552</td><td>37636.63649998418   </td><td>21371.858060255643  </td><td>1.164635411186286</td><td>12058.531723299979  </td><td>20.333695767270115</td></tr>\n",
       "<tr><td>zeros  </td><td>0                    </td><td>0                    </td><td>0                   </td><td>439               </td><td>33                </td><td>0                 </td><td>2                 </td><td>0                 </td><td>0                 </td><td>0                 </td><td>0                    </td><td>0                 </td><td>224               </td><td>0                  </td><td>40               </td><td>0                 </td><td>257              </td><td>0                 </td><td>0                   </td><td>0                 </td><td>458               </td><td>0                 </td><td>0                 </td><td>0                      </td><td>0                  </td><td>451               </td><td>0                    </td><td>12                </td><td>0                 </td><td>0                 </td><td>0                    </td><td>0                     </td><td>399               </td><td>0                 </td><td>196              </td><td>0                </td><td>287                </td><td>0                   </td><td>0                  </td><td>0                 </td><td>0                   </td><td>0                 </td><td>0                   </td><td>385              </td><td>435                </td><td>0                   </td><td>0                 </td><td>141               </td><td>0                    </td><td>0                  </td><td>0                  </td><td>0                 </td><td>0                   </td><td>0                     </td><td>291              </td><td>0                 </td><td>0                 </td><td>33               </td><td>0                   </td><td>423               </td><td>0                 </td><td>0                     </td><td>0                </td><td>0                     </td><td>0                     </td><td>0                 </td><td>0                  </td><td>0                   </td><td>0                     </td><td>0                  </td><td>238               </td><td>3                 </td><td>450              </td><td>270               </td><td>0                   </td><td>0                   </td><td>0                </td><td>0                   </td><td>0                 </td></tr>\n",
       "<tr><td>missing</td><td>0                    </td><td>0                    </td><td>0                   </td><td>0                 </td><td>0                 </td><td>0                 </td><td>0                 </td><td>0                 </td><td>0                 </td><td>0                 </td><td>0                    </td><td>0                 </td><td>0                 </td><td>0                  </td><td>0                </td><td>0                 </td><td>0                </td><td>0                 </td><td>0                   </td><td>0                 </td><td>0                 </td><td>0                 </td><td>0                 </td><td>0                      </td><td>0                  </td><td>0                 </td><td>0                    </td><td>0                 </td><td>0                 </td><td>0                 </td><td>0                    </td><td>0                     </td><td>0                 </td><td>0                 </td><td>0                </td><td>0                </td><td>0                  </td><td>0                   </td><td>0                  </td><td>0                 </td><td>0                   </td><td>0                 </td><td>0                   </td><td>0                </td><td>0                  </td><td>0                   </td><td>0                 </td><td>0                 </td><td>0                    </td><td>0                  </td><td>0                  </td><td>0                 </td><td>0                   </td><td>0                     </td><td>0                </td><td>0                 </td><td>0                 </td><td>0                </td><td>0                   </td><td>0                 </td><td>0                 </td><td>0                     </td><td>0                </td><td>0                     </td><td>0                     </td><td>0                 </td><td>0                  </td><td>0                   </td><td>0                     </td><td>0                  </td><td>0                 </td><td>0                 </td><td>0                </td><td>0                 </td><td>0                   </td><td>0                   </td><td>0                </td><td>0                   </td><td>0                 </td></tr>\n",
       "<tr><td>0      </td><td>219907.18575980392   </td><td>178193.4967320261    </td><td>184861.0283687943   </td><td>0.0               </td><td>3.0               </td><td>176671.8111111111 </td><td>3.0               </td><td>178193.4967320261 </td><td>204324.73418722322</td><td>7.0               </td><td>180267.35784313726   </td><td>138313.57142857142</td><td>1.0               </td><td>143747.87889273354 </td><td>540.0            </td><td>2006.0            </td><td>756.0            </td><td>1717.0            </td><td>179857.76346604215  </td><td>1915.0            </td><td>0.0               </td><td>187920.61064425771</td><td>181805.66321243523</td><td>147087.25059676042     </td><td>175531.83179723503 </td><td>0.0               </td><td>154595.81798806478   </td><td>756.0             </td><td>961.0             </td><td>179414.41573033712</td><td>175715.7828162291    </td><td>178193.4967320261     </td><td>0.0               </td><td>7.0               </td><td>35.0             </td><td>2.0              </td><td>0.0                </td><td>184788.65617433414  </td><td>158961.70308123247 </td><td>170822.7626262626 </td><td>178218.27472527474  </td><td>178193.4967320261 </td><td>187300.52567237162  </td><td>272.0            </td><td>0.0                </td><td>157482.0            </td><td>194850.58566088302</td><td>216.0             </td><td>211880.81318681315   </td><td>171401.71038251367 </td><td>165751.57330498463 </td><td>178193.4967320261 </td><td>184063.06872037915  </td><td>216008.84593837534    </td><td>0.0              </td><td>1998.0            </td><td>1970.0            </td><td>642.0            </td><td>142532.16792065662  </td><td>0.0               </td><td>9550.0            </td><td>169309.44117647054    </td><td>70.0             </td><td>143948.79679144386    </td><td>182592.86046511628    </td><td>178405.7096069869 </td><td>1.0                </td><td>185601.24938271602  </td><td>161376.63366336632    </td><td>180398.05693069307 </td><td>0.0               </td><td>1.0               </td><td>0.0              </td><td>1.0               </td><td>144486.10784313726  </td><td>203633.455628685    </td><td>5.0              </td><td>181573.27604166663  </td><td>60.0              </td></tr>\n",
       "<tr><td>1      </td><td>205118.42900418595   </td><td>163465.69117647054   </td><td>184861.0283687943   </td><td>350.0             </td><td>2.0               </td><td>176671.8111111111 </td><td>3.0               </td><td>178193.4967320261 </td><td>181115.23         </td><td>7.0               </td><td>169568.25527903467   </td><td>206633.03141361254</td><td>2.0               </td><td>143747.87889273354 </td><td>216.0            </td><td>2009.0            </td><td>983.0            </td><td>2090.0            </td><td>179857.76346604215  </td><td>1973.0            </td><td>0.0               </td><td>187920.61064425771</td><td>181805.66321243523</td><td>171302.3622047244      </td><td>175531.83179723503 </td><td>0.0               </td><td>167128.41844919784   </td><td>1107.0            </td><td>1107.0            </td><td>179414.41573033712</td><td>175715.7828162291    </td><td>178193.4967320261     </td><td>32.0              </td><td>7.0               </td><td>204.0            </td><td>11.0             </td><td>1.0                </td><td>184788.65617433414  </td><td>211491.75330396474 </td><td>170822.7626262626 </td><td>178218.27472527474  </td><td>178193.4967320261 </td><td>187300.52567237162  </td><td>228.0            </td><td>0.0                </td><td>243111.468058191    </td><td>194850.58566088302</td><td>859.0             </td><td>140285.62820512822   </td><td>171401.71038251367 </td><td>165751.57330498463 </td><td>178193.4967320261 </td><td>184063.06872037915  </td><td>184610.14950980392    </td><td>240.0            </td><td>1973.0            </td><td>1973.0            </td><td>484.0            </td><td>201051.3968871595   </td><td>0.0               </td><td>10382.0           </td><td>169309.44117647054    </td><td>60.0             </td><td>201271.56721053383    </td><td>156634.52450980392    </td><td>178405.7096069869 </td><td>1.0                </td><td>185601.24938271602  </td><td>199413.65506535943    </td><td>180398.05693069307 </td><td>235.0             </td><td>2.0               </td><td>0.0              </td><td>1.0               </td><td>148549.72906403942  </td><td>203633.455628685    </td><td>6.0              </td><td>197366.52450980392  </td><td>68.85751978891821 </td></tr>\n",
       "<tr><td>2      </td><td>205118.42900418595   </td><td>178193.4967320261    </td><td>184861.0283687943   </td><td>0.0               </td><td>1.0               </td><td>176671.8111111111 </td><td>2.0               </td><td>178193.4967320261 </td><td>181115.23         </td><td>5.0               </td><td>151828.55059676044   </td><td>138313.57142857142</td><td>2.0               </td><td>143747.87889273354 </td><td>140.0            </td><td>2008.0            </td><td>0.0              </td><td>1077.0            </td><td>179857.76346604215  </td><td>1939.0            </td><td>0.0               </td><td>187920.61064425771</td><td>128987.56617647059</td><td>171302.3622047244      </td><td>175531.83179723503 </td><td>0.0               </td><td>151733.02861939298   </td><td>991.0             </td><td>1077.0            </td><td>179414.41573033712</td><td>175715.7828162291    </td><td>178193.4967320261     </td><td>0.0               </td><td>5.0               </td><td>4.0              </td><td>1.0              </td><td>0.0                </td><td>184788.65617433414  </td><td>211491.75330396474 </td><td>170822.7626262626 </td><td>127029.02450980392  </td><td>178193.4967320261 </td><td>187300.52567237162  </td><td>0.0              </td><td>0.0                </td><td>157482.0            </td><td>163981.4191419142 </td><td>851.0             </td><td>140285.62820512822   </td><td>171401.71038251367 </td><td>165751.57330498463 </td><td>178193.4967320261 </td><td>184063.06872037915  </td><td>129965.77450980392    </td><td>0.0              </td><td>1939.0            </td><td>1950.0            </td><td>205.0            </td><td>201051.3968871595   </td><td>0.0               </td><td>7420.0            </td><td>224699.7863950498     </td><td>190.0            </td><td>201271.56721053383    </td><td>182592.86046511628    </td><td>178405.7096069869 </td><td>2.0                </td><td>194951.10784313726  </td><td>161376.63366336632    </td><td>180398.05693069307 </td><td>0.0               </td><td>1.0               </td><td>0.0              </td><td>1.0               </td><td>144486.10784313726  </td><td>122402.59593837534  </td><td>6.0              </td><td>152316.52450980392  </td><td>50.0              </td></tr>\n",
       "<tr><td>3      </td><td>178193.4967320261    </td><td>178193.4967320261    </td><td>184861.0283687943   </td><td>0.0               </td><td>2.0               </td><td>176671.8111111111 </td><td>2.0               </td><td>181956.919246646  </td><td>181115.23         </td><td>5.0               </td><td>163767.73719637108   </td><td>138313.57142857142</td><td>0.0               </td><td>143747.87889273354 </td><td>832.0            </td><td>2007.0            </td><td>0.0              </td><td>854.0             </td><td>179857.76346604215  </td><td>1929.0            </td><td>0.0               </td><td>132608.82714138282</td><td>181805.66321243523</td><td>171302.3622047244      </td><td>175531.83179723503 </td><td>0.0               </td><td>154595.81798806478   </td><td>832.0             </td><td>854.0             </td><td>179414.41573033712</td><td>175715.7828162291    </td><td>178193.4967320261     </td><td>0.0               </td><td>7.0               </td><td>112.0            </td><td>7.0              </td><td>0.0                </td><td>135344.4530812325   </td><td>211491.75330396474 </td><td>170822.7626262626 </td><td>178218.27472527474  </td><td>178193.4967320261 </td><td>187300.52567237162  </td><td>0.0              </td><td>0.0                </td><td>157482.0            </td><td>163981.4191419142 </td><td>0.0               </td><td>140285.62820512822   </td><td>171401.71038251367 </td><td>165751.57330498463 </td><td>178193.4967320261 </td><td>184063.06872037915  </td><td>129965.77450980392    </td><td>0.0              </td><td>1991.0            </td><td>2001.0            </td><td>576.0            </td><td>142532.16792065662  </td><td>0.0               </td><td>6120.0            </td><td>168970.1659826721     </td><td>45.0             </td><td>143948.79679144386    </td><td>182592.86046511628    </td><td>178405.7096069869 </td><td>1.0                </td><td>185601.24938271602  </td><td>161376.63366336632    </td><td>180398.05693069307 </td><td>48.0              </td><td>1.0               </td><td>0.0              </td><td>0.0               </td><td>144486.10784313726  </td><td>122402.59593837534  </td><td>8.0              </td><td>181573.27604166663  </td><td>51.0              </td></tr>\n",
       "<tr><td>4      </td><td>205118.42900418595   </td><td>163465.69117647054   </td><td>184861.0283687943   </td><td>700.0             </td><td>2.0               </td><td>176671.8111111111 </td><td>2.0               </td><td>178193.4967320261 </td><td>181115.23         </td><td>5.0               </td><td>163767.73719637108   </td><td>138313.57142857142</td><td>1.0               </td><td>143747.87889273354 </td><td>426.0            </td><td>2010.0            </td><td>0.0              </td><td>1004.0            </td><td>179857.76346604215  </td><td>1970.0            </td><td>0.0               </td><td>187920.61064425771</td><td>181805.66321243523</td><td>171302.3622047244      </td><td>175531.83179723503 </td><td>0.0               </td><td>154595.81798806478   </td><td>1004.0            </td><td>1004.0            </td><td>179414.41573033712</td><td>175715.7828162291    </td><td>178193.4967320261     </td><td>0.0               </td><td>6.0               </td><td>0.0              </td><td>3.0              </td><td>0.0                </td><td>184788.65617433414  </td><td>211491.75330396474 </td><td>170822.7626262626 </td><td>178218.27472527474  </td><td>178193.4967320261 </td><td>187300.52567237162  </td><td>0.0              </td><td>0.0                </td><td>203114.2504640024   </td><td>194850.58566088302</td><td>578.0             </td><td>140285.62820512822   </td><td>171401.71038251367 </td><td>221371.6687405731  </td><td>178193.4967320261 </td><td>184063.06872037915  </td><td>152080.32258672698    </td><td>180.0            </td><td>1970.0            </td><td>1970.0            </td><td>480.0            </td><td>201051.3968871595   </td><td>0.0               </td><td>11241.0           </td><td>169309.44117647054    </td><td>20.0             </td><td>223156.8495098039     </td><td>182592.86046511628    </td><td>178405.7096069869 </td><td>1.0                </td><td>185601.24938271602  </td><td>161376.63366336632    </td><td>180398.05693069307 </td><td>0.0               </td><td>1.0               </td><td>0.0              </td><td>1.0               </td><td>148549.72906403942  </td><td>170914.57205240175  </td><td>7.0              </td><td>181573.27604166663  </td><td>68.85751978891821 </td></tr>\n",
       "<tr><td>5      </td><td>178193.4967320261    </td><td>178193.4967320261    </td><td>184861.0283687943   </td><td>0.0               </td><td>2.0               </td><td>176671.8111111111 </td><td>3.0               </td><td>178193.4967320261 </td><td>181115.23         </td><td>6.0               </td><td>209302.39072847684   </td><td>138313.57142857142</td><td>0.0               </td><td>143747.87889273354 </td><td>468.0            </td><td>2008.0            </td><td>0.0              </td><td>1114.0            </td><td>179857.76346604215  </td><td>2004.0            </td><td>0.0               </td><td>187920.61064425771</td><td>181805.66321243523</td><td>171302.3622047244      </td><td>175531.83179723503 </td><td>0.0               </td><td>206602.9363057325    </td><td>1114.0            </td><td>1114.0            </td><td>179414.41573033712</td><td>175715.7828162291    </td><td>178193.4967320261     </td><td>0.0               </td><td>5.0               </td><td>102.0            </td><td>6.0              </td><td>1.0                </td><td>184788.65617433414  </td><td>211491.75330396474 </td><td>170822.7626262626 </td><td>178218.27472527474  </td><td>178193.4967320261 </td><td>187300.52567237162  </td><td>0.0              </td><td>0.0                </td><td>157482.0            </td><td>163981.4191419142 </td><td>646.0             </td><td>211880.81318681315   </td><td>171401.71038251367 </td><td>177919.81360946747 </td><td>178193.4967320261 </td><td>184063.06872037915  </td><td>189097.7776348039     </td><td>0.0              </td><td>2004.0            </td><td>2004.0            </td><td>576.0            </td><td>142532.16792065662  </td><td>0.0               </td><td>13695.0           </td><td>224699.7863950498     </td><td>20.0             </td><td>143948.79679144386    </td><td>182592.86046511628    </td><td>178405.7096069869 </td><td>1.0                </td><td>185601.24938271602  </td><td>161376.63366336632    </td><td>180398.05693069307 </td><td>0.0               </td><td>1.0               </td><td>0.0              </td><td>1.0               </td><td>222366.88205128204  </td><td>170914.57205240175  </td><td>5.0              </td><td>150829.02450980392  </td><td>66.0              </td></tr>\n",
       "<tr><td>6      </td><td>219907.18575980392   </td><td>178193.4967320261    </td><td>184861.0283687943   </td><td>0.0               </td><td>1.0               </td><td>176671.8111111111 </td><td>3.0               </td><td>181956.919246646  </td><td>181115.23         </td><td>6.0               </td><td>163767.73719637108   </td><td>138313.57142857142</td><td>1.0               </td><td>143747.87889273354 </td><td>637.0            </td><td>2007.0            </td><td>0.0              </td><td>1108.0            </td><td>179857.76346604215  </td><td>1930.0            </td><td>0.0               </td><td>132608.82714138282</td><td>181805.66321243523</td><td>171302.3622047244      </td><td>175531.83179723503 </td><td>0.0               </td><td>154595.81798806478   </td><td>637.0             </td><td>1108.0            </td><td>179414.41573033712</td><td>163075.56297134238   </td><td>178193.4967320261     </td><td>0.0               </td><td>7.0               </td><td>0.0              </td><td>6.0              </td><td>0.0                </td><td>100143.52450980392  </td><td>211491.75330396474 </td><td>170822.7626262626 </td><td>178218.27472527474  </td><td>178193.4967320261 </td><td>187300.52567237162  </td><td>205.0            </td><td>0.0                </td><td>157482.0            </td><td>163981.4191419142 </td><td>0.0               </td><td>211880.81318681315   </td><td>171401.71038251367 </td><td>177919.81360946747 </td><td>134607.54723707662</td><td>114840.96895424835  </td><td>112866.7168174962     </td><td>0.0              </td><td>1930.0            </td><td>1950.0            </td><td>280.0            </td><td>201051.3968871595   </td><td>0.0               </td><td>7449.0            </td><td>168970.1659826721     </td><td>45.0             </td><td>143948.79679144386    </td><td>182592.86046511628    </td><td>178405.7096069869 </td><td>1.0                </td><td>185601.24938271602  </td><td>161376.63366336632    </td><td>180398.05693069307 </td><td>0.0               </td><td>1.0               </td><td>0.0              </td><td>0.0               </td><td>222366.88205128204  </td><td>122402.59593837534  </td><td>7.0              </td><td>181573.27604166663  </td><td>57.0              </td></tr>\n",
       "<tr><td>7      </td><td>178193.4967320261    </td><td>178193.4967320261    </td><td>111601.52450980392  </td><td>0.0               </td><td>1.0               </td><td>176671.8111111111 </td><td>1.0               </td><td>178193.4967320261 </td><td>181115.23         </td><td>4.0               </td><td>151828.55059676044   </td><td>138313.57142857142</td><td>0.0               </td><td>143747.87889273354 </td><td>520.0            </td><td>2008.0            </td><td>0.0              </td><td>520.0             </td><td>179857.76346604215  </td><td>1927.0            </td><td>0.0               </td><td>132608.82714138282</td><td>181805.66321243523</td><td>171302.3622047244      </td><td>175531.83179723503 </td><td>0.0               </td><td>151733.02861939298   </td><td>520.0             </td><td>520.0             </td><td>179414.41573033712</td><td>175715.7828162291    </td><td>178193.4967320261     </td><td>0.0               </td><td>4.0               </td><td>0.0              </td><td>5.0              </td><td>0.0                </td><td>184788.65617433414  </td><td>127694.14950980392 </td><td>170822.7626262626 </td><td>84954.02450980392   </td><td>178193.4967320261 </td><td>187300.52567237162  </td><td>87.0             </td><td>0.0                </td><td>157482.0            </td><td>194850.58566088302</td><td>0.0               </td><td>105130.89950980392   </td><td>171401.71038251367 </td><td>177919.81360946747 </td><td>178193.4967320261 </td><td>184063.06872037915  </td><td>129965.77450980392    </td><td>0.0              </td><td>1920.0            </td><td>1950.0            </td><td>240.0            </td><td>142532.16792065662  </td><td>0.0               </td><td>6324.0            </td><td>168970.1659826721     </td><td>30.0             </td><td>143948.79679144386    </td><td>182592.86046511628    </td><td>178405.7096069869 </td><td>1.0                </td><td>134853.20367647058  </td><td>161376.63366336632    </td><td>180398.05693069307 </td><td>49.0              </td><td>1.0               </td><td>0.0              </td><td>0.0               </td><td>144486.10784313726  </td><td>170914.57205240175  </td><td>6.0              </td><td>150223.0311764706   </td><td>60.0              </td></tr>\n",
       "<tr><td>8      </td><td>178193.4967320261    </td><td>178193.4967320261    </td><td>184861.0283687943   </td><td>0.0               </td><td>1.0               </td><td>176671.8111111111 </td><td>3.0               </td><td>151206.9049445865 </td><td>181115.23         </td><td>6.0               </td><td>169568.25527903467   </td><td>138313.57142857142</td><td>0.0               </td><td>143747.87889273354 </td><td>1228.0           </td><td>2008.0            </td><td>0.0              </td><td>1228.0            </td><td>179857.76346604215  </td><td>1966.0            </td><td>0.0               </td><td>187920.61064425771</td><td>181805.66321243523</td><td>171302.3622047244      </td><td>175531.83179723503 </td><td>0.0               </td><td>167128.41844919784   </td><td>1228.0            </td><td>1228.0            </td><td>179414.41573033712</td><td>175715.7828162291    </td><td>178193.4967320261     </td><td>0.0               </td><td>5.0               </td><td>65.0             </td><td>6.0              </td><td>1.0                </td><td>184788.65617433414  </td><td>158961.70308123247 </td><td>170822.7626262626 </td><td>178218.27472527474  </td><td>178193.4967320261 </td><td>187300.52567237162  </td><td>0.0              </td><td>0.0                </td><td>157482.0            </td><td>194850.58566088302</td><td>0.0               </td><td>211880.81318681315   </td><td>171401.71038251367 </td><td>221371.6687405731  </td><td>178193.4967320261 </td><td>184063.06872037915  </td><td>143162.40700980392    </td><td>0.0              </td><td>1966.0            </td><td>2006.0            </td><td>271.0            </td><td>201051.3968871595   </td><td>0.0               </td><td>8544.0            </td><td>168970.1659826721     </td><td>20.0             </td><td>143948.79679144386    </td><td>182592.86046511628    </td><td>178405.7096069869 </td><td>1.0                </td><td>185601.24938271602  </td><td>161376.63366336632    </td><td>180398.05693069307 </td><td>0.0               </td><td>1.0               </td><td>0.0              </td><td>0.0               </td><td>148549.72906403942  </td><td>170914.57205240175  </td><td>6.0              </td><td>181573.27604166663  </td><td>68.85751978891821 </td></tr>\n",
       "<tr><td>9      </td><td>178193.4967320261    </td><td>178193.4967320261    </td><td>184861.0283687943   </td><td>0.0               </td><td>2.0               </td><td>176671.8111111111 </td><td>3.0               </td><td>178193.4967320261 </td><td>181115.23         </td><td>6.0               </td><td>209302.39072847684   </td><td>206633.03141361254</td><td>0.0               </td><td>143747.87889273354 </td><td>1097.0           </td><td>2009.0            </td><td>0.0              </td><td>1097.0            </td><td>179857.76346604215  </td><td>1994.0            </td><td>0.0               </td><td>187920.61064425771</td><td>181805.66321243523</td><td>171302.3622047244      </td><td>175531.83179723503 </td><td>0.0               </td><td>206602.9363057325    </td><td>1097.0            </td><td>1097.0            </td><td>179414.41573033712</td><td>175715.7828162291    </td><td>178193.4967320261     </td><td>0.0               </td><td>5.0               </td><td>64.0             </td><td>6.0              </td><td>1.0                </td><td>184788.65617433414  </td><td>211491.75330396474 </td><td>170822.7626262626 </td><td>178218.27472527474  </td><td>178193.4967320261 </td><td>187300.52567237162  </td><td>0.0              </td><td>0.0                </td><td>157482.0            </td><td>163981.4191419142 </td><td>0.0               </td><td>140285.62820512822   </td><td>171401.71038251367 </td><td>165751.57330498463 </td><td>178193.4967320261 </td><td>184063.06872037915  </td><td>190019.77971813726    </td><td>0.0              </td><td>1995.0            </td><td>1995.0            </td><td>672.0            </td><td>201051.3968871595   </td><td>0.0               </td><td>10859.0           </td><td>168970.1659826721     </td><td>20.0             </td><td>143948.79679144386    </td><td>182592.86046511628    </td><td>178405.7096069869 </td><td>1.0                </td><td>185601.24938271602  </td><td>161376.63366336632    </td><td>180398.05693069307 </td><td>392.0             </td><td>1.0               </td><td>0.0              </td><td>0.0               </td><td>222366.88205128204  </td><td>170914.57205240175  </td><td>5.0              </td><td>181573.27604166663  </td><td>112.0             </td></tr>\n",
       "</tbody>\n",
       "</table>"
      ]
     },
     "metadata": {},
     "output_type": "display_data"
    },
    {
     "name": "stdout",
     "output_type": "stream",
     "text": [
      "--------------------------------------------------------------------------------\n",
      "Imputed and encoded numeric test data:\n",
      "Rows:1459\n",
      "Cols:79\n",
      "\n",
      "\n"
     ]
    },
    {
     "data": {
      "text/html": [
       "<table>\n",
       "<thead>\n",
       "<tr><th>       </th><th>FireplaceQu_Tencode  </th><th>MiscFeature_Tencode  </th><th>CentralAir_Tencode  </th><th>MiscVal          </th><th>GarageCars        </th><th>RoofMatl_Tencode  </th><th>BedroomAbvGr      </th><th>Fence_Tencode     </th><th>BsmtCond_Tencode  </th><th>TotRmsAbvGrd      </th><th>Exterior2nd_Tencode  </th><th>BsmtQual_Tencode  </th><th>Fireplaces        </th><th>ExterQual_Tencode  </th><th>BsmtUnfSF         </th><th>YrSold            </th><th>2ndFlrSF          </th><th>GrLivArea         </th><th>Functional_Tencode  </th><th>YearBuilt         </th><th>PoolArea          </th><th>MSZoning_Tencode  </th><th>BldgType_Tencode  </th><th>SaleCondition_Tencode  </th><th>LandSlope_Tencode  </th><th>3SsnPorch        </th><th>Exterior1st_Tencode  </th><th>TotalBsmtSF       </th><th>1stFlrSF          </th><th>Heating_Tencode   </th><th>LandContour_Tencode  </th><th>Utilities_Tencode  </th><th>BsmtFinSF2        </th><th>OverallQual       </th><th>OpenPorchSF      </th><th>MoSold            </th><th>HalfBath           </th><th>Electrical_Tencode  </th><th>HeatingQC_Tencode  </th><th>SaleType_Tencode  </th><th>Condition2_Tencode  </th><th>PoolQC_Tencode   </th><th>GarageCond_Tencode  </th><th>EnclosedPorch     </th><th>BsmtHalfBath       </th><th>MasVnrType_Tencode  </th><th>LotShape_Tencode  </th><th>BsmtFinSF1        </th><th>KitchenQual_Tencode  </th><th>RoofStyle_Tencode  </th><th>LotConfig_Tencode  </th><th>Alley_Tencode     </th><th>PavedDrive_Tencode  </th><th>Neighborhood_Tencode  </th><th>MasVnrArea        </th><th>GarageYrBlt       </th><th>YearRemodAdd      </th><th>GarageArea        </th><th>GarageType_Tencode  </th><th>ScreenPorch       </th><th>LotArea          </th><th>BsmtFinType1_Tencode  </th><th>MSSubClass        </th><th>GarageFinish_Tencode  </th><th>BsmtFinType2_Tencode  </th><th>Street_Tencode    </th><th>KitchenAbvGr       </th><th>GarageQual_Tencode  </th><th>BsmtExposure_Tencode  </th><th>ExterCond_Tencode  </th><th>WoodDeckSF        </th><th>FullBath          </th><th>LowQualFinSF      </th><th>BsmtFullBath      </th><th>Foundation_Tencode  </th><th>HouseStyle_Tencode  </th><th>OverallCond       </th><th>Condition1_Tencode  </th><th>LotFrontage       </th></tr>\n",
       "</thead>\n",
       "<tbody>\n",
       "<tr><td>type   </td><td>real                 </td><td>real                 </td><td>real                </td><td>int              </td><td>real              </td><td>real              </td><td>int               </td><td>real              </td><td>real              </td><td>int               </td><td>real                 </td><td>real              </td><td>int               </td><td>real               </td><td>real              </td><td>int               </td><td>int               </td><td>int               </td><td>real                </td><td>int               </td><td>int               </td><td>real              </td><td>real              </td><td>real                   </td><td>real               </td><td>int              </td><td>real                 </td><td>real              </td><td>int               </td><td>real              </td><td>real                 </td><td>real               </td><td>real              </td><td>int               </td><td>int              </td><td>int               </td><td>int                </td><td>real                </td><td>real               </td><td>real              </td><td>real                </td><td>real             </td><td>real                </td><td>int               </td><td>real               </td><td>real                </td><td>real              </td><td>real              </td><td>real                 </td><td>real               </td><td>real               </td><td>real              </td><td>real                </td><td>real                  </td><td>real              </td><td>real              </td><td>int               </td><td>real              </td><td>real                </td><td>int               </td><td>int              </td><td>real                  </td><td>int               </td><td>real                  </td><td>real                  </td><td>real              </td><td>int                </td><td>real                </td><td>real                  </td><td>real               </td><td>int               </td><td>int               </td><td>int               </td><td>real              </td><td>real                </td><td>real                </td><td>int               </td><td>real                </td><td>real              </td></tr>\n",
       "<tr><td>mins   </td><td>133191.52450980392   </td><td>73479.02450980392    </td><td>111601.52450980392  </td><td>0.0              </td><td>0.0               </td><td>175904.02450980392</td><td>0.0               </td><td>133419.96200980392</td><td>78579.02450980392 </td><td>3.0               </td><td>106204.02450980392   </td><td>134771.7517825312 </td><td>0.0               </td><td>91042.14950980392  </td><td>0.0               </td><td>2006.0            </td><td>0.0               </td><td>407.0             </td><td>84954.02450980392   </td><td>1879.0            </td><td>0.0               </td><td>118217.35784313723</td><td>128987.56617647059</td><td>143816.52450980392     </td><td>175531.83179723503 </td><td>0.0              </td><td>96429.02450980392    </td><td>0.0               </td><td>407.0             </td><td>77729.02450980392 </td><td>163075.56297134238   </td><td>178193.4967320261  </td><td>0.0               </td><td>1.0               </td><td>0.0              </td><td>1.0               </td><td>0.0                </td><td>100143.52450980392  </td><td>100679.02450980392 </td><td>107734.02450980392</td><td>127029.02450980392  </td><td>178193.4967320261</td><td>118776.94117647059  </td><td>0.0               </td><td>0.0                </td><td>131576.52450980392  </td><td>163981.4191419142 </td><td>0.0               </td><td>105130.89950980392   </td><td>139864.02450980392 </td><td>165751.57330498463 </td><td>134607.54723707662</td><td>114840.96895424835  </td><td>112866.7168174962     </td><td>0.0               </td><td>1895.0            </td><td>1950.0            </td><td>0.0               </td><td>111434.07450980392  </td><td>0.0               </td><td>1470.0           </td><td>146338.19117647054    </td><td>20.0              </td><td>143948.79679144386    </td><td>145091.52450980392    </td><td>95579.02450980392 </td><td>0.0                </td><td>134853.20367647058  </td><td>161376.63366336632    </td><td>91754.02450980392  </td><td>0.0               </td><td>0.0               </td><td>0.0               </td><td>0.0               </td><td>110363.31736694675  </td><td>122402.59593837534  </td><td>1.0               </td><td>150223.0311764706   </td><td>21.0              </td></tr>\n",
       "<tr><td>mean   </td><td>194452.82035270391   </td><td>177606.24421888925   </td><td>179789.60281035834  </td><td>58.16792323509253</td><td>1.766117969821674 </td><td>176751.75320615343</td><td>2.8540095956134337</td><td>174246.97835710915</td><td>179283.61725237893</td><td>6.385195339273475 </td><td>180995.2353182515    </td><td>181062.10689687656</td><td>0.5812200137080192</td><td>177673.68837649442 </td><td>554.2949245541837 </td><td>2007.7697052775877</td><td>325.96778615490064</td><td>1486.0459218642907</td><td>178383.03720943845  </td><td>1971.3577793008913</td><td>1.7443454420836189</td><td>179232.0904301917 </td><td>178370.36965515942</td><td>176492.09637795313     </td><td>177395.21920765386 </td><td>1.794379712131597</td><td>179810.68688120894   </td><td>1046.1179698216738</td><td>1156.5346127484581</td><td>179140.34833949365</td><td>179174.22633752605   </td><td>178193.4967320261  </td><td>52.61934156378602 </td><td>6.078821110349555 </td><td>48.3139136394791 </td><td>6.104180945853324 </td><td>0.37765592871830034</td><td>180126.11931528104  </td><td>182227.81273899964 </td><td>175933.10715345867</td><td>178369.39980873468  </td><td>178193.4967320261</td><td>184620.93755108098  </td><td>24.243317340644268</td><td>0.06520247083047358</td><td>178207.0798692451   </td><td>176844.0836371834 </td><td>439.2037037037038 </td><td>179340.3962464452    </td><td>177370.70371664222 </td><td>178278.00897433652 </td><td>176172.85149770897</td><td>177090.15440559448  </td><td>179660.93185381076    </td><td>100.70914127423822</td><td>1977.7212165097756</td><td>1983.6627827278958</td><td>472.76886145404643</td><td>186339.7089378328   </td><td>17.064427690198766</td><td>9819.161069225493</td><td>182091.99147253155    </td><td>57.37834132967788 </td><td>180987.1789957136     </td><td>180689.57815766838    </td><td>178065.09267032953</td><td>1.042494859492803  </td><td>182567.66333366183  </td><td>179354.86101843632    </td><td>178138.29247727426 </td><td>93.17477724468819 </td><td>1.570938999314599 </td><td>3.5435229609321452</td><td>0.4344543582704188</td><td>181006.29018575928  </td><td>176296.0327526844   </td><td>5.553803975325566 </td><td>179939.77372747517  </td><td>68.58035714285712 </td></tr>\n",
       "<tr><td>maxs   </td><td>345181.5245098039    </td><td>188229.02450980392   </td><td>184861.0283687943   </td><td>17000.0          </td><td>5.0               </td><td>296434.0245098039 </td><td>6.0               </td><td>181956.919246646  </td><td>204324.73418722322</td><td>15.0              </td><td>237481.8022875817    </td><td>287410.74022408965</td><td>4.0               </td><td>311103.9129713424  </td><td>2140.0            </td><td>2010.0            </td><td>1862.0            </td><td>5095.0            </td><td>181312.14950980392  </td><td>2010.0            </td><td>800.0             </td><td>219311.6970098039 </td><td>183943.1995098039 </td><td>255001.6042717087      </td><td>219485.84269162212 </td><td>360.0            </td><td>230256.21200980392   </td><td>5095.0            </td><td>5095.0            </td><td>179414.41573033712</td><td>252389.9995098039    </td><td>178193.4967320261  </td><td>1526.0            </td><td>10.0              </td><td>742.0            </td><td>12.0              </td><td>2.0                </td><td>184788.65617433414  </td><td>211491.75330396474 </td><td>255001.6042717087 </td><td>302979.0245098039   </td><td>178193.4967320261</td><td>187300.52567237162  </td><td>1012.0            </td><td>2.0                </td><td>243111.468058191    </td><td>257372.27450980392</td><td>4010.0            </td><td>307728.63562091504   </td><td>205162.1274859944  </td><td>221371.6687405731  </td><td>180974.4445098039 </td><td>184063.06872037915  </td><td>288359.0245098039     </td><td>1290.0            </td><td>2207.0            </td><td>2010.0            </td><td>1488.0            </td><td>243247.17284313726  </td><td>576.0             </td><td>56600.0          </td><td>224699.7863950498     </td><td>190.0             </td><td>223156.8495098039     </td><td>194068.52450980392    </td><td>178405.7096069869 </td><td>2.0                </td><td>194951.10784313726  </td><td>252970.21398348815    </td><td>197862.35784313726 </td><td>1424.0            </td><td>4.0               </td><td>1064.0            </td><td>3.0               </td><td>222366.88205128204  </td><td>203633.455628685    </td><td>9.0               </td><td>311479.0245098039   </td><td>200.0             </td></tr>\n",
       "<tr><td>sigma  </td><td>26907.81955497986    </td><td>4663.358457904921    </td><td>18602.363953739645  </td><td>630.806977589708 </td><td>0.7756789263494978</td><td>3137.2359609732157</td><td>0.8297883627354511</td><td>9594.992921526904 </td><td>13660.621364478931</td><td>1.5088945751925407</td><td>25951.286853243662   </td><td>46910.286847951735</td><td>0.6474204530720101</td><td>48363.331700835224 </td><td>437.11050793486925</td><td>1.3017401493799416</td><td>420.6102264691034 </td><td>485.5660986532532 </td><td>7764.753398575106   </td><td>30.39007083720537 </td><td>30.491646305342062</td><td>23489.406573197462</td><td>11421.922290373093</td><td>24614.44880810992      </td><td>8806.028004426134  </td><td>20.2078417514965 </td><td>27215.58518471739    </td><td>442.7467124418269 </td><td>398.16581959237897</td><td>4120.712522628475 </td><td>16731.149524355016   </td><td>0.0                </td><td>176.69330052860707</td><td>1.4368116404730182</td><td>68.88336411315396</td><td>2.7224319012508054</td><td>0.5030166769415859 </td><td>15963.223969023635  </td><td>30689.890057024273 </td><td>24826.258639866202</td><td>6115.230699170752   </td><td>0.0              </td><td>11764.269564905073  </td><td>67.22776541956969 </td><td>0.2522950420673912 </td><td>28422.54135345876   </td><td>19890.63718996989 </td><td>455.11188761326997</td><td>50064.369659260024   </td><td>13409.559779876743 </td><td>11456.730191238736 </td><td>9344.44106426922  </td><td>20263.25653257762   </td><td>48658.82908689112     </td><td>176.7098243723941 </td><td>25.714450581225382</td><td>21.13046690817055 </td><td>216.97416468040285</td><td>30059.124281346794  </td><td>56.609762906910554</td><td>4955.517326926449</td><td>28488.122976770384    </td><td>42.746879618718225</td><td>33850.8749625697      </td><td>6944.959535831841     </td><td>5302.397777524545 </td><td>0.20847167211324957</td><td>11447.223084004694  </td><td>28882.71553690542     </td><td>13372.261749177289 </td><td>127.74488151907605</td><td>0.5551898880356614</td><td>44.043250864375565</td><td>0.5302834550232052</td><td>38032.674909447305  </td><td>20533.37759143995   </td><td>1.1137396032892084</td><td>15269.946772589554  </td><td>20.561227856718496</td></tr>\n",
       "<tr><td>zeros  </td><td>0                    </td><td>0                    </td><td>0                   </td><td>1408             </td><td>76                </td><td>0                 </td><td>2                 </td><td>0                 </td><td>0                 </td><td>0                 </td><td>0                    </td><td>0                 </td><td>730               </td><td>0                  </td><td>123               </td><td>0                 </td><td>839               </td><td>0                 </td><td>0                   </td><td>0                 </td><td>1453              </td><td>0                 </td><td>0                 </td><td>0                      </td><td>0                  </td><td>1446             </td><td>0                    </td><td>41                </td><td>0                 </td><td>0                 </td><td>0                    </td><td>0                  </td><td>1278              </td><td>0                 </td><td>642              </td><td>0                 </td><td>921                </td><td>0                   </td><td>0                  </td><td>0                 </td><td>0                   </td><td>0                </td><td>0                   </td><td>1208              </td><td>1364               </td><td>0                   </td><td>0                 </td><td>462               </td><td>0                    </td><td>0                  </td><td>0                  </td><td>0                 </td><td>0                   </td><td>0                     </td><td>877               </td><td>0                 </td><td>0                 </td><td>76                </td><td>0                   </td><td>1319              </td><td>0                </td><td>0                     </td><td>0                 </td><td>0                     </td><td>0                     </td><td>0                 </td><td>2                  </td><td>0                   </td><td>0                     </td><td>0                  </td><td>762               </td><td>3                 </td><td>1445              </td><td>849               </td><td>0                   </td><td>0                   </td><td>0                 </td><td>0                   </td><td>0                 </td></tr>\n",
       "<tr><td>missing</td><td>0                    </td><td>0                    </td><td>0                   </td><td>0                </td><td>0                 </td><td>0                 </td><td>0                 </td><td>0                 </td><td>0                 </td><td>0                 </td><td>0                    </td><td>0                 </td><td>0                 </td><td>0                  </td><td>0                 </td><td>0                 </td><td>0                 </td><td>0                 </td><td>0                   </td><td>0                 </td><td>0                 </td><td>0                 </td><td>0                 </td><td>0                      </td><td>0                  </td><td>0                </td><td>0                    </td><td>0                 </td><td>0                 </td><td>0                 </td><td>0                    </td><td>0                  </td><td>0                 </td><td>0                 </td><td>0                </td><td>0                 </td><td>0                  </td><td>0                   </td><td>0                  </td><td>0                 </td><td>0                   </td><td>0                </td><td>0                   </td><td>0                 </td><td>0                  </td><td>0                   </td><td>0                 </td><td>0                 </td><td>0                    </td><td>0                  </td><td>0                  </td><td>0                 </td><td>0                   </td><td>0                     </td><td>0                 </td><td>0                 </td><td>0                 </td><td>0                 </td><td>0                   </td><td>0                 </td><td>0                </td><td>0                     </td><td>0                 </td><td>0                     </td><td>0                     </td><td>0                 </td><td>0                  </td><td>0                   </td><td>0                     </td><td>0                  </td><td>0                 </td><td>0                 </td><td>0                 </td><td>0                 </td><td>0                   </td><td>0                   </td><td>0                 </td><td>0                   </td><td>0                 </td></tr>\n",
       "<tr><td>0      </td><td>178193.4967320261    </td><td>178193.4967320261    </td><td>184861.0283687943   </td><td>0.0              </td><td>1.0               </td><td>176671.8111111111 </td><td>2.0               </td><td>151206.9049445865 </td><td>181115.23         </td><td>5.0               </td><td>209302.39072847684   </td><td>138313.57142857142</td><td>0.0               </td><td>143747.87889273354 </td><td>270.0             </td><td>2010.0            </td><td>0.0               </td><td>896.0             </td><td>179857.76346604215  </td><td>1961.0            </td><td>0.0               </td><td>134962.35784313726</td><td>181805.66321243523</td><td>171302.3622047244      </td><td>175531.83179723503 </td><td>0.0              </td><td>206602.9363057325    </td><td>882.0             </td><td>896.0             </td><td>179414.41573033712</td><td>175715.7828162291    </td><td>178193.4967320261  </td><td>144.0             </td><td>5.0               </td><td>0.0              </td><td>6.0               </td><td>0.0                </td><td>184788.65617433414  </td><td>149413.2797336845  </td><td>170822.7626262626 </td><td>178218.27472527474  </td><td>178193.4967320261</td><td>187300.52567237162  </td><td>0.0               </td><td>0.0                </td><td>157482.0            </td><td>163981.4191419142 </td><td>468.0             </td><td>140285.62820512822   </td><td>171401.71038251367 </td><td>177919.81360946747 </td><td>178193.4967320261 </td><td>184063.06872037915  </td><td>152080.32258672698    </td><td>0.0               </td><td>1961.0            </td><td>1961.0            </td><td>730.0             </td><td>201051.3968871595   </td><td>120.0             </td><td>11622.0          </td><td>156012.9060887513     </td><td>20.0              </td><td>143948.79679144386    </td><td>168862.10143288082    </td><td>178405.7096069869 </td><td>1.0                </td><td>185601.24938271602  </td><td>161376.63366336632    </td><td>180398.05693069307 </td><td>140.0             </td><td>1.0               </td><td>0.0               </td><td>0.0               </td><td>148549.72906403942  </td><td>170914.57205240175  </td><td>6.0               </td><td>150223.0311764706   </td><td>80.0              </td></tr>\n",
       "<tr><td>1      </td><td>178193.4967320261    </td><td>188229.02450980392   </td><td>184861.0283687943   </td><td>12500.0          </td><td>1.0               </td><td>176671.8111111111 </td><td>3.0               </td><td>178193.4967320261 </td><td>181115.23         </td><td>6.0               </td><td>163767.73719637108   </td><td>138313.57142857142</td><td>0.0               </td><td>143747.87889273354 </td><td>406.0             </td><td>2010.0            </td><td>0.0               </td><td>1329.0            </td><td>179857.76346604215  </td><td>1958.0            </td><td>0.0               </td><td>187920.61064425771</td><td>181805.66321243523</td><td>171302.3622047244      </td><td>175531.83179723503 </td><td>0.0              </td><td>154595.81798806478   </td><td>1329.0            </td><td>1329.0            </td><td>179414.41573033712</td><td>175715.7828162291    </td><td>178193.4967320261  </td><td>0.0               </td><td>6.0               </td><td>36.0             </td><td>6.0               </td><td>1.0                </td><td>184788.65617433414  </td><td>149413.2797336845  </td><td>170822.7626262626 </td><td>178218.27472527474  </td><td>178193.4967320261</td><td>187300.52567237162  </td><td>0.0               </td><td>0.0                </td><td>203114.2504640024   </td><td>194850.58566088302</td><td>923.0             </td><td>211880.81318681315   </td><td>205162.1274859944  </td><td>165751.57330498463 </td><td>178193.4967320261 </td><td>184063.06872037915  </td><td>152080.32258672698    </td><td>108.0             </td><td>1958.0            </td><td>1958.0            </td><td>312.0             </td><td>201051.3968871595   </td><td>0.0               </td><td>14267.0          </td><td>169309.44117647054    </td><td>20.0              </td><td>143948.79679144386    </td><td>182592.86046511628    </td><td>178405.7096069869 </td><td>1.0                </td><td>185601.24938271602  </td><td>161376.63366336632    </td><td>180398.05693069307 </td><td>393.0             </td><td>1.0               </td><td>0.0               </td><td>0.0               </td><td>148549.72906403942  </td><td>170914.57205240175  </td><td>6.0               </td><td>181573.27604166663  </td><td>81.0              </td></tr>\n",
       "<tr><td>2      </td><td>205118.42900418595   </td><td>178193.4967320261    </td><td>184861.0283687943   </td><td>0.0              </td><td>2.0               </td><td>176671.8111111111 </td><td>3.0               </td><td>151206.9049445865 </td><td>181115.23         </td><td>6.0               </td><td>209302.39072847684   </td><td>206633.03141361254</td><td>1.0               </td><td>143747.87889273354 </td><td>137.0             </td><td>2010.0            </td><td>701.0             </td><td>1629.0            </td><td>179857.76346604215  </td><td>1997.0            </td><td>0.0               </td><td>187920.61064425771</td><td>181805.66321243523</td><td>171302.3622047244      </td><td>175531.83179723503 </td><td>0.0              </td><td>206602.9363057325    </td><td>928.0             </td><td>928.0             </td><td>179414.41573033712</td><td>175715.7828162291    </td><td>178193.4967320261  </td><td>0.0               </td><td>5.0               </td><td>34.0             </td><td>3.0               </td><td>1.0                </td><td>184788.65617433414  </td><td>158961.70308123247 </td><td>170822.7626262626 </td><td>178218.27472527474  </td><td>178193.4967320261</td><td>187300.52567237162  </td><td>0.0               </td><td>0.0                </td><td>157482.0            </td><td>194850.58566088302</td><td>791.0             </td><td>140285.62820512822   </td><td>171401.71038251367 </td><td>177919.81360946747 </td><td>178193.4967320261 </td><td>184063.06872037915  </td><td>191808.05969498912    </td><td>0.0               </td><td>1997.0            </td><td>1998.0            </td><td>482.0             </td><td>201051.3968871595   </td><td>0.0               </td><td>13830.0          </td><td>224699.7863950498     </td><td>60.0              </td><td>223156.8495098039     </td><td>182592.86046511628    </td><td>178405.7096069869 </td><td>1.0                </td><td>185601.24938271602  </td><td>161376.63366336632    </td><td>180398.05693069307 </td><td>212.0             </td><td>2.0               </td><td>0.0               </td><td>0.0               </td><td>222366.88205128204  </td><td>203633.455628685    </td><td>5.0               </td><td>181573.27604166663  </td><td>74.0              </td></tr>\n",
       "<tr><td>3      </td><td>219907.18575980392   </td><td>178193.4967320261    </td><td>184861.0283687943   </td><td>0.0              </td><td>2.0               </td><td>176671.8111111111 </td><td>3.0               </td><td>178193.4967320261 </td><td>181115.23         </td><td>7.0               </td><td>209302.39072847684   </td><td>138313.57142857142</td><td>1.0               </td><td>143747.87889273354 </td><td>324.0             </td><td>2010.0            </td><td>678.0             </td><td>1604.0            </td><td>179857.76346604215  </td><td>1998.0            </td><td>0.0               </td><td>187920.61064425771</td><td>181805.66321243523</td><td>171302.3622047244      </td><td>175531.83179723503 </td><td>0.0              </td><td>206602.9363057325    </td><td>926.0             </td><td>926.0             </td><td>179414.41573033712</td><td>175715.7828162291    </td><td>178193.4967320261  </td><td>0.0               </td><td>6.0               </td><td>36.0             </td><td>6.0               </td><td>1.0                </td><td>184788.65617433414  </td><td>211491.75330396474 </td><td>170822.7626262626 </td><td>178218.27472527474  </td><td>178193.4967320261</td><td>187300.52567237162  </td><td>0.0               </td><td>0.0                </td><td>203114.2504640024   </td><td>194850.58566088302</td><td>602.0             </td><td>211880.81318681315   </td><td>171401.71038251367 </td><td>177919.81360946747 </td><td>178193.4967320261 </td><td>184063.06872037915  </td><td>191808.05969498912    </td><td>20.0              </td><td>1998.0            </td><td>1998.0            </td><td>470.0             </td><td>201051.3968871595   </td><td>0.0               </td><td>9978.0           </td><td>224699.7863950498     </td><td>60.0              </td><td>223156.8495098039     </td><td>182592.86046511628    </td><td>178405.7096069869 </td><td>1.0                </td><td>185601.24938271602  </td><td>161376.63366336632    </td><td>180398.05693069307 </td><td>360.0             </td><td>2.0               </td><td>0.0               </td><td>0.0               </td><td>222366.88205128204  </td><td>203633.455628685    </td><td>6.0               </td><td>181573.27604166663  </td><td>78.0              </td></tr>\n",
       "<tr><td>4      </td><td>178193.4967320261    </td><td>178193.4967320261    </td><td>184861.0283687943   </td><td>0.0              </td><td>2.0               </td><td>176671.8111111111 </td><td>2.0               </td><td>178193.4967320261 </td><td>181115.23         </td><td>5.0               </td><td>169568.25527903467   </td><td>206633.03141361254</td><td>0.0               </td><td>228065.58659034083 </td><td>1017.0            </td><td>2010.0            </td><td>0.0               </td><td>1280.0            </td><td>179857.76346604215  </td><td>1992.0            </td><td>0.0               </td><td>187920.61064425771</td><td>183943.1995098039 </td><td>171302.3622047244      </td><td>175531.83179723503 </td><td>0.0              </td><td>167128.41844919784   </td><td>1280.0            </td><td>1280.0            </td><td>179414.41573033712</td><td>252389.9995098039    </td><td>178193.4967320261  </td><td>0.0               </td><td>8.0               </td><td>82.0             </td><td>1.0               </td><td>0.0                </td><td>184788.65617433414  </td><td>211491.75330396474 </td><td>170822.7626262626 </td><td>178218.27472527474  </td><td>178193.4967320261</td><td>187300.52567237162  </td><td>0.0               </td><td>0.0                </td><td>157482.0            </td><td>194850.58566088302</td><td>263.0             </td><td>211880.81318681315   </td><td>171401.71038251367 </td><td>177919.81360946747 </td><td>178193.4967320261 </td><td>184063.06872037915  </td><td>288359.0245098039     </td><td>0.0               </td><td>1992.0            </td><td>1992.0            </td><td>506.0             </td><td>201051.3968871595   </td><td>144.0             </td><td>5005.0           </td><td>169309.44117647054    </td><td>120.0             </td><td>201271.56721053383    </td><td>182592.86046511628    </td><td>178405.7096069869 </td><td>1.0                </td><td>185601.24938271602  </td><td>161376.63366336632    </td><td>180398.05693069307 </td><td>0.0               </td><td>2.0               </td><td>0.0               </td><td>0.0               </td><td>222366.88205128204  </td><td>170914.57205240175  </td><td>5.0               </td><td>181573.27604166663  </td><td>43.0              </td></tr>\n",
       "<tr><td>5      </td><td>205118.42900418595   </td><td>178193.4967320261    </td><td>184861.0283687943   </td><td>0.0              </td><td>2.0               </td><td>176671.8111111111 </td><td>3.0               </td><td>178193.4967320261 </td><td>181115.23         </td><td>7.0               </td><td>169568.25527903467   </td><td>206633.03141361254</td><td>1.0               </td><td>143747.87889273354 </td><td>763.0             </td><td>2010.0            </td><td>892.0             </td><td>1655.0            </td><td>179857.76346604215  </td><td>1993.0            </td><td>0.0               </td><td>187920.61064425771</td><td>181805.66321243523</td><td>171302.3622047244      </td><td>175531.83179723503 </td><td>0.0              </td><td>167128.41844919784   </td><td>763.0             </td><td>763.0             </td><td>179414.41573033712</td><td>175715.7828162291    </td><td>178193.4967320261  </td><td>0.0               </td><td>6.0               </td><td>84.0             </td><td>4.0               </td><td>1.0                </td><td>184788.65617433414  </td><td>158961.70308123247 </td><td>170822.7626262626 </td><td>178218.27472527474  </td><td>178193.4967320261</td><td>187300.52567237162  </td><td>0.0               </td><td>0.0                </td><td>157482.0            </td><td>194850.58566088302</td><td>0.0               </td><td>140285.62820512822   </td><td>171401.71038251367 </td><td>165751.57330498463 </td><td>178193.4967320261 </td><td>184063.06872037915  </td><td>191808.05969498912    </td><td>0.0               </td><td>1993.0            </td><td>1994.0            </td><td>440.0             </td><td>201051.3968871595   </td><td>0.0               </td><td>10000.0          </td><td>168970.1659826721     </td><td>60.0              </td><td>223156.8495098039     </td><td>182592.86046511628    </td><td>178405.7096069869 </td><td>1.0                </td><td>185601.24938271602  </td><td>161376.63366336632    </td><td>180398.05693069307 </td><td>157.0             </td><td>2.0               </td><td>0.0               </td><td>0.0               </td><td>222366.88205128204  </td><td>203633.455628685    </td><td>5.0               </td><td>181573.27604166663  </td><td>75.0              </td></tr>\n",
       "<tr><td>6      </td><td>178193.4967320261    </td><td>163465.69117647054   </td><td>184861.0283687943   </td><td>500.0            </td><td>2.0               </td><td>176671.8111111111 </td><td>3.0               </td><td>181956.919246646  </td><td>181115.23         </td><td>6.0               </td><td>169568.25527903467   </td><td>206633.03141361254</td><td>0.0               </td><td>143747.87889273354 </td><td>233.0             </td><td>2010.0            </td><td>0.0               </td><td>1187.0            </td><td>179857.76346604215  </td><td>1992.0            </td><td>0.0               </td><td>187920.61064425771</td><td>181805.66321243523</td><td>171302.3622047244      </td><td>175531.83179723503 </td><td>0.0              </td><td>167128.41844919784   </td><td>1168.0            </td><td>1187.0            </td><td>179414.41573033712</td><td>175715.7828162291    </td><td>178193.4967320261  </td><td>0.0               </td><td>6.0               </td><td>21.0             </td><td>3.0               </td><td>0.0                </td><td>184788.65617433414  </td><td>211491.75330396474 </td><td>170822.7626262626 </td><td>178218.27472527474  </td><td>178193.4967320261</td><td>187300.52567237162  </td><td>0.0               </td><td>0.0                </td><td>157482.0            </td><td>194850.58566088302</td><td>935.0             </td><td>140285.62820512822   </td><td>171401.71038251367 </td><td>177919.81360946747 </td><td>178193.4967320261 </td><td>184063.06872037915  </td><td>191808.05969498912    </td><td>0.0               </td><td>1992.0            </td><td>2007.0            </td><td>420.0             </td><td>201051.3968871595   </td><td>0.0               </td><td>7980.0           </td><td>169309.44117647054    </td><td>20.0              </td><td>223156.8495098039     </td><td>182592.86046511628    </td><td>178405.7096069869 </td><td>1.0                </td><td>185601.24938271602  </td><td>161376.63366336632    </td><td>179370.36597321855 </td><td>483.0             </td><td>2.0               </td><td>0.0               </td><td>1.0               </td><td>222366.88205128204  </td><td>170914.57205240175  </td><td>7.0               </td><td>181573.27604166663  </td><td>68.58035714285712 </td></tr>\n",
       "<tr><td>7      </td><td>219907.18575980392   </td><td>178193.4967320261    </td><td>184861.0283687943   </td><td>0.0              </td><td>2.0               </td><td>176671.8111111111 </td><td>3.0               </td><td>178193.4967320261 </td><td>181115.23         </td><td>7.0               </td><td>209302.39072847684   </td><td>206633.03141361254</td><td>1.0               </td><td>143747.87889273354 </td><td>789.0             </td><td>2010.0            </td><td>676.0             </td><td>1465.0            </td><td>179857.76346604215  </td><td>1998.0            </td><td>0.0               </td><td>187920.61064425771</td><td>181805.66321243523</td><td>171302.3622047244      </td><td>175531.83179723503 </td><td>0.0              </td><td>206602.9363057325    </td><td>789.0             </td><td>789.0             </td><td>179414.41573033712</td><td>175715.7828162291    </td><td>178193.4967320261  </td><td>0.0               </td><td>6.0               </td><td>75.0             </td><td>5.0               </td><td>1.0                </td><td>184788.65617433414  </td><td>158961.70308123247 </td><td>170822.7626262626 </td><td>178218.27472527474  </td><td>178193.4967320261</td><td>187300.52567237162  </td><td>0.0               </td><td>0.0                </td><td>157482.0            </td><td>194850.58566088302</td><td>0.0               </td><td>140285.62820512822   </td><td>171401.71038251367 </td><td>177919.81360946747 </td><td>178193.4967320261 </td><td>184063.06872037915  </td><td>191808.05969498912    </td><td>0.0               </td><td>1998.0            </td><td>1998.0            </td><td>393.0             </td><td>201051.3968871595   </td><td>0.0               </td><td>8402.0           </td><td>168970.1659826721     </td><td>60.0              </td><td>223156.8495098039     </td><td>182592.86046511628    </td><td>178405.7096069869 </td><td>1.0                </td><td>185601.24938271602  </td><td>161376.63366336632    </td><td>180398.05693069307 </td><td>0.0               </td><td>2.0               </td><td>0.0               </td><td>0.0               </td><td>222366.88205128204  </td><td>203633.455628685    </td><td>5.0               </td><td>181573.27604166663  </td><td>63.0              </td></tr>\n",
       "<tr><td>8      </td><td>133191.52450980392   </td><td>178193.4967320261    </td><td>184861.0283687943   </td><td>0.0              </td><td>2.0               </td><td>176671.8111111111 </td><td>2.0               </td><td>178193.4967320261 </td><td>181115.23         </td><td>5.0               </td><td>169568.25527903467   </td><td>206633.03141361254</td><td>1.0               </td><td>143747.87889273354 </td><td>663.0             </td><td>2010.0            </td><td>0.0               </td><td>1341.0            </td><td>179857.76346604215  </td><td>1990.0            </td><td>0.0               </td><td>187920.61064425771</td><td>181805.66321243523</td><td>171302.3622047244      </td><td>175531.83179723503 </td><td>0.0              </td><td>167128.41844919784   </td><td>1300.0            </td><td>1341.0            </td><td>179414.41573033712</td><td>175715.7828162291    </td><td>178193.4967320261  </td><td>0.0               </td><td>7.0               </td><td>0.0              </td><td>2.0               </td><td>1.0                </td><td>184788.65617433414  </td><td>158961.70308123247 </td><td>170822.7626262626 </td><td>178218.27472527474  </td><td>178193.4967320261</td><td>187300.52567237162  </td><td>0.0               </td><td>0.0                </td><td>157482.0            </td><td>163981.4191419142 </td><td>637.0             </td><td>211880.81318681315   </td><td>171401.71038251367 </td><td>177919.81360946747 </td><td>178193.4967320261 </td><td>184063.06872037915  </td><td>191808.05969498912    </td><td>0.0               </td><td>1990.0            </td><td>1990.0            </td><td>506.0             </td><td>201051.3968871595   </td><td>0.0               </td><td>10176.0          </td><td>224699.7863950498     </td><td>20.0              </td><td>143948.79679144386    </td><td>182592.86046511628    </td><td>178405.7096069869 </td><td>1.0                </td><td>185601.24938271602  </td><td>252970.21398348815    </td><td>180398.05693069307 </td><td>192.0             </td><td>1.0               </td><td>0.0               </td><td>1.0               </td><td>222366.88205128204  </td><td>170914.57205240175  </td><td>5.0               </td><td>181573.27604166663  </td><td>85.0              </td></tr>\n",
       "<tr><td>9      </td><td>178193.4967320261    </td><td>178193.4967320261    </td><td>184861.0283687943   </td><td>0.0              </td><td>2.0               </td><td>176671.8111111111 </td><td>2.0               </td><td>151206.9049445865 </td><td>181115.23         </td><td>4.0               </td><td>163573.83733031675   </td><td>138313.57142857142</td><td>0.0               </td><td>143747.87889273354 </td><td>0.0               </td><td>2010.0            </td><td>0.0               </td><td>882.0             </td><td>179857.76346604215  </td><td>1970.0            </td><td>0.0               </td><td>187920.61064425771</td><td>181805.66321243523</td><td>171302.3622047244      </td><td>175531.83179723503 </td><td>0.0              </td><td>173812.54638480392   </td><td>882.0             </td><td>882.0             </td><td>179414.41573033712</td><td>175715.7828162291    </td><td>178193.4967320261  </td><td>78.0              </td><td>4.0               </td><td>0.0              </td><td>4.0               </td><td>0.0                </td><td>184788.65617433414  </td><td>149413.2797336845  </td><td>170822.7626262626 </td><td>178218.27472527474  </td><td>178193.4967320261</td><td>187300.52567237162  </td><td>0.0               </td><td>0.0                </td><td>157482.0            </td><td>163981.4191419142 </td><td>804.0             </td><td>140285.62820512822   </td><td>171401.71038251367 </td><td>165751.57330498463 </td><td>178193.4967320261 </td><td>184063.06872037915  </td><td>152080.32258672698    </td><td>0.0               </td><td>1970.0            </td><td>1970.0            </td><td>525.0             </td><td>201051.3968871595   </td><td>0.0               </td><td>8400.0           </td><td>169309.44117647054    </td><td>20.0              </td><td>223156.8495098039     </td><td>167901.0383986928     </td><td>178405.7096069869 </td><td>1.0                </td><td>185601.24938271602  </td><td>161376.63366336632    </td><td>180398.05693069307 </td><td>240.0             </td><td>1.0               </td><td>0.0               </td><td>1.0               </td><td>148549.72906403942  </td><td>170914.57205240175  </td><td>5.0               </td><td>181573.27604166663  </td><td>70.0              </td></tr>\n",
       "</tbody>\n",
       "</table>"
      ]
     },
     "metadata": {},
     "output_type": "display_data"
    }
   ],
   "source": [
    "print('Imputed and encoded numeric training data:')\n",
    "train[encoded_nums].describe() #79 numeric columns w/ no missing\n",
    "print('--------------------------------------------------------------------------------')\n",
    "print('Imputed and encoded numeric validation data:')\n",
    "valid[encoded_nums].describe() #79 numeric columns w/ no missing\n",
    "print('--------------------------------------------------------------------------------')\n",
    "print('Imputed and encoded numeric test data:')\n",
    "test[encoded_nums].describe() #79 numeric columns w/ no missing"
   ]
  },
  {
   "cell_type": "code",
   "execution_count": 12,
   "metadata": {},
   "outputs": [
    {
     "data": {
      "text/html": [
       "<table>\n",
       "<thead>\n",
       "<tr><th>Neighborhood  </th><th style=\"text-align: right;\">  Neighborhood_Tencode</th></tr>\n",
       "</thead>\n",
       "<tbody>\n",
       "<tr><td>NAmes         </td><td style=\"text-align: right;\">                152080</td></tr>\n",
       "<tr><td>NAmes         </td><td style=\"text-align: right;\">                152080</td></tr>\n",
       "<tr><td>Gilbert       </td><td style=\"text-align: right;\">                191808</td></tr>\n",
       "<tr><td>Gilbert       </td><td style=\"text-align: right;\">                191808</td></tr>\n",
       "<tr><td>StoneBr       </td><td style=\"text-align: right;\">                288359</td></tr>\n",
       "</tbody>\n",
       "</table>"
      ]
     },
     "metadata": {},
     "output_type": "display_data"
    },
    {
     "name": "stdout",
     "output_type": "stream",
     "text": [
      "\n",
      "{nan: 178193.49673202613, 'BrkSide': 129965.77450980392, 'Timber': 260109.74673202613, 'CollgCr': 190019.77971813726, 'Gilbert': 191808.0596949891, 'NridgHt': 284073.1545098039, 'NoRidge': 273948.2552790347, 'NAmes': 152080.32258672698, 'Mitchel': 169316.52450980392, 'SWISU': 156269.02450980392, 'MeadowV': 113131.52450980392, 'Crawfor': 216008.84593837534, 'BrDale': 116064.02450980392, 'OldTown': 139863.03613771088, 'Sawyer': 143162.40700980392, 'Somerst': 227656.9671023965, 'IDOTRR': 112866.71681749621, 'NWAmes': 184610.14950980392, 'NPkVill': 147641.52450980392, 'StoneBr': 288359.0245098039, 'Blmngtn': 210845.6545098039, 'Edwards': 126241.13989441929, 'Veenker': 243734.02450980392, 'ClearCr': 207949.02450980392, 'SawyerW': 189097.7776348039}\n"
     ]
    }
   ],
   "source": [
    "# Check Neighborhood_Tencode\n",
    "\n",
    "print(test[0:5, ['Neighborhood', 'Neighborhood_Tencode']])\n",
    "_, _ = target_encoder(valid, test, 'Neighborhood', 'SalePrice', test=True)\n",
    "del _\n",
    "\n",
    "# NAmes   152080\n",
    "# NAmes   152080\n",
    "# Gilbert 191808\n",
    "# Gilbert 191808\n",
    "# StoneBr 288359"
   ]
  },
  {
   "cell_type": "code",
   "execution_count": 13,
   "metadata": {
    "collapsed": true
   },
   "outputs": [],
   "source": [
    "def feature_combiner(training_frame, test_frame, nums):\n",
    "    \n",
    "    \"\"\" Combines numeric features using simple arithmatic operations.\n",
    "    \n",
    "    :param training_frame: Training frame from which to generate features and onto which generated \n",
    "                           feeatures will be cbound.\n",
    "    :param test_frame: Test frame from which to generate features and onto which generated \n",
    "                       feeatures will be cbound.\n",
    "    :param nums: List of original numeric features from which to generate combined features.\n",
    "    \n",
    "    \"\"\"\n",
    "\n",
    "    total = len(nums)\n",
    "    \n",
    "    # convert to pandas\n",
    "    train_df = training_frame.as_data_frame()\n",
    "    test_df = test_frame.as_data_frame()\n",
    "    \n",
    "    for i, col_i in enumerate(nums):\n",
    "        \n",
    "        print('Combining: ' + col_i + ' (' + str(i+1) + '/' + str(total) + ') ...')        \n",
    "        \n",
    "        for j, col_j in enumerate(nums):\n",
    "            \n",
    "            # don't repeat (i*j = j*i)\n",
    "            if i < j:\n",
    "                \n",
    "                # convert to pandas\n",
    "                col_i_train_df = train_df[col_i]\n",
    "                col_j_train_df = train_df[col_j]\n",
    "                col_i_test_df = test_df[col_i]\n",
    "                col_j_test_df = test_df[col_j] \n",
    "\n",
    "                # multiply, convert back to h2o\n",
    "                train_df[str(col_i + '|' + col_j)] = col_i_train_df.values*col_j_train_df.values\n",
    "                test_df[str(col_i + '|' + col_j)] = col_i_test_df.values*col_j_test_df.values\n",
    "                \n",
    "    print('Done.')\n",
    "    \n",
    "    # convert back to h2o\n",
    "    \n",
    "    print('Converting to H2OFrame ...')\n",
    "    \n",
    "    training_frame = h2o.H2OFrame(train_df)\n",
    "    training_frame.columns = list(train_df)\n",
    "    test_frame = h2o.H2OFrame(test_df)\n",
    "    test_frame.columns = list(test_df)\n",
    "    \n",
    "    print('Done.')\n",
    "    print()\n",
    "    \n",
    "    # conserve memory \n",
    "    del train_df\n",
    "    del test_df \n",
    "    \n",
    "    return training_frame, test_frame"
   ]
  },
  {
   "cell_type": "code",
   "execution_count": 14,
   "metadata": {},
   "outputs": [
    {
     "name": "stdout",
     "output_type": "stream",
     "text": [
      "Combining: FireplaceQu_Tencode (1/79) ...\n",
      "Combining: MiscFeature_Tencode (2/79) ...\n",
      "Combining: CentralAir_Tencode (3/79) ...\n",
      "Combining: MiscVal (4/79) ...\n",
      "Combining: GarageCars (5/79) ...\n",
      "Combining: RoofMatl_Tencode (6/79) ...\n",
      "Combining: BedroomAbvGr (7/79) ...\n",
      "Combining: Fence_Tencode (8/79) ...\n",
      "Combining: BsmtCond_Tencode (9/79) ...\n",
      "Combining: TotRmsAbvGrd (10/79) ...\n",
      "Combining: Exterior2nd_Tencode (11/79) ...\n",
      "Combining: BsmtQual_Tencode (12/79) ...\n",
      "Combining: Fireplaces (13/79) ...\n",
      "Combining: ExterQual_Tencode (14/79) ...\n",
      "Combining: BsmtUnfSF (15/79) ...\n",
      "Combining: YrSold (16/79) ...\n",
      "Combining: 2ndFlrSF (17/79) ...\n",
      "Combining: GrLivArea (18/79) ...\n",
      "Combining: Functional_Tencode (19/79) ...\n",
      "Combining: YearBuilt (20/79) ...\n",
      "Combining: PoolArea (21/79) ...\n",
      "Combining: MSZoning_Tencode (22/79) ...\n",
      "Combining: BldgType_Tencode (23/79) ...\n",
      "Combining: SaleCondition_Tencode (24/79) ...\n",
      "Combining: LandSlope_Tencode (25/79) ...\n",
      "Combining: 3SsnPorch (26/79) ...\n",
      "Combining: Exterior1st_Tencode (27/79) ...\n",
      "Combining: TotalBsmtSF (28/79) ...\n",
      "Combining: 1stFlrSF (29/79) ...\n",
      "Combining: Heating_Tencode (30/79) ...\n",
      "Combining: LandContour_Tencode (31/79) ...\n",
      "Combining: Utilities_Tencode (32/79) ...\n",
      "Combining: BsmtFinSF2 (33/79) ...\n",
      "Combining: OverallQual (34/79) ...\n",
      "Combining: OpenPorchSF (35/79) ...\n",
      "Combining: MoSold (36/79) ...\n",
      "Combining: HalfBath (37/79) ...\n",
      "Combining: Electrical_Tencode (38/79) ...\n",
      "Combining: HeatingQC_Tencode (39/79) ...\n",
      "Combining: SaleType_Tencode (40/79) ...\n",
      "Combining: Condition2_Tencode (41/79) ...\n",
      "Combining: PoolQC_Tencode (42/79) ...\n",
      "Combining: GarageCond_Tencode (43/79) ...\n",
      "Combining: EnclosedPorch (44/79) ...\n",
      "Combining: BsmtHalfBath (45/79) ...\n",
      "Combining: MasVnrType_Tencode (46/79) ...\n",
      "Combining: LotShape_Tencode (47/79) ...\n",
      "Combining: BsmtFinSF1 (48/79) ...\n",
      "Combining: KitchenQual_Tencode (49/79) ...\n",
      "Combining: RoofStyle_Tencode (50/79) ...\n",
      "Combining: LotConfig_Tencode (51/79) ...\n",
      "Combining: Alley_Tencode (52/79) ...\n",
      "Combining: PavedDrive_Tencode (53/79) ...\n",
      "Combining: Neighborhood_Tencode (54/79) ...\n",
      "Combining: MasVnrArea (55/79) ...\n",
      "Combining: GarageYrBlt (56/79) ...\n",
      "Combining: YearRemodAdd (57/79) ...\n",
      "Combining: GarageArea (58/79) ...\n",
      "Combining: GarageType_Tencode (59/79) ...\n",
      "Combining: ScreenPorch (60/79) ...\n",
      "Combining: LotArea (61/79) ...\n",
      "Combining: BsmtFinType1_Tencode (62/79) ...\n",
      "Combining: MSSubClass (63/79) ...\n",
      "Combining: GarageFinish_Tencode (64/79) ...\n",
      "Combining: BsmtFinType2_Tencode (65/79) ...\n",
      "Combining: Street_Tencode (66/79) ...\n",
      "Combining: KitchenAbvGr (67/79) ...\n",
      "Combining: GarageQual_Tencode (68/79) ...\n",
      "Combining: BsmtExposure_Tencode (69/79) ...\n",
      "Combining: ExterCond_Tencode (70/79) ...\n",
      "Combining: WoodDeckSF (71/79) ...\n",
      "Combining: FullBath (72/79) ...\n",
      "Combining: LowQualFinSF (73/79) ...\n",
      "Combining: BsmtFullBath (74/79) ...\n",
      "Combining: Foundation_Tencode (75/79) ...\n",
      "Combining: HouseStyle_Tencode (76/79) ...\n",
      "Combining: OverallCond (77/79) ...\n",
      "Combining: Condition1_Tencode (78/79) ...\n",
      "Combining: LotFrontage (79/79) ...\n",
      "Done.\n",
      "Converting to H2OFrame ...\n",
      "Done.\n",
      "\n",
      "Combining: FireplaceQu_Tencode (1/79) ...\n",
      "Combining: MiscFeature_Tencode (2/79) ...\n",
      "Combining: CentralAir_Tencode (3/79) ...\n",
      "Combining: MiscVal (4/79) ...\n",
      "Combining: GarageCars (5/79) ...\n",
      "Combining: RoofMatl_Tencode (6/79) ...\n",
      "Combining: BedroomAbvGr (7/79) ...\n",
      "Combining: Fence_Tencode (8/79) ...\n",
      "Combining: BsmtCond_Tencode (9/79) ...\n",
      "Combining: TotRmsAbvGrd (10/79) ...\n",
      "Combining: Exterior2nd_Tencode (11/79) ...\n",
      "Combining: BsmtQual_Tencode (12/79) ...\n",
      "Combining: Fireplaces (13/79) ...\n",
      "Combining: ExterQual_Tencode (14/79) ...\n",
      "Combining: BsmtUnfSF (15/79) ...\n",
      "Combining: YrSold (16/79) ...\n",
      "Combining: 2ndFlrSF (17/79) ...\n",
      "Combining: GrLivArea (18/79) ...\n",
      "Combining: Functional_Tencode (19/79) ...\n",
      "Combining: YearBuilt (20/79) ...\n",
      "Combining: PoolArea (21/79) ...\n",
      "Combining: MSZoning_Tencode (22/79) ...\n",
      "Combining: BldgType_Tencode (23/79) ...\n",
      "Combining: SaleCondition_Tencode (24/79) ...\n",
      "Combining: LandSlope_Tencode (25/79) ...\n",
      "Combining: 3SsnPorch (26/79) ...\n",
      "Combining: Exterior1st_Tencode (27/79) ...\n",
      "Combining: TotalBsmtSF (28/79) ...\n",
      "Combining: 1stFlrSF (29/79) ...\n",
      "Combining: Heating_Tencode (30/79) ...\n",
      "Combining: LandContour_Tencode (31/79) ...\n",
      "Combining: Utilities_Tencode (32/79) ...\n",
      "Combining: BsmtFinSF2 (33/79) ...\n",
      "Combining: OverallQual (34/79) ...\n",
      "Combining: OpenPorchSF (35/79) ...\n",
      "Combining: MoSold (36/79) ...\n",
      "Combining: HalfBath (37/79) ...\n",
      "Combining: Electrical_Tencode (38/79) ...\n",
      "Combining: HeatingQC_Tencode (39/79) ...\n",
      "Combining: SaleType_Tencode (40/79) ...\n",
      "Combining: Condition2_Tencode (41/79) ...\n",
      "Combining: PoolQC_Tencode (42/79) ...\n",
      "Combining: GarageCond_Tencode (43/79) ...\n",
      "Combining: EnclosedPorch (44/79) ...\n",
      "Combining: BsmtHalfBath (45/79) ...\n",
      "Combining: MasVnrType_Tencode (46/79) ...\n",
      "Combining: LotShape_Tencode (47/79) ...\n",
      "Combining: BsmtFinSF1 (48/79) ...\n",
      "Combining: KitchenQual_Tencode (49/79) ...\n",
      "Combining: RoofStyle_Tencode (50/79) ...\n",
      "Combining: LotConfig_Tencode (51/79) ...\n",
      "Combining: Alley_Tencode (52/79) ...\n",
      "Combining: PavedDrive_Tencode (53/79) ...\n",
      "Combining: Neighborhood_Tencode (54/79) ...\n",
      "Combining: MasVnrArea (55/79) ...\n",
      "Combining: GarageYrBlt (56/79) ...\n",
      "Combining: YearRemodAdd (57/79) ...\n",
      "Combining: GarageArea (58/79) ...\n",
      "Combining: GarageType_Tencode (59/79) ...\n",
      "Combining: ScreenPorch (60/79) ...\n",
      "Combining: LotArea (61/79) ...\n",
      "Combining: BsmtFinType1_Tencode (62/79) ...\n",
      "Combining: MSSubClass (63/79) ...\n",
      "Combining: GarageFinish_Tencode (64/79) ...\n",
      "Combining: BsmtFinType2_Tencode (65/79) ...\n",
      "Combining: Street_Tencode (66/79) ...\n",
      "Combining: KitchenAbvGr (67/79) ...\n",
      "Combining: GarageQual_Tencode (68/79) ...\n",
      "Combining: BsmtExposure_Tencode (69/79) ...\n",
      "Combining: ExterCond_Tencode (70/79) ...\n",
      "Combining: WoodDeckSF (71/79) ...\n",
      "Combining: FullBath (72/79) ...\n",
      "Combining: LowQualFinSF (73/79) ...\n",
      "Combining: BsmtFullBath (74/79) ...\n",
      "Combining: Foundation_Tencode (75/79) ...\n",
      "Combining: HouseStyle_Tencode (76/79) ...\n",
      "Combining: OverallCond (77/79) ...\n",
      "Combining: Condition1_Tencode (78/79) ...\n",
      "Combining: LotFrontage (79/79) ...\n",
      "Done.\n",
      "Converting to H2OFrame ...\n",
      "Done.\n",
      "\n"
     ]
    }
   ],
   "source": [
    "train, _ = feature_combiner(train, test, encoded_nums)\n",
    "valid, test = feature_combiner(valid, test, encoded_nums)"
   ]
  },
  {
   "cell_type": "code",
   "execution_count": 15,
   "metadata": {},
   "outputs": [
    {
     "name": "stdout",
     "output_type": "stream",
     "text": [
      "Numeric = ['Exterior1st_Tencode|BsmtFullBath', 'SaleType_Tencode|LotArea', 'FireplaceQu_Tencode|Utilities_Tencode', 'BldgType_Tencode|HouseStyle_Tencode', 'Fireplaces|MoSold', 'YrSold|Condition1_Tencode', 'Exterior2nd_Tencode|HeatingQC_Tencode', 'Functional_Tencode|HeatingQC_Tencode', 'MSZoning_Tencode|OverallCond', 'LandSlope_Tencode|OverallQual', 'MoSold|FullBath', 'LandSlope_Tencode|ExterCond_Tencode', 'Exterior2nd_Tencode|KitchenAbvGr', 'Exterior2nd_Tencode|Fireplaces', 'BsmtQual_Tencode|GarageType_Tencode', '1stFlrSF|HouseStyle_Tencode', 'Fence_Tencode|LotConfig_Tencode', 'GarageArea|FullBath', 'WoodDeckSF|FullBath', '2ndFlrSF|Foundation_Tencode', 'TotRmsAbvGrd', 'Fence_Tencode|WoodDeckSF', 'YearRemodAdd|OverallCond', '2ndFlrSF|MSZoning_Tencode', '3SsnPorch|ScreenPorch', 'Fence_Tencode|HalfBath', 'BsmtFinType1_Tencode|BsmtExposure_Tencode', 'BsmtFinType2_Tencode|LowQualFinSF', 'YrSold|Heating_Tencode', 'OpenPorchSF|HalfBath', 'YearBuilt|BsmtFinSF1', 'MiscFeature_Tencode|Neighborhood_Tencode', 'BsmtFullBath|OverallCond', 'MSZoning_Tencode|GarageCond_Tencode', 'RoofMatl_Tencode|Neighborhood_Tencode', 'Fence_Tencode|GarageArea', 'TotalBsmtSF|HeatingQC_Tencode', 'SaleCondition_Tencode|MSSubClass', 'BsmtUnfSF|3SsnPorch', 'OpenPorchSF|LotConfig_Tencode', 'CentralAir_Tencode|RoofStyle_Tencode', 'RoofMatl_Tencode|MoSold', 'GarageCars|Exterior2nd_Tencode', 'Utilities_Tencode|KitchenQual_Tencode', 'SaleType_Tencode|LowQualFinSF', '3SsnPorch', 'SaleType_Tencode|Foundation_Tencode', 'BsmtCond_Tencode|Exterior2nd_Tencode', 'Exterior2nd_Tencode|LotArea', 'RoofStyle_Tencode|ExterCond_Tencode', 'Fence_Tencode|RoofStyle_Tencode', 'MiscFeature_Tencode|ScreenPorch', 'BldgType_Tencode|PavedDrive_Tencode', 'EnclosedPorch|LowQualFinSF', 'Functional_Tencode|MSSubClass', 'BsmtFinSF2|LotConfig_Tencode', 'GrLivArea|BsmtFullBath', 'Fence_Tencode|1stFlrSF', 'PoolQC_Tencode|BsmtFullBath', 'Fence_Tencode|BsmtFinType1_Tencode', 'GarageCond_Tencode|BsmtFinType2_Tencode', 'GarageType_Tencode|ScreenPorch', 'PoolArea|WoodDeckSF', 'HeatingQC_Tencode|Neighborhood_Tencode', 'ExterCond_Tencode|Foundation_Tencode', 'Fireplaces|GarageQual_Tencode', 'LandContour_Tencode|YearRemodAdd', 'BsmtUnfSF|LandSlope_Tencode', 'PoolQC_Tencode|GarageType_Tencode', 'ScreenPorch|KitchenAbvGr', 'MSZoning_Tencode|BldgType_Tencode', 'CentralAir_Tencode|HouseStyle_Tencode', 'SaleCondition_Tencode|BsmtExposure_Tencode', '3SsnPorch|OverallQual', 'BsmtFinSF1|Condition1_Tencode', 'HeatingQC_Tencode|GarageArea', 'HeatingQC_Tencode|GarageFinish_Tencode', 'Functional_Tencode|LowQualFinSF', 'BsmtCond_Tencode|LandContour_Tencode', 'RoofMatl_Tencode|BsmtCond_Tencode', 'EnclosedPorch|KitchenQual_Tencode', 'MoSold|SaleType_Tencode', 'GarageCars|Fireplaces', 'MiscFeature_Tencode|PoolQC_Tencode', 'MiscFeature_Tencode|Utilities_Tencode', 'OpenPorchSF|GarageType_Tencode', 'MasVnrArea|ExterCond_Tencode', 'GarageCars|LotArea', 'BsmtUnfSF|PavedDrive_Tencode', 'Fence_Tencode|Condition1_Tencode', 'BedroomAbvGr|Neighborhood_Tencode', 'YrSold|Electrical_Tencode', 'Exterior2nd_Tencode|MSSubClass', 'Fence_Tencode|BsmtExposure_Tencode', 'Alley_Tencode|OverallCond', 'BsmtUnfSF|2ndFlrSF', 'BsmtCond_Tencode|PavedDrive_Tencode', 'Functional_Tencode|LandContour_Tencode', 'Fence_Tencode|Condition2_Tencode', 'ExterQual_Tencode|SaleType_Tencode', '2ndFlrSF|Electrical_Tencode', 'FireplaceQu_Tencode|GarageFinish_Tencode', 'ExterQual_Tencode|HalfBath', 'GarageCars|1stFlrSF', 'BsmtFinSF2|BsmtFullBath', 'GrLivArea|YearBuilt', 'GarageFinish_Tencode|LowQualFinSF', 'BsmtCond_Tencode|LotConfig_Tencode', 'LotShape_Tencode|GarageQual_Tencode', 'Heating_Tencode|LotFrontage', 'Fence_Tencode|3SsnPorch', 'MiscVal|YearRemodAdd', 'FireplaceQu_Tencode', 'Exterior2nd_Tencode|BsmtFullBath', 'Fireplaces|EnclosedPorch', 'Fence_Tencode|Heating_Tencode', 'LotShape_Tencode|YearRemodAdd', 'Neighborhood_Tencode|ExterCond_Tencode', 'CentralAir_Tencode|RoofMatl_Tencode', '1stFlrSF|OverallCond', 'GarageFinish_Tencode|FullBath', 'BsmtCond_Tencode|ExterQual_Tencode', 'Neighborhood_Tencode|LotFrontage', 'YearBuilt|LotConfig_Tencode', 'RoofMatl_Tencode|Fence_Tencode', 'BsmtQual_Tencode|Functional_Tencode', 'LotArea|OverallCond', 'MasVnrType_Tencode|Alley_Tencode', 'BedroomAbvGr|Street_Tencode', 'Fence_Tencode|BsmtHalfBath', 'BsmtCond_Tencode|BsmtQual_Tencode', 'Electrical_Tencode|ScreenPorch', 'HeatingQC_Tencode|PoolQC_Tencode', 'Exterior1st_Tencode|Heating_Tencode', 'Fireplaces', 'TotRmsAbvGrd|FullBath', 'MiscVal|1stFlrSF', 'Exterior1st_Tencode|BsmtFinSF1', 'MSSubClass|Foundation_Tencode', 'BedroomAbvGr|LandContour_Tencode', 'BsmtHalfBath|WoodDeckSF', 'FireplaceQu_Tencode|ExterCond_Tencode', 'Exterior2nd_Tencode|SaleCondition_Tencode', '3SsnPorch|BsmtFinType2_Tencode', 'Heating_Tencode|GarageArea', 'ExterQual_Tencode|YrSold', 'PoolQC_Tencode|GarageYrBlt', 'EnclosedPorch|YearRemodAdd', 'PavedDrive_Tencode|FullBath', 'Utilities_Tencode|Neighborhood_Tencode', 'MiscVal|MSSubClass', 'LandContour_Tencode|OpenPorchSF', 'Electrical_Tencode|LotConfig_Tencode', 'BsmtFinSF2|GarageArea', 'EnclosedPorch|LotConfig_Tencode', 'FireplaceQu_Tencode|HeatingQC_Tencode', 'HalfBath|LotFrontage', 'GarageCond_Tencode|Street_Tencode', 'BsmtFinSF1|GarageYrBlt', 'BsmtFinSF1|MasVnrArea', 'GarageCars|BldgType_Tencode', 'Exterior1st_Tencode|1stFlrSF', 'Utilities_Tencode|LotShape_Tencode', 'OverallQual|EnclosedPorch', '2ndFlrSF|LandContour_Tencode', 'YrSold|MasVnrType_Tencode', '3SsnPorch|OpenPorchSF', 'GrLivArea|MasVnrType_Tencode', 'Exterior2nd_Tencode|1stFlrSF', 'MiscFeature_Tencode|BsmtFinSF2', 'PoolQC_Tencode|PavedDrive_Tencode', 'SaleCondition_Tencode|YearRemodAdd', 'SaleCondition_Tencode|BsmtFinSF2', 'Utilities_Tencode|SaleType_Tencode', 'Functional_Tencode|OverallQual', 'GarageCond_Tencode|YearRemodAdd', 'PavedDrive_Tencode|Foundation_Tencode', 'YearBuilt|LowQualFinSF', 'Exterior2nd_Tencode|BsmtFinType2_Tencode', 'BsmtQual_Tencode|ExterQual_Tencode', 'Heating_Tencode|Condition2_Tencode', 'RoofStyle_Tencode', 'LotConfig_Tencode|YearRemodAdd', 'BldgType_Tencode|LandSlope_Tencode', 'BsmtQual_Tencode|BldgType_Tencode', 'PoolQC_Tencode|Condition1_Tencode', 'Fence_Tencode|GarageType_Tencode', 'YearBuilt|OpenPorchSF', 'TotRmsAbvGrd|2ndFlrSF', 'Fireplaces|Exterior1st_Tencode', 'Functional_Tencode|BsmtFinType2_Tencode', 'GrLivArea|BsmtFinSF2', 'Street_Tencode', 'HalfBath|FullBath', '2ndFlrSF|GarageQual_Tencode', 'Alley_Tencode|LotFrontage', 'MiscVal|BldgType_Tencode', 'GarageCars|MSSubClass', '3SsnPorch|MasVnrArea', 'Exterior2nd_Tencode|RoofStyle_Tencode', 'BsmtCond_Tencode|GarageFinish_Tencode', 'MiscFeature_Tencode|Heating_Tencode', 'Exterior1st_Tencode|Neighborhood_Tencode', '2ndFlrSF|ScreenPorch', 'MSZoning_Tencode|ExterCond_Tencode', 'YrSold|LotConfig_Tencode', 'LandSlope_Tencode|SaleType_Tencode', 'BsmtFinSF2|BsmtFinType2_Tencode', 'LandSlope_Tencode|LotArea', 'GarageYrBlt|ScreenPorch', 'MSZoning_Tencode|GarageType_Tencode', 'GarageCars|HalfBath', 'BsmtUnfSF|HeatingQC_Tencode', 'Electrical_Tencode|MasVnrType_Tencode', 'Fence_Tencode|ScreenPorch', 'Fence_Tencode|GarageFinish_Tencode', 'RoofMatl_Tencode|YrSold', 'MSZoning_Tencode|1stFlrSF', '1stFlrSF|BsmtFinSF1', 'HalfBath|LowQualFinSF', 'BsmtQual_Tencode|Alley_Tencode', 'BsmtUnfSF|Condition2_Tencode', 'Fireplaces|Neighborhood_Tencode', 'Fireplaces|BsmtUnfSF', 'Functional_Tencode|EnclosedPorch', 'RoofMatl_Tencode|LotShape_Tencode', 'FireplaceQu_Tencode|BsmtCond_Tencode', 'YearRemodAdd|Street_Tencode', 'PavedDrive_Tencode|OverallCond', 'FireplaceQu_Tencode|MasVnrType_Tencode', 'BsmtFinSF1|YearRemodAdd', 'GarageCars|BsmtFinType2_Tencode', 'HalfBath|BsmtExposure_Tencode', 'MoSold|MasVnrType_Tencode', 'BedroomAbvGr|Fence_Tencode', '3SsnPorch|KitchenQual_Tencode', '3SsnPorch|GarageFinish_Tencode', 'ExterQual_Tencode|Neighborhood_Tencode', 'YrSold|BsmtExposure_Tencode', 'Fireplaces|RoofStyle_Tencode', 'BldgType_Tencode|1stFlrSF', 'TotalBsmtSF|BsmtFinSF1', 'RoofMatl_Tencode|HeatingQC_Tencode', 'MoSold|WoodDeckSF', 'YearBuilt|MSSubClass', 'BedroomAbvGr|KitchenQual_Tencode', 'BldgType_Tencode|Utilities_Tencode', 'RoofMatl_Tencode|KitchenQual_Tencode', 'BsmtCond_Tencode|OpenPorchSF', 'OverallQual|GarageType_Tencode', 'Electrical_Tencode|HeatingQC_Tencode', 'CentralAir_Tencode|ScreenPorch', 'BsmtCond_Tencode|ScreenPorch', 'Neighborhood_Tencode|LotArea', 'SaleType_Tencode|BsmtHalfBath', 'Exterior2nd_Tencode|HouseStyle_Tencode', '1stFlrSF|Foundation_Tencode', 'YearBuilt|Exterior1st_Tencode', 'LandSlope_Tencode|Condition2_Tencode', 'SaleType_Tencode|WoodDeckSF', 'Heating_Tencode|MSSubClass', 'Neighborhood_Tencode|BsmtFullBath', 'EnclosedPorch|WoodDeckSF', 'Electrical_Tencode|GarageArea', 'GarageCars|GrLivArea', 'ExterQual_Tencode|2ndFlrSF', 'BsmtUnfSF|PoolQC_Tencode', 'OpenPorchSF|BsmtFullBath', 'FireplaceQu_Tencode|LotFrontage', 'BsmtExposure_Tencode|OverallCond', '3SsnPorch|BsmtExposure_Tencode', 'Functional_Tencode|Street_Tencode', 'EnclosedPorch|HouseStyle_Tencode', 'BsmtCond_Tencode|MSSubClass', 'BldgType_Tencode|BsmtHalfBath', '3SsnPorch|Utilities_Tencode', 'CentralAir_Tencode|LandContour_Tencode', 'YrSold|BsmtFinType1_Tencode', 'SaleType_Tencode|BsmtExposure_Tencode', '1stFlrSF|MasVnrArea', 'BsmtQual_Tencode|LotFrontage', 'Functional_Tencode|Utilities_Tencode', 'MiscFeature_Tencode|LandSlope_Tencode', 'BsmtQual_Tencode|KitchenAbvGr', 'YearRemodAdd|LotArea', 'Fireplaces|3SsnPorch', 'MiscFeature_Tencode|OverallQual', 'Electrical_Tencode|SaleType_Tencode', 'GarageCond_Tencode|WoodDeckSF', 'Electrical_Tencode|Street_Tencode', 'RoofMatl_Tencode|YearBuilt', 'SaleCondition_Tencode|RoofStyle_Tencode', 'CentralAir_Tencode|YearRemodAdd', 'PoolArea|GarageYrBlt', 'GrLivArea|KitchenQual_Tencode', 'OpenPorchSF|MasVnrArea', 'Fence_Tencode|KitchenAbvGr', 'SaleCondition_Tencode|GarageCond_Tencode', 'SaleType_Tencode|BsmtFullBath', 'BsmtFinType2_Tencode|FullBath', 'BsmtQual_Tencode|BsmtUnfSF', 'RoofMatl_Tencode|BedroomAbvGr', 'MiscFeature_Tencode|Foundation_Tencode', 'LotArea|BsmtFinType1_Tencode', 'FireplaceQu_Tencode|ScreenPorch', 'ExterQual_Tencode|Utilities_Tencode', 'PoolArea|Alley_Tencode', 'OverallQual|KitchenAbvGr', 'MiscFeature_Tencode|LotArea', 'BldgType_Tencode|OverallQual', 'PoolArea|LotConfig_Tencode', 'CentralAir_Tencode|GarageFinish_Tencode', 'MasVnrType_Tencode|OverallCond', '2ndFlrSF|OverallQual', 'FireplaceQu_Tencode|Electrical_Tencode', 'BsmtFinSF1|PavedDrive_Tencode', 'BsmtCond_Tencode|PoolArea', 'Functional_Tencode|MasVnrType_Tencode', 'Alley_Tencode|ScreenPorch', 'SaleCondition_Tencode|GarageFinish_Tencode', 'GrLivArea|WoodDeckSF', 'LotShape_Tencode|HouseStyle_Tencode', 'FireplaceQu_Tencode|Condition1_Tencode', 'MasVnrType_Tencode|MSSubClass', 'PoolQC_Tencode|Foundation_Tencode', 'FireplaceQu_Tencode|PoolQC_Tencode', 'Condition2_Tencode|OverallCond', 'MoSold|LotShape_Tencode', 'TotalBsmtSF|BsmtHalfBath', 'GarageCars|BedroomAbvGr', 'MoSold|PavedDrive_Tencode', 'BsmtHalfBath|Street_Tencode', 'TotalBsmtSF|LowQualFinSF', '2ndFlrSF|RoofStyle_Tencode', 'BsmtUnfSF|BldgType_Tencode', 'LandSlope_Tencode|FullBath', 'OverallQual|BsmtFinType1_Tencode', '3SsnPorch|HalfBath', 'BsmtFinSF1|LotConfig_Tencode', 'YearRemodAdd|BsmtFinType1_Tencode', 'Alley_Tencode|LowQualFinSF', 'Exterior1st_Tencode|BsmtHalfBath', 'Exterior1st_Tencode|MasVnrArea', 'YrSold|YearRemodAdd', 'Fence_Tencode|Utilities_Tencode', 'Heating_Tencode|GarageQual_Tencode', 'PoolArea|EnclosedPorch', 'LotConfig_Tencode|LotFrontage', 'MSZoning_Tencode|KitchenQual_Tencode', 'GarageYrBlt|BsmtFinType1_Tencode', 'Fireplaces|Condition1_Tencode', 'Functional_Tencode|LandSlope_Tencode', 'MoSold|EnclosedPorch', 'GarageType_Tencode|HouseStyle_Tencode', 'SaleCondition_Tencode|Exterior1st_Tencode', 'YrSold|PoolQC_Tencode', 'Exterior2nd_Tencode|MasVnrType_Tencode', 'LotShape_Tencode|BsmtFinType2_Tencode', 'MiscVal|YearBuilt', 'Alley_Tencode', 'PavedDrive_Tencode', 'Exterior2nd_Tencode|GarageYrBlt', 'Utilities_Tencode|HeatingQC_Tencode', 'GarageCars|BsmtFinType1_Tencode', 'TotRmsAbvGrd|PoolArea', 'ExterQual_Tencode|TotalBsmtSF', 'BsmtUnfSF|Neighborhood_Tencode', 'HalfBath|LotArea', 'BsmtCond_Tencode|BsmtFinSF1', 'YearBuilt|LotArea', 'MiscFeature_Tencode|CentralAir_Tencode', 'Alley_Tencode|Foundation_Tencode', 'Heating_Tencode|LandContour_Tencode', 'Exterior1st_Tencode|MSSubClass', 'OpenPorchSF|PavedDrive_Tencode', 'Functional_Tencode|LotArea', 'KitchenQual_Tencode|GarageArea', 'LotFrontage', 'PoolQC_Tencode|ScreenPorch', 'Fireplaces|LowQualFinSF', 'BsmtQual_Tencode|GarageArea', 'BsmtFullBath', 'SaleCondition_Tencode|LotShape_Tencode', 'MiscVal|OpenPorchSF', 'PoolQC_Tencode|KitchenQual_Tencode', 'LotConfig_Tencode|GarageYrBlt', 'YrSold|OverallCond', 'YearBuilt|KitchenQual_Tencode', 'MoSold|BsmtFinType1_Tencode', 'LandContour_Tencode|MoSold', 'OverallQual|LotConfig_Tencode', 'Fireplaces|HeatingQC_Tencode', 'CentralAir_Tencode|ExterCond_Tencode', 'Fence_Tencode|LowQualFinSF', 'HeatingQC_Tencode|GarageYrBlt', 'Electrical_Tencode|Foundation_Tencode', 'TotRmsAbvGrd|GarageFinish_Tencode', 'BsmtFinSF1|Neighborhood_Tencode', 'OverallQual|GarageArea', 'CentralAir_Tencode|OpenPorchSF', 'BsmtCond_Tencode|SaleCondition_Tencode', 'BsmtFinSF2|KitchenQual_Tencode', 'ExterCond_Tencode|BsmtFullBath', 'PavedDrive_Tencode|LotFrontage', 'MiscFeature_Tencode|LotShape_Tencode', 'HalfBath|BsmtFullBath', 'Exterior2nd_Tencode|LotFrontage', 'GrLivArea', 'RoofMatl_Tencode|FullBath', 'MiscVal|TotalBsmtSF', '1stFlrSF|MoSold', 'ScreenPorch|LotFrontage', 'BsmtUnfSF|OverallCond', 'BsmtUnfSF|BsmtHalfBath', 'HeatingQC_Tencode|Foundation_Tencode', 'Fireplaces|SaleType_Tencode', 'MiscVal|Exterior1st_Tencode', 'GarageCond_Tencode|Alley_Tencode', 'LandSlope_Tencode|1stFlrSF', 'Alley_Tencode|Condition1_Tencode', '2ndFlrSF|TotalBsmtSF', 'YearBuilt|KitchenAbvGr', 'MiscFeature_Tencode|PavedDrive_Tencode', 'MiscVal|KitchenAbvGr', 'TotRmsAbvGrd|GarageCond_Tencode', 'Exterior1st_Tencode|BsmtFinType2_Tencode', 'BedroomAbvGr|YrSold', '3SsnPorch|LowQualFinSF', 'SaleType_Tencode|ExterCond_Tencode', 'CentralAir_Tencode|LotShape_Tencode', 'YearRemodAdd|ScreenPorch', 'OverallQual', 'Fence_Tencode|Functional_Tencode', 'MoSold|HouseStyle_Tencode', 'FullBath|BsmtFullBath', 'RoofMatl_Tencode|2ndFlrSF', 'Exterior2nd_Tencode|Condition1_Tencode', 'LandContour_Tencode|BsmtFinType2_Tencode', 'BsmtExposure_Tencode|LotFrontage', 'Utilities_Tencode|OverallCond', 'GrLivArea|Electrical_Tencode', 'GarageCars|MoSold', 'MiscVal|BsmtHalfBath', 'HeatingQC_Tencode|Alley_Tencode', 'GrLivArea|MoSold', 'BsmtExposure_Tencode|WoodDeckSF', 'FireplaceQu_Tencode|SaleCondition_Tencode', 'Fireplaces|HouseStyle_Tencode', 'CentralAir_Tencode|TotRmsAbvGrd', 'LandContour_Tencode|OverallQual', '1stFlrSF|BsmtFinSF2', 'TotRmsAbvGrd|LotArea', '3SsnPorch|EnclosedPorch', 'BsmtFinSF1|OverallCond', 'MSSubClass|GarageFinish_Tencode', '2ndFlrSF|BsmtFinType2_Tencode', 'Fence_Tencode|GarageCond_Tencode', 'Electrical_Tencode|Condition2_Tencode', 'RoofMatl_Tencode|GarageFinish_Tencode', 'OpenPorchSF|ExterCond_Tencode', 'Electrical_Tencode|BsmtFullBath', 'PavedDrive_Tencode|BsmtFullBath', 'MiscFeature_Tencode|3SsnPorch', 'Exterior1st_Tencode|HouseStyle_Tencode', 'Fence_Tencode|OpenPorchSF', '2ndFlrSF|GarageYrBlt', 'BsmtUnfSF|SaleCondition_Tencode', 'LotShape_Tencode|Street_Tencode', 'CentralAir_Tencode|LotFrontage', 'EnclosedPorch|LotShape_Tencode', 'MasVnrType_Tencode|GarageYrBlt', 'KitchenAbvGr|Foundation_Tencode', 'BsmtCond_Tencode|LowQualFinSF', 'Fireplaces|LotShape_Tencode', 'MiscFeature_Tencode|BsmtFinType2_Tencode', 'YearBuilt|GarageQual_Tencode', 'BsmtQual_Tencode|RoofStyle_Tencode', 'Neighborhood_Tencode|LowQualFinSF', 'BsmtFinSF2|BsmtFinType1_Tencode', 'BldgType_Tencode|BsmtFinSF2', 'BldgType_Tencode|LotArea', 'ExterQual_Tencode|BsmtFinType1_Tencode', 'SaleCondition_Tencode|WoodDeckSF', 'Heating_Tencode|OverallCond', 'HeatingQC_Tencode|BsmtFinType2_Tencode', 'BedroomAbvGr|WoodDeckSF', 'RoofMatl_Tencode|LotArea', 'BsmtQual_Tencode|Street_Tencode', 'GrLivArea|PoolQC_Tencode', 'MiscFeature_Tencode|MSZoning_Tencode', 'LotShape_Tencode|PavedDrive_Tencode', 'LotShape_Tencode|BsmtFinType1_Tencode', 'LandSlope_Tencode|3SsnPorch', 'KitchenAbvGr|OverallCond', 'TotRmsAbvGrd|Street_Tencode', 'BsmtUnfSF|Condition1_Tencode', 'RoofMatl_Tencode|Exterior2nd_Tencode', 'RoofMatl_Tencode|GarageCond_Tencode', 'RoofMatl_Tencode|Electrical_Tencode', 'LandSlope_Tencode|KitchenAbvGr', 'ExterQual_Tencode|ExterCond_Tencode', 'HalfBath|OverallCond', 'MSSubClass|WoodDeckSF', 'Heating_Tencode|MoSold', 'BedroomAbvGr|EnclosedPorch', 'MoSold|GarageCond_Tencode', 'SaleType_Tencode|BsmtFinType2_Tencode', 'Alley_Tencode|GarageQual_Tencode', 'TotalBsmtSF|BsmtFinType2_Tencode', 'EnclosedPorch|Condition1_Tencode', 'GarageCond_Tencode|BsmtHalfBath', 'BedroomAbvGr|RoofStyle_Tencode', 'RoofMatl_Tencode|GarageArea', 'PavedDrive_Tencode|GarageQual_Tencode', '3SsnPorch|RoofStyle_Tencode', 'SaleCondition_Tencode|BsmtHalfBath', 'OverallQual|MasVnrArea', 'BsmtCond_Tencode|Alley_Tencode', 'MoSold|HalfBath', 'MoSold|RoofStyle_Tencode', 'FireplaceQu_Tencode|Alley_Tencode', 'GarageType_Tencode|LotArea', 'MiscFeature_Tencode|MiscVal', 'YearBuilt|PoolArea', 'PoolQC_Tencode|ExterCond_Tencode', 'PoolArea|LotArea', 'GarageYrBlt|GarageArea', 'Exterior1st_Tencode|BsmtFinType1_Tencode', 'BsmtFinSF1|KitchenAbvGr', 'PoolArea|BsmtFinType2_Tencode', 'YrSold|BldgType_Tencode', 'MSZoning_Tencode|LotFrontage', 'Neighborhood_Tencode|YearRemodAdd', 'SaleType_Tencode|Condition2_Tencode', 'Condition2_Tencode|LowQualFinSF', 'GarageCond_Tencode|OverallCond', 'TotRmsAbvGrd|1stFlrSF', 'MSSubClass|KitchenAbvGr', 'SaleType_Tencode|LotShape_Tencode', 'MoSold|OverallCond', 'BsmtUnfSF|HouseStyle_Tencode', 'TotRmsAbvGrd|MasVnrType_Tencode', 'YearBuilt|MasVnrType_Tencode', '1stFlrSF|HeatingQC_Tencode', 'YearBuilt|HouseStyle_Tencode', 'Utilities_Tencode|BsmtExposure_Tencode', 'GarageCars|GarageArea', 'Electrical_Tencode|PavedDrive_Tencode', 'MiscVal|LotArea', 'RoofMatl_Tencode|OverallCond', 'SaleCondition_Tencode|KitchenQual_Tencode', 'TotRmsAbvGrd|ExterCond_Tencode', 'PoolArea|BsmtHalfBath', '1stFlrSF', 'Alley_Tencode|MSSubClass', 'HalfBath|ExterCond_Tencode', 'Electrical_Tencode|OverallCond', 'Alley_Tencode|Neighborhood_Tencode', 'MasVnrType_Tencode|LotShape_Tencode', 'MasVnrArea|Foundation_Tencode', 'LowQualFinSF|OverallCond', '2ndFlrSF|WoodDeckSF', 'LandSlope_Tencode|HalfBath', '3SsnPorch|Alley_Tencode', 'GarageYrBlt|GarageQual_Tencode', 'Neighborhood_Tencode|Condition1_Tencode', 'KitchenQual_Tencode|Condition1_Tencode', 'MasVnrType_Tencode|LotConfig_Tencode', 'MasVnrArea|WoodDeckSF', 'CentralAir_Tencode|BsmtQual_Tencode', 'OverallQual|BsmtHalfBath', 'Street_Tencode|KitchenAbvGr', 'BsmtFinSF1|RoofStyle_Tencode', 'Utilities_Tencode|WoodDeckSF', 'LotConfig_Tencode|Alley_Tencode', 'BldgType_Tencode|Condition1_Tencode', 'BsmtQual_Tencode|HouseStyle_Tencode', 'OpenPorchSF|LotArea', 'GarageType_Tencode|Condition1_Tencode', 'YrSold|KitchenQual_Tencode', 'ScreenPorch|HouseStyle_Tencode', 'Heating_Tencode|MasVnrArea', 'YrSold|BsmtFullBath', 'BsmtQual_Tencode|EnclosedPorch', 'Utilities_Tencode|BsmtHalfBath', 'MoSold|GarageType_Tencode', 'Neighborhood_Tencode|GarageFinish_Tencode', 'LandSlope_Tencode|PavedDrive_Tencode', 'Utilities_Tencode|EnclosedPorch', 'Neighborhood_Tencode|HouseStyle_Tencode', 'MiscFeature_Tencode|MasVnrArea', 'PoolQC_Tencode|LotFrontage', 'GrLivArea|YearRemodAdd', 'TotalBsmtSF|Street_Tencode', 'RoofMatl_Tencode|WoodDeckSF', 'BsmtQual_Tencode|GarageYrBlt', 'OpenPorchSF|Street_Tencode', 'YearBuilt|SaleCondition_Tencode', 'GarageCars|PoolQC_Tencode', 'BsmtFinType1_Tencode|ExterCond_Tencode', 'BedroomAbvGr|YearRemodAdd', 'Condition2_Tencode|RoofStyle_Tencode', 'CentralAir_Tencode|Electrical_Tencode', 'Utilities_Tencode|Condition1_Tencode', 'BsmtFinSF1|FullBath', 'BsmtUnfSF|1stFlrSF', 'LotShape_Tencode|MSSubClass', 'TotRmsAbvGrd|Neighborhood_Tencode', 'TotalBsmtSF|MSSubClass', 'MiscFeature_Tencode|TotalBsmtSF', 'MiscFeature_Tencode|Condition1_Tencode', 'PoolQC_Tencode|GarageCond_Tencode', 'Heating_Tencode|HouseStyle_Tencode', 'BsmtHalfBath|MSSubClass', 'MiscVal|GrLivArea', 'GarageType_Tencode|WoodDeckSF', 'LotConfig_Tencode|Foundation_Tencode', 'EnclosedPorch|BsmtFinType1_Tencode', 'Fence_Tencode|FullBath', 'TotRmsAbvGrd|WoodDeckSF', 'MoSold|BsmtHalfBath', 'MSZoning_Tencode|PoolQC_Tencode', 'GrLivArea|Exterior1st_Tencode', 'Exterior2nd_Tencode|YearBuilt', 'BsmtCond_Tencode|2ndFlrSF', 'RoofStyle_Tencode|GarageQual_Tencode', 'SaleType_Tencode|Alley_Tencode', 'Fence_Tencode|BsmtCond_Tencode', 'HeatingQC_Tencode|LotConfig_Tencode', 'Heating_Tencode', 'Functional_Tencode|OverallCond', 'Exterior1st_Tencode|ExterCond_Tencode', 'OpenPorchSF|LowQualFinSF', 'Fence_Tencode|BsmtFullBath', 'CentralAir_Tencode|ExterQual_Tencode', 'PoolArea|MasVnrArea', 'Functional_Tencode|MasVnrArea', 'BedroomAbvGr|Functional_Tencode', 'RoofMatl_Tencode|BsmtFinType2_Tencode', 'PoolQC_Tencode|BsmtFinType1_Tencode', 'LandSlope_Tencode|EnclosedPorch', 'OpenPorchSF|Condition1_Tencode', '3SsnPorch|GarageArea', 'SaleType_Tencode|MasVnrArea', 'BsmtFinType2_Tencode|BsmtFullBath', 'PoolArea|OpenPorchSF', 'MasVnrArea|MSSubClass', 'MiscFeature_Tencode|Fence_Tencode', 'TotalBsmtSF|OverallQual', 'KitchenQual_Tencode|LotFrontage', 'FullBath|Foundation_Tencode', 'FullBath|LotFrontage', 'BsmtQual_Tencode|GrLivArea', 'BedroomAbvGr|BsmtFinType1_Tencode', 'LandSlope_Tencode|GarageArea', 'Fireplaces|Utilities_Tencode', 'YearRemodAdd|GarageQual_Tencode', 'PoolArea|HeatingQC_Tencode', 'MasVnrType_Tencode|Neighborhood_Tencode', 'BsmtFinType1_Tencode|LotFrontage', 'CentralAir_Tencode|YearBuilt', 'BedroomAbvGr|OpenPorchSF', 'Functional_Tencode|PoolQC_Tencode', 'OverallQual|RoofStyle_Tencode', 'Condition2_Tencode|ScreenPorch', 'Fireplaces|ExterCond_Tencode', 'LowQualFinSF|LotFrontage', 'BsmtQual_Tencode|BsmtFullBath', '1stFlrSF|OverallQual', 'BldgType_Tencode|3SsnPorch', 'HouseStyle_Tencode', 'PavedDrive_Tencode|WoodDeckSF', 'Exterior2nd_Tencode|GarageFinish_Tencode', 'HeatingQC_Tencode|LotArea', 'HalfBath|WoodDeckSF', 'Exterior2nd_Tencode|LandContour_Tencode', 'Street_Tencode|BsmtExposure_Tencode', 'LandSlope_Tencode|LotConfig_Tencode', 'KitchenQual_Tencode|MSSubClass', 'Condition2_Tencode|KitchenQual_Tencode', 'TotRmsAbvGrd|BsmtUnfSF', 'YearRemodAdd|GarageType_Tencode', 'ExterQual_Tencode|BldgType_Tencode', 'LandContour_Tencode|BsmtExposure_Tencode', 'ExterQual_Tencode|LowQualFinSF', 'MiscFeature_Tencode|RoofStyle_Tencode', '1stFlrSF|LotFrontage', 'BldgType_Tencode|FullBath', 'RoofMatl_Tencode|Street_Tencode', 'PavedDrive_Tencode|Street_Tencode', 'Heating_Tencode|PoolQC_Tencode', 'BsmtCond_Tencode|BsmtUnfSF', 'GrLivArea|MSSubClass', 'LandContour_Tencode|ScreenPorch', 'Exterior2nd_Tencode|KitchenQual_Tencode', 'TotRmsAbvGrd|LotShape_Tencode', 'OverallQual|Foundation_Tencode', 'MoSold|Street_Tencode', 'Electrical_Tencode|YearRemodAdd', 'Exterior1st_Tencode|YearRemodAdd', 'Utilities_Tencode|LotFrontage', 'ScreenPorch|LotArea', 'Exterior2nd_Tencode|BsmtQual_Tencode', 'YrSold|Condition2_Tencode', 'BsmtCond_Tencode|RoofStyle_Tencode', 'BldgType_Tencode|Condition2_Tencode', 'SaleCondition_Tencode|FullBath', 'ScreenPorch|OverallCond', 'GarageCond_Tencode|RoofStyle_Tencode', 'LandContour_Tencode|KitchenAbvGr', 'BsmtHalfBath|YearRemodAdd', 'PoolArea|MasVnrType_Tencode', 'TotalBsmtSF|EnclosedPorch', 'Fence_Tencode|TotalBsmtSF', 'LotShape_Tencode|Alley_Tencode', 'GarageCond_Tencode|BsmtFinSF1', 'GarageCars|BsmtFinSF2', 'Fireplaces|GarageType_Tencode', 'MiscVal|Fence_Tencode', 'GarageCars|Fence_Tencode', 'GrLivArea|Condition1_Tencode', 'GarageCond_Tencode|KitchenAbvGr', 'MiscFeature_Tencode|KitchenAbvGr', 'HeatingQC_Tencode|WoodDeckSF', 'FireplaceQu_Tencode|Condition2_Tencode', 'MoSold|Foundation_Tencode', 'Exterior1st_Tencode|Foundation_Tencode', 'SaleType_Tencode|FullBath', 'MSZoning_Tencode|HalfBath', 'FireplaceQu_Tencode|Exterior2nd_Tencode', 'ExterQual_Tencode|BsmtUnfSF', 'MiscVal|HalfBath', 'MSZoning_Tencode|SaleType_Tencode', 'GarageCond_Tencode|GarageArea', 'YearRemodAdd|Foundation_Tencode', 'FullBath|HouseStyle_Tencode', 'Neighborhood_Tencode|GarageArea', 'TotalBsmtSF|OpenPorchSF', 'MSSubClass', 'BsmtQual_Tencode|Exterior1st_Tencode', 'OpenPorchSF|GarageCond_Tencode', 'FireplaceQu_Tencode|PoolArea', 'MiscFeature_Tencode|HouseStyle_Tencode', 'MoSold|LotConfig_Tencode', 'FullBath|LowQualFinSF', '1stFlrSF|PoolQC_Tencode', 'BsmtFinSF2|KitchenAbvGr', 'GarageCond_Tencode|GarageType_Tencode', 'LandContour_Tencode|Alley_Tencode', 'BsmtCond_Tencode|Fireplaces', 'GrLivArea|ScreenPorch', 'Neighborhood_Tencode|ScreenPorch', 'Utilities_Tencode|FullBath', 'GrLivArea|MSZoning_Tencode', 'BldgType_Tencode|BsmtExposure_Tencode', 'Functional_Tencode|YearBuilt', 'LandSlope_Tencode|BsmtFinSF2', 'RoofStyle_Tencode|GarageArea', 'RoofMatl_Tencode|SaleType_Tencode', 'MiscVal|LowQualFinSF', 'BsmtFinSF1|LotArea', 'Heating_Tencode|HeatingQC_Tencode', 'TotRmsAbvGrd|BsmtExposure_Tencode', 'GarageCond_Tencode|LowQualFinSF', 'YearBuilt|GarageType_Tencode', 'FireplaceQu_Tencode|CentralAir_Tencode', 'LandSlope_Tencode|GarageFinish_Tencode', 'TotalBsmtSF|YearRemodAdd', 'PoolArea|YearRemodAdd', 'BsmtFinSF2|Electrical_Tencode', 'BsmtQual_Tencode|Condition2_Tencode', 'BsmtExposure_Tencode|HouseStyle_Tencode', 'GrLivArea|Heating_Tencode', 'CentralAir_Tencode|PoolArea', 'MoSold|PoolQC_Tencode', 'PoolArea|Street_Tencode', 'YearRemodAdd|GarageFinish_Tencode', 'MiscVal|GarageCars', 'OverallQual|MasVnrType_Tencode', 'LandSlope_Tencode|Electrical_Tencode', 'BsmtUnfSF|Foundation_Tencode', 'HalfBath|LotShape_Tencode', 'Heating_Tencode|BsmtHalfBath', 'LotShape_Tencode|GarageArea', 'RoofStyle_Tencode|BsmtFullBath', 'MasVnrType_Tencode|HouseStyle_Tencode', 'BsmtQual_Tencode|Condition1_Tencode', 'Utilities_Tencode|BsmtFinType1_Tencode', '2ndFlrSF|YearRemodAdd', 'RoofMatl_Tencode|Utilities_Tencode', 'BldgType_Tencode', 'CentralAir_Tencode|2ndFlrSF', 'FireplaceQu_Tencode|LandSlope_Tencode', 'PoolArea|Utilities_Tencode', 'GarageCars|Alley_Tencode', 'BsmtCond_Tencode|Foundation_Tencode', 'BsmtCond_Tencode|YrSold', 'YearBuilt|Condition1_Tencode', 'GarageQual_Tencode|HouseStyle_Tencode', 'BsmtFinType2_Tencode|Foundation_Tencode', 'MSZoning_Tencode|WoodDeckSF', 'Fireplaces|HalfBath', 'CentralAir_Tencode|SaleType_Tencode', 'Fence_Tencode|OverallCond', 'BsmtCond_Tencode|PoolQC_Tencode', 'KitchenQual_Tencode|KitchenAbvGr', 'Exterior2nd_Tencode|LotShape_Tencode', 'GarageYrBlt|Condition1_Tencode', 'OpenPorchSF|GarageYrBlt', 'LowQualFinSF|HouseStyle_Tencode', 'OpenPorchSF|MasVnrType_Tencode', 'Exterior2nd_Tencode|LandSlope_Tencode', 'HalfBath|BsmtFinSF1', 'BsmtHalfBath|LotShape_Tencode', 'RoofStyle_Tencode|PavedDrive_Tencode', 'MasVnrArea|LowQualFinSF', 'BsmtQual_Tencode|BsmtFinType2_Tencode', 'BldgType_Tencode|LotConfig_Tencode', 'LandSlope_Tencode|LandContour_Tencode', 'YearBuilt|Neighborhood_Tencode', '1stFlrSF|EnclosedPorch', 'Fence_Tencode|YrSold', 'BsmtCond_Tencode|LandSlope_Tencode', 'LotShape_Tencode|FullBath', 'BedroomAbvGr|LotFrontage', 'TotalBsmtSF|ExterCond_Tencode', 'MiscFeature_Tencode|1stFlrSF', 'ExterQual_Tencode|KitchenAbvGr', 'Condition2_Tencode|WoodDeckSF', 'YrSold|Functional_Tencode', 'GrLivArea|HeatingQC_Tencode', 'BldgType_Tencode|GarageFinish_Tencode', 'MSZoning_Tencode|LandSlope_Tencode', 'BsmtCond_Tencode|ExterCond_Tencode', 'MoSold|HeatingQC_Tencode', 'BsmtFinSF1|ScreenPorch', 'OverallQual|PoolQC_Tencode', 'TotRmsAbvGrd|TotalBsmtSF', 'Exterior1st_Tencode|PavedDrive_Tencode', 'HalfBath|PavedDrive_Tencode', 'BsmtFinType1_Tencode|GarageQual_Tencode', '2ndFlrSF|GarageFinish_Tencode', 'BsmtCond_Tencode|FullBath', 'GrLivArea|GarageQual_Tencode', 'LotConfig_Tencode|LotArea', 'PoolArea|BsmtFinSF2', 'GarageFinish_Tencode|Foundation_Tencode', 'GarageQual_Tencode|LotFrontage', 'OverallQual|GarageCond_Tencode', 'Fence_Tencode|KitchenQual_Tencode', 'Fence_Tencode|MSSubClass', 'Utilities_Tencode|HouseStyle_Tencode', 'PoolArea|Foundation_Tencode', 'BsmtQual_Tencode|PoolQC_Tencode', 'Functional_Tencode|3SsnPorch', 'RoofMatl_Tencode|BsmtHalfBath', 'GarageCars|Heating_Tencode', 'BsmtFinSF2|SaleType_Tencode', 'Fireplaces|GrLivArea', 'Condition2_Tencode|MasVnrArea', 'BedroomAbvGr|Exterior1st_Tencode', '1stFlrSF|LotConfig_Tencode', 'ExterQual_Tencode|LotArea', 'ExterQual_Tencode|WoodDeckSF', 'YearBuilt|Heating_Tencode', 'Electrical_Tencode|EnclosedPorch', 'GarageCars|RoofStyle_Tencode', 'KitchenAbvGr|GarageQual_Tencode', 'GarageCars|GarageCond_Tencode', 'HeatingQC_Tencode|FullBath', 'MiscVal|ExterQual_Tencode', 'Functional_Tencode|1stFlrSF', 'Alley_Tencode|GarageYrBlt', 'ExterQual_Tencode|3SsnPorch', 'LotConfig_Tencode|Condition1_Tencode', 'FireplaceQu_Tencode|BsmtFinSF2', 'CentralAir_Tencode|BsmtUnfSF', 'Fireplaces|LotFrontage', 'BldgType_Tencode|HeatingQC_Tencode', 'BsmtQual_Tencode|Electrical_Tencode', 'MoSold|LotFrontage', 'YearBuilt|FullBath', '1stFlrSF|MasVnrType_Tencode', 'FireplaceQu_Tencode|BsmtFullBath', 'MoSold|GarageQual_Tencode', 'BsmtCond_Tencode|GarageYrBlt', 'Condition2_Tencode|Neighborhood_Tencode', 'Condition2_Tencode|BsmtHalfBath', 'Exterior2nd_Tencode|OverallCond', 'Exterior2nd_Tencode|BsmtFinSF1', 'HalfBath|BsmtFinType1_Tencode', 'Exterior1st_Tencode|FullBath', 'GrLivArea|LotArea', 'ExterQual_Tencode|PavedDrive_Tencode', 'MiscVal|LotConfig_Tencode', 'GarageType_Tencode|LotFrontage', 'BsmtCond_Tencode|GarageArea', 'Fireplaces|LotArea', 'Fireplaces|YearRemodAdd', 'RoofMatl_Tencode|Heating_Tencode', 'MSZoning_Tencode|GarageFinish_Tencode', 'BsmtQual_Tencode|HeatingQC_Tencode', 'YrSold|3SsnPorch', 'Fireplaces|WoodDeckSF', 'RoofStyle_Tencode|Neighborhood_Tencode', 'BsmtFinSF2|Street_Tencode', 'MiscFeature_Tencode|Exterior2nd_Tencode', 'LandContour_Tencode|MasVnrType_Tencode', 'Exterior2nd_Tencode|LotConfig_Tencode', 'Electrical_Tencode|BsmtFinType2_Tencode', 'TotRmsAbvGrd|OpenPorchSF', '1stFlrSF|OpenPorchSF', 'HalfBath|MasVnrArea', '2ndFlrSF|GarageType_Tencode', 'HeatingQC_Tencode|BsmtFinType1_Tencode', 'BsmtFinType1_Tencode|WoodDeckSF', 'BedroomAbvGr|MSZoning_Tencode', 'MoSold|BsmtExposure_Tencode', 'Functional_Tencode|KitchenQual_Tencode', 'SaleCondition_Tencode|HouseStyle_Tencode', 'LotArea|Foundation_Tencode', 'BsmtHalfBath|KitchenQual_Tencode', 'GarageCars|YearBuilt', 'BsmtCond_Tencode|MoSold', 'BsmtFinType1_Tencode|OverallCond', 'PoolQC_Tencode|GarageFinish_Tencode', 'BsmtFinType1_Tencode', 'MasVnrArea|Condition1_Tencode', 'BsmtUnfSF|BsmtFinSF2', 'MoSold|Electrical_Tencode', 'MiscVal|BsmtExposure_Tencode', 'GarageFinish_Tencode|BsmtFullBath', 'Exterior2nd_Tencode|YrSold', 'LowQualFinSF', 'Fireplaces|OverallQual', 'MiscFeature_Tencode|MSSubClass', 'Condition2_Tencode|GarageCond_Tencode', 'OpenPorchSF|SaleType_Tencode', '1stFlrSF|PavedDrive_Tencode', 'Functional_Tencode|SaleCondition_Tencode', 'YrSold|BsmtFinSF2', 'YearBuilt|PoolQC_Tencode', 'Heating_Tencode|GarageType_Tencode', 'MiscFeature_Tencode|GarageArea', 'Utilities_Tencode|Foundation_Tencode', '1stFlrSF|Alley_Tencode', 'TotalBsmtSF|GarageFinish_Tencode', 'TotRmsAbvGrd|BsmtQual_Tencode', 'LandSlope_Tencode|Condition1_Tencode', 'Alley_Tencode|Street_Tencode', 'ExterQual_Tencode|YearRemodAdd', 'EnclosedPorch|BsmtHalfBath', 'YrSold|LotFrontage', 'LandContour_Tencode|SaleType_Tencode', 'PavedDrive_Tencode|ScreenPorch', '1stFlrSF|BsmtHalfBath', 'RoofMatl_Tencode|GarageType_Tencode', 'BsmtFinSF1|Street_Tencode', '1stFlrSF|GarageType_Tencode', 'MiscFeature_Tencode|GarageQual_Tencode', 'MasVnrType_Tencode|GarageQual_Tencode', 'PoolArea|SaleType_Tencode', 'BedroomAbvGr|FullBath', 'ScreenPorch|GarageFinish_Tencode', 'FireplaceQu_Tencode|BsmtHalfBath', 'RoofStyle_Tencode|LowQualFinSF', 'MiscVal|OverallQual', 'GarageCars|EnclosedPorch', 'OpenPorchSF|WoodDeckSF', 'MiscVal|LotShape_Tencode', 'BsmtCond_Tencode|BldgType_Tencode', 'BsmtQual_Tencode|SaleType_Tencode', 'PoolArea|MSSubClass', 'ScreenPorch|BsmtExposure_Tencode', 'Fireplaces|FullBath', 'GarageCond_Tencode|GarageFinish_Tencode', 'HeatingQC_Tencode|OverallCond', 'Heating_Tencode|Neighborhood_Tencode', 'MiscFeature_Tencode|LandContour_Tencode', 'Exterior1st_Tencode', 'Alley_Tencode|BsmtFullBath', 'LandSlope_Tencode|Foundation_Tencode', 'MSZoning_Tencode|OverallQual', 'Fence_Tencode|ExterCond_Tencode', '3SsnPorch|LotFrontage', 'FireplaceQu_Tencode|MoSold', 'BsmtFinSF2', 'GarageArea|BsmtFinType1_Tencode', 'HeatingQC_Tencode|SaleType_Tencode', 'FullBath|OverallCond', 'GarageType_Tencode|GarageQual_Tencode', 'LotShape_Tencode|OverallCond', 'RoofMatl_Tencode|GarageYrBlt', 'Exterior2nd_Tencode|PoolQC_Tencode', 'MasVnrArea', 'TotalBsmtSF|GarageYrBlt', 'GarageQual_Tencode|FullBath', 'GarageCond_Tencode|EnclosedPorch', 'Exterior2nd_Tencode|Alley_Tencode', 'ExterQual_Tencode|GarageArea', 'BldgType_Tencode|Neighborhood_Tencode', 'LotShape_Tencode', 'ExterQual_Tencode|Foundation_Tencode', 'GarageCars|GarageFinish_Tencode', 'BsmtFinSF2|ExterCond_Tencode', 'MoSold|Neighborhood_Tencode', 'BedroomAbvGr|Foundation_Tencode', 'PoolArea|PoolQC_Tencode', 'Electrical_Tencode|BsmtFinType1_Tencode', 'Electrical_Tencode|LotFrontage', 'Condition2_Tencode|Alley_Tencode', 'BedroomAbvGr|Heating_Tencode', 'LandSlope_Tencode|LowQualFinSF', 'LotConfig_Tencode|BsmtExposure_Tencode', 'BldgType_Tencode|Heating_Tencode', 'OpenPorchSF|Condition2_Tencode', 'PoolQC_Tencode|BsmtExposure_Tencode', 'CentralAir_Tencode|TotalBsmtSF', 'Electrical_Tencode|ExterCond_Tencode', 'FireplaceQu_Tencode|Functional_Tencode', 'BsmtQual_Tencode|Fireplaces', '1stFlrSF|HalfBath', 'OverallQual|YearRemodAdd', 'SaleCondition_Tencode|EnclosedPorch', 'MiscFeature_Tencode|MasVnrType_Tencode', 'TotalBsmtSF|Neighborhood_Tencode', 'BedroomAbvGr|GrLivArea', 'BsmtUnfSF|FullBath', 'CentralAir_Tencode|Neighborhood_Tencode', 'FireplaceQu_Tencode|BsmtFinType1_Tencode', 'PoolQC_Tencode|EnclosedPorch', 'MiscFeature_Tencode|BsmtExposure_Tencode', 'ExterQual_Tencode|1stFlrSF', 'MiscVal|BsmtCond_Tencode', 'Fence_Tencode|LandSlope_Tencode', 'BsmtUnfSF|GarageType_Tencode', 'EnclosedPorch|Alley_Tencode', 'YrSold|OverallQual', 'ScreenPorch|Foundation_Tencode', 'RoofMatl_Tencode|Condition2_Tencode', 'CentralAir_Tencode|BsmtFinType1_Tencode', 'Exterior2nd_Tencode|ExterQual_Tencode', 'Heating_Tencode|YearRemodAdd', 'OpenPorchSF|BsmtHalfBath', 'BsmtFinSF2|ScreenPorch', 'GarageType_Tencode|OverallCond', 'YrSold|LotArea', 'MasVnrType_Tencode|KitchenAbvGr', 'Utilities_Tencode|OpenPorchSF', 'OverallQual|GarageYrBlt', 'TotRmsAbvGrd|MoSold', 'Fireplaces|1stFlrSF', 'ExterQual_Tencode', 'BsmtUnfSF', 'BedroomAbvGr|Utilities_Tencode', 'BldgType_Tencode|PoolQC_Tencode', 'Exterior2nd_Tencode|EnclosedPorch', 'MiscVal|SaleType_Tencode', 'Exterior1st_Tencode|GarageFinish_Tencode', 'BedroomAbvGr|GarageQual_Tencode', 'BsmtQual_Tencode|YrSold', 'ExterQual_Tencode|BsmtFinSF2', 'BsmtFinType2_Tencode|Street_Tencode', '3SsnPorch|Condition2_Tencode', 'Heating_Tencode|WoodDeckSF', 'Exterior1st_Tencode|Electrical_Tencode', 'BsmtFinSF2|BsmtHalfBath', 'LandContour_Tencode|LowQualFinSF', 'BsmtHalfBath|GarageFinish_Tencode', 'Utilities_Tencode|LotConfig_Tencode', 'SaleCondition_Tencode|ScreenPorch', 'Fireplaces|KitchenQual_Tencode', 'GarageArea|Foundation_Tencode', 'TotalBsmtSF', 'BsmtFinType2_Tencode|GarageQual_Tencode', 'GarageArea|ExterCond_Tencode', 'BedroomAbvGr|MSSubClass', 'Functional_Tencode|Alley_Tencode', 'LandContour_Tencode|PavedDrive_Tencode', 'LotArea|LowQualFinSF', 'MSZoning_Tencode|3SsnPorch', 'Fence_Tencode|BsmtFinSF1', 'HalfBath|HeatingQC_Tencode', 'Utilities_Tencode', 'SaleType_Tencode|OverallCond', 'Exterior2nd_Tencode|GarageCond_Tencode', 'RoofStyle_Tencode|GarageType_Tencode', 'MSZoning_Tencode|TotalBsmtSF', 'LotConfig_Tencode|GarageQual_Tencode', 'OpenPorchSF|OverallCond', '1stFlrSF|GarageFinish_Tencode', 'GarageArea|BsmtFullBath', 'GrLivArea|BsmtFinType1_Tencode', '1stFlrSF|LotShape_Tencode', 'BldgType_Tencode|BsmtFinType1_Tencode', 'ExterQual_Tencode|RoofStyle_Tencode', 'CentralAir_Tencode|OverallQual', 'Fireplaces|MasVnrArea', 'YearBuilt|LotShape_Tencode', 'PoolArea|GarageFinish_Tencode', 'LandContour_Tencode|MasVnrArea', 'GarageCond_Tencode', 'TotalBsmtSF|PavedDrive_Tencode', 'BsmtHalfBath', 'Condition2_Tencode|BsmtExposure_Tencode', '2ndFlrSF', 'Functional_Tencode|HouseStyle_Tencode', '1stFlrSF|RoofStyle_Tencode', 'GarageCond_Tencode|MasVnrArea', 'BldgType_Tencode|GarageType_Tencode', 'YrSold|YearBuilt', 'GrLivArea|GarageFinish_Tencode', 'YearRemodAdd|BsmtFinType2_Tencode', 'BsmtUnfSF|GarageArea', 'LandSlope_Tencode|Street_Tencode', 'PoolArea|Neighborhood_Tencode', 'LandContour_Tencode|WoodDeckSF', 'MSZoning_Tencode|LotShape_Tencode', 'Alley_Tencode|PavedDrive_Tencode', 'Alley_Tencode|BsmtFinType2_Tencode', 'SaleType_Tencode|GarageFinish_Tencode', 'EnclosedPorch|PavedDrive_Tencode', 'GarageArea|GarageQual_Tencode', 'BsmtCond_Tencode|KitchenQual_Tencode', 'GrLivArea|Foundation_Tencode', 'PavedDrive_Tencode|LotArea', '3SsnPorch|BsmtFinSF2', 'LotShape_Tencode|LotArea', 'MasVnrType_Tencode|RoofStyle_Tencode', 'BsmtCond_Tencode|3SsnPorch', 'YrSold|HeatingQC_Tencode', 'MiscFeature_Tencode|GarageCars', 'MSZoning_Tencode|Condition1_Tencode', '2ndFlrSF|PavedDrive_Tencode', 'YearBuilt|LotFrontage', 'MoSold|Alley_Tencode', 'GarageCars|GarageYrBlt', 'GrLivArea|Condition2_Tencode', 'MiscVal|GarageCond_Tencode', 'BedroomAbvGr|BsmtFinSF2', 'YearBuilt|EnclosedPorch', 'MSZoning_Tencode|RoofStyle_Tencode', 'OpenPorchSF|BsmtFinType1_Tencode', 'SaleCondition_Tencode|Electrical_Tencode', 'FireplaceQu_Tencode|OverallCond', 'KitchenQual_Tencode|ScreenPorch', 'BldgType_Tencode|MSSubClass', 'LandSlope_Tencode|GarageType_Tencode', 'TotRmsAbvGrd|Fireplaces', '3SsnPorch|GarageType_Tencode', 'BsmtFinType2_Tencode|Condition1_Tencode', 'SaleCondition_Tencode|Condition1_Tencode', 'Heating_Tencode|BsmtExposure_Tencode', 'Exterior2nd_Tencode|SaleType_Tencode', 'FireplaceQu_Tencode|BsmtFinSF1', 'HeatingQC_Tencode|GarageType_Tencode', '2ndFlrSF|YearBuilt', 'LotConfig_Tencode|FullBath', 'RoofMatl_Tencode|OverallQual', 'BsmtFinSF2|OverallQual', 'GarageCars|BsmtHalfBath', 'RoofStyle_Tencode|Street_Tencode', 'Heating_Tencode|HalfBath', 'OverallQual|Condition2_Tencode', 'KitchenQual_Tencode|LowQualFinSF', '3SsnPorch|MasVnrType_Tencode', 'MiscVal|FullBath', 'HalfBath|GarageCond_Tencode', 'MiscVal|YrSold', 'MasVnrArea|HouseStyle_Tencode', '2ndFlrSF|Utilities_Tencode', 'BsmtUnfSF|GarageQual_Tencode', 'FireplaceQu_Tencode|GarageCars', 'GarageCond_Tencode|ExterCond_Tencode', 'HeatingQC_Tencode', 'BldgType_Tencode|GarageQual_Tencode', 'BsmtFinSF1|BsmtFullBath', 'BsmtUnfSF|BsmtFullBath', 'GrLivArea|PavedDrive_Tencode', 'YrSold|LandContour_Tencode', 'RoofStyle_Tencode|BsmtFinType2_Tencode', 'MiscFeature_Tencode|GarageType_Tencode', 'GarageCars|GarageType_Tencode', 'TotRmsAbvGrd|BsmtFullBath', 'MiscVal|TotRmsAbvGrd', 'YrSold|RoofStyle_Tencode', 'KitchenQual_Tencode|Alley_Tencode', 'Condition2_Tencode', 'BedroomAbvGr|KitchenAbvGr', 'GarageCars|Street_Tencode', 'LotShape_Tencode|BsmtFullBath', 'BedroomAbvGr|LotArea', 'BsmtQual_Tencode|OverallCond', 'TotalBsmtSF|KitchenQual_Tencode', 'BsmtUnfSF|BsmtFinSF1', 'BsmtFinType1_Tencode|BsmtFullBath', 'KitchenAbvGr|ExterCond_Tencode', 'CentralAir_Tencode|Fence_Tencode', 'Utilities_Tencode|HalfBath', 'YrSold|Neighborhood_Tencode', 'OpenPorchSF|GarageArea', 'Exterior1st_Tencode|LotConfig_Tencode', 'YearBuilt|3SsnPorch', 'LotArea', 'BedroomAbvGr|GarageType_Tencode', '2ndFlrSF|3SsnPorch', 'MoSold|Condition2_Tencode', 'BsmtQual_Tencode|TotalBsmtSF', 'BsmtFinSF2|FullBath', 'MiscVal|MasVnrType_Tencode', 'Foundation_Tencode|Condition1_Tencode', 'FireplaceQu_Tencode|3SsnPorch', 'GarageFinish_Tencode|KitchenAbvGr', 'MiscVal|Heating_Tencode', 'PavedDrive_Tencode|YearRemodAdd', 'RoofMatl_Tencode|MasVnrArea', 'FullBath', 'FireplaceQu_Tencode|Fireplaces', 'LandSlope_Tencode|TotalBsmtSF', 'MiscVal|Condition1_Tencode', 'BsmtCond_Tencode|OverallCond', 'RoofMatl_Tencode|ExterCond_Tencode', 'BsmtUnfSF|Heating_Tencode', 'Exterior2nd_Tencode|BsmtExposure_Tencode', 'Heating_Tencode|EnclosedPorch', 'Functional_Tencode|GarageType_Tencode', 'CentralAir_Tencode|BsmtFinType2_Tencode', 'YearBuilt|BsmtFullBath', 'BldgType_Tencode|BsmtFullBath', 'CentralAir_Tencode|GarageCars', 'YearRemodAdd|BsmtExposure_Tencode', 'ExterQual_Tencode|GarageCond_Tencode', 'BsmtQual_Tencode|BsmtFinSF1', 'Electrical_Tencode|LotArea', 'LandSlope_Tencode|OverallCond', 'YearBuilt|Street_Tencode', '2ndFlrSF|1stFlrSF', 'LandContour_Tencode|Condition1_Tencode', 'LotShape_Tencode|GarageYrBlt', 'MiscFeature_Tencode|SaleCondition_Tencode', 'ExterQual_Tencode|LotConfig_Tencode', 'YrSold|BsmtHalfBath', 'CentralAir_Tencode|Utilities_Tencode', 'YrSold|BsmtFinType2_Tencode', 'PoolArea|OverallQual', 'Exterior1st_Tencode|GarageQual_Tencode', 'Utilities_Tencode|PavedDrive_Tencode', 'KitchenQual_Tencode|MasVnrArea', 'BsmtFinType1_Tencode|HouseStyle_Tencode', 'OpenPorchSF|KitchenAbvGr', 'GrLivArea|SaleType_Tencode', 'BsmtQual_Tencode|3SsnPorch', 'YearBuilt|GarageFinish_Tencode', 'SaleType_Tencode|EnclosedPorch', 'CentralAir_Tencode|Exterior2nd_Tencode', 'Heating_Tencode|BsmtFullBath', 'ExterQual_Tencode|LandContour_Tencode', 'LandSlope_Tencode|Exterior1st_Tencode', 'Exterior2nd_Tencode|YearRemodAdd', 'BsmtFinSF1|GarageFinish_Tencode', 'LotShape_Tencode|Neighborhood_Tencode', '2ndFlrSF|MasVnrArea', 'Fireplaces|Foundation_Tencode', 'PoolArea|FullBath', 'TotRmsAbvGrd|YearBuilt', 'FireplaceQu_Tencode|GarageYrBlt', 'BsmtHalfBath|ExterCond_Tencode', 'BsmtUnfSF|EnclosedPorch', 'HalfBath|Condition2_Tencode', 'LotArea|WoodDeckSF', 'SaleCondition_Tencode|Neighborhood_Tencode', 'HalfBath|Alley_Tencode', 'YearBuilt|Foundation_Tencode', 'YearBuilt|LandContour_Tencode', 'HalfBath|KitchenAbvGr', 'RoofMatl_Tencode|Alley_Tencode', 'GarageCond_Tencode|Foundation_Tencode', 'BsmtUnfSF|BsmtFinType1_Tencode', 'PoolQC_Tencode|RoofStyle_Tencode', '1stFlrSF|GarageQual_Tencode', 'TotRmsAbvGrd|GarageYrBlt', 'BsmtUnfSF|YearBuilt', 'EnclosedPorch|Neighborhood_Tencode', 'RoofMatl_Tencode|ScreenPorch', 'MiscFeature_Tencode|BsmtQual_Tencode', 'Fence_Tencode|BsmtFinSF2', 'MSSubClass|HouseStyle_Tencode', 'Fence_Tencode|SaleType_Tencode', 'TotRmsAbvGrd|HalfBath', 'BsmtUnfSF|Exterior1st_Tencode', 'BsmtFinSF2|Condition1_Tencode', 'LandContour_Tencode|BsmtFinSF2', 'TotRmsAbvGrd|Heating_Tencode', 'LotArea|ExterCond_Tencode', 'OpenPorchSF|YearRemodAdd', 'Alley_Tencode|ExterCond_Tencode', 'Neighborhood_Tencode', 'Functional_Tencode|HalfBath', 'PoolArea|Electrical_Tencode', 'MSZoning_Tencode|HeatingQC_Tencode', 'Functional_Tencode|FullBath', 'ScreenPorch', '3SsnPorch|PoolQC_Tencode', 'Exterior2nd_Tencode|MSZoning_Tencode', 'OverallCond|Condition1_Tencode', 'MiscVal|KitchenQual_Tencode', 'Neighborhood_Tencode|GarageType_Tencode', 'MiscVal|MSZoning_Tencode', 'WoodDeckSF|OverallCond', 'OpenPorchSF|BsmtFinType2_Tencode', 'BsmtCond_Tencode|BsmtFinType2_Tencode', 'GarageCars|LotConfig_Tencode', 'MSSubClass|BsmtFullBath', 'MSZoning_Tencode|Exterior1st_Tencode', 'ExterQual_Tencode|HouseStyle_Tencode', 'ExterQual_Tencode|HeatingQC_Tencode', 'Fence_Tencode|Alley_Tencode', 'BsmtUnfSF|LotConfig_Tencode', 'Alley_Tencode|WoodDeckSF', 'LandSlope_Tencode|MasVnrArea', 'BsmtFinSF1|GarageArea', 'RoofMatl_Tencode|Functional_Tencode', 'BldgType_Tencode|KitchenQual_Tencode', '1stFlrSF|LandContour_Tencode', 'EnclosedPorch|GarageYrBlt', 'MiscVal|Street_Tencode', 'GrLivArea|LotShape_Tencode', 'Neighborhood_Tencode|Foundation_Tencode', 'Exterior2nd_Tencode|Exterior1st_Tencode', 'MiscVal', 'Condition2_Tencode|FullBath', 'GarageCars|PoolArea', 'LotShape_Tencode|GarageType_Tencode', 'LotConfig_Tencode|OverallCond', 'Condition2_Tencode|LotShape_Tencode', 'BedroomAbvGr|PoolArea', 'GarageCars|LandSlope_Tencode', 'GarageArea|Street_Tencode', 'YearBuilt|BldgType_Tencode', 'CentralAir_Tencode|MasVnrType_Tencode', 'BsmtHalfBath|BsmtFinType2_Tencode', 'ExterQual_Tencode|LandSlope_Tencode', 'Exterior1st_Tencode|WoodDeckSF', 'GarageYrBlt|LotFrontage', 'YrSold|OpenPorchSF', 'BedroomAbvGr|PavedDrive_Tencode', 'HeatingQC_Tencode|BsmtFullBath', 'Condition2_Tencode|PavedDrive_Tencode', 'Heating_Tencode|GarageFinish_Tencode', 'BsmtFinSF1|BsmtFinType2_Tencode', 'FireplaceQu_Tencode|LotArea', '3SsnPorch|LotConfig_Tencode', 'Utilities_Tencode|MasVnrType_Tencode', 'CentralAir_Tencode|FullBath', 'RoofMatl_Tencode|OpenPorchSF', 'ExterQual_Tencode|BsmtFinType2_Tencode', 'MiscFeature_Tencode|TotRmsAbvGrd', 'OverallQual|MoSold', 'CentralAir_Tencode|3SsnPorch', 'BsmtExposure_Tencode|Foundation_Tencode', 'TotRmsAbvGrd|MSSubClass', 'MSSubClass|Condition1_Tencode', 'YrSold|GrLivArea', 'LandContour_Tencode|RoofStyle_Tencode', 'HalfBath|GarageFinish_Tencode', 'MSZoning_Tencode|BsmtFinSF2', 'MiscVal|HouseStyle_Tencode', 'Exterior1st_Tencode|SaleType_Tencode', 'Electrical_Tencode|KitchenAbvGr', 'Heating_Tencode|FullBath', '3SsnPorch|ExterCond_Tencode', 'TotRmsAbvGrd|BsmtFinSF2', 'EnclosedPorch|LotFrontage', 'GarageArea|OverallCond', '1stFlrSF|Condition2_Tencode', 'HouseStyle_Tencode|LotFrontage', 'OverallQual|LotFrontage', 'GarageCars|RoofMatl_Tencode', 'MiscVal|BsmtFinSF2', 'BedroomAbvGr|2ndFlrSF', 'BsmtQual_Tencode|HalfBath', 'KitchenQual_Tencode|YearRemodAdd', 'TotRmsAbvGrd|ExterQual_Tencode', 'BldgType_Tencode|OpenPorchSF', 'HalfBath|KitchenQual_Tencode', '1stFlrSF|FullBath', 'FireplaceQu_Tencode|GarageQual_Tencode', 'PoolArea|HouseStyle_Tencode', 'Heating_Tencode|OverallQual', 'ExterQual_Tencode|GarageType_Tencode', 'HeatingQC_Tencode|MSSubClass', 'YrSold|GarageFinish_Tencode', 'LotShape_Tencode|GarageFinish_Tencode', '1stFlrSF|BsmtFinType2_Tencode', 'MiscVal|GarageFinish_Tencode', 'GarageCars|Utilities_Tencode', 'Fireplaces|BsmtExposure_Tencode', 'GarageCars|3SsnPorch', 'MasVnrType_Tencode', 'LandSlope_Tencode|GarageYrBlt', 'MiscVal|2ndFlrSF', 'LowQualFinSF|Foundation_Tencode', 'MSSubClass|BsmtExposure_Tencode', 'Heating_Tencode|Condition1_Tencode', 'PoolArea|MoSold', 'BldgType_Tencode|BsmtFinType2_Tencode', 'Exterior2nd_Tencode|MoSold', 'BsmtUnfSF|LotArea', 'SaleCondition_Tencode|PoolQC_Tencode', 'OverallQual|GarageQual_Tencode', 'GrLivArea|PoolArea', 'PoolQC_Tencode|LotConfig_Tencode', 'Utilities_Tencode|BsmtFinType2_Tencode', 'ExterQual_Tencode|EnclosedPorch', 'YearBuilt|HalfBath', 'Utilities_Tencode|BsmtFullBath', 'TotalBsmtSF|Foundation_Tencode', 'YearBuilt|RoofStyle_Tencode', 'OpenPorchSF|Electrical_Tencode', 'Heating_Tencode|LotArea', 'GarageYrBlt|ExterCond_Tencode', 'TotalBsmtSF|PoolQC_Tencode', 'TotRmsAbvGrd|ScreenPorch', 'CentralAir_Tencode|Exterior1st_Tencode', '2ndFlrSF|BsmtHalfBath', 'GarageYrBlt|LowQualFinSF', 'Functional_Tencode|LotShape_Tencode', 'LandSlope_Tencode|BsmtFinSF1', 'BsmtFinType2_Tencode|OverallCond', 'Functional_Tencode|TotalBsmtSF', 'OpenPorchSF|MoSold', 'SaleCondition_Tencode|BsmtFinType2_Tencode', 'MiscFeature_Tencode|BsmtCond_Tencode', 'TotRmsAbvGrd|EnclosedPorch', 'RoofMatl_Tencode|Foundation_Tencode', 'LandContour_Tencode|Electrical_Tencode', 'BsmtFullBath|HouseStyle_Tencode', '3SsnPorch|PavedDrive_Tencode', 'RoofMatl_Tencode|MSSubClass', 'SaleType_Tencode|RoofStyle_Tencode', 'SaleType_Tencode|KitchenAbvGr', 'MiscFeature_Tencode|BsmtFinType1_Tencode', 'BsmtCond_Tencode|BsmtExposure_Tencode', 'PoolQC_Tencode|YearRemodAdd', 'BsmtHalfBath|BsmtFinType1_Tencode', 'OverallQual|BsmtFinSF1', 'TotalBsmtSF|GarageQual_Tencode', 'CentralAir_Tencode|KitchenAbvGr', 'BsmtExposure_Tencode', 'SaleCondition_Tencode|LotConfig_Tencode', 'Fireplaces|BldgType_Tencode', 'SaleType_Tencode|KitchenQual_Tencode', '1stFlrSF|ScreenPorch', 'GarageYrBlt|HouseStyle_Tencode', 'CentralAir_Tencode|BedroomAbvGr', 'EnclosedPorch|OverallCond', 'BsmtFinType2_Tencode|HouseStyle_Tencode', 'KitchenQual_Tencode|GarageType_Tencode', '2ndFlrSF|BsmtFinSF1', 'BsmtFinSF2|WoodDeckSF', 'BsmtQual_Tencode|MasVnrType_Tencode', 'BsmtCond_Tencode|Exterior1st_Tencode', 'Utilities_Tencode|GarageCond_Tencode', 'MasVnrType_Tencode|LowQualFinSF', 'RoofMatl_Tencode|MSZoning_Tencode', '2ndFlrSF|Neighborhood_Tencode', 'LandSlope_Tencode|LotFrontage', '2ndFlrSF|LowQualFinSF', 'BsmtUnfSF|MoSold', 'Condition2_Tencode|GarageFinish_Tencode', 'HeatingQC_Tencode|BsmtHalfBath', 'OpenPorchSF|LotFrontage', 'LotConfig_Tencode|BsmtFinType1_Tencode', 'Fence_Tencode|EnclosedPorch', 'OpenPorchSF|GarageQual_Tencode', 'BsmtFinSF2|Neighborhood_Tencode', 'MSZoning_Tencode|Heating_Tencode', 'GarageArea|Condition1_Tencode', 'PavedDrive_Tencode|GarageFinish_Tencode', 'KitchenQual_Tencode|Foundation_Tencode', 'FireplaceQu_Tencode|Neighborhood_Tencode', 'LotConfig_Tencode|Neighborhood_Tencode', 'Exterior1st_Tencode|KitchenAbvGr', 'MasVnrArea|BsmtFinType2_Tencode', 'BsmtFinSF1|GarageQual_Tencode', 'OpenPorchSF|HeatingQC_Tencode', 'LotConfig_Tencode|Street_Tencode', 'GrLivArea|GarageArea', 'PoolQC_Tencode|LotArea', 'RoofStyle_Tencode|KitchenAbvGr', 'Electrical_Tencode|GarageFinish_Tencode', '1stFlrSF|Utilities_Tencode', 'TotalBsmtSF|HouseStyle_Tencode', 'HalfBath|SaleType_Tencode', 'Functional_Tencode|YearRemodAdd', 'BsmtFinSF2|GarageYrBlt', 'TotalBsmtSF|LotArea', 'PoolArea|TotalBsmtSF', 'YrSold|MasVnrArea', '2ndFlrSF|EnclosedPorch', '3SsnPorch|GarageCond_Tencode', 'Exterior2nd_Tencode|GarageArea', 'YearBuilt|Alley_Tencode', 'LotConfig_Tencode|GarageFinish_Tencode', 'Neighborhood_Tencode|FullBath', 'GarageArea|HouseStyle_Tencode', 'LotArea|GarageQual_Tencode', 'Electrical_Tencode|RoofStyle_Tencode', 'BsmtQual_Tencode|GarageQual_Tencode', 'Fence_Tencode|HeatingQC_Tencode', 'YearBuilt|TotalBsmtSF', 'Functional_Tencode|MSZoning_Tencode', 'GarageCond_Tencode|ScreenPorch', 'GrLivArea|FullBath', 'YearRemodAdd|GarageArea', 'Fence_Tencode|BsmtFinType2_Tencode', 'Fence_Tencode|GarageQual_Tencode', 'MiscVal|OverallCond', 'Street_Tencode|WoodDeckSF', 'Electrical_Tencode|FullBath', 'OverallQual|ExterCond_Tencode', 'Condition1_Tencode', 'SaleCondition_Tencode|Street_Tencode', 'Functional_Tencode|BsmtFullBath', 'MiscVal|BsmtFinType2_Tencode', 'MiscVal|Condition2_Tencode', 'BsmtFinSF2|MasVnrType_Tencode', 'GarageCars|MasVnrType_Tencode', 'TotalBsmtSF|OverallCond', 'MSZoning_Tencode|OpenPorchSF', 'TotalBsmtSF|ScreenPorch', 'Functional_Tencode|Condition2_Tencode', 'OpenPorchSF|FullBath', 'LotShape_Tencode|KitchenQual_Tencode', 'LotArea|BsmtFullBath', 'TotRmsAbvGrd|SaleType_Tencode', 'RoofStyle_Tencode|GarageYrBlt', 'LandSlope_Tencode|LotShape_Tencode', 'MiscFeature_Tencode|GarageFinish_Tencode', 'SaleCondition_Tencode|ExterCond_Tencode', 'MSZoning_Tencode|LandContour_Tencode', 'TotalBsmtSF|SaleType_Tencode', 'GarageType_Tencode|BsmtFinType2_Tencode', 'Heating_Tencode|BsmtFinSF1', 'GarageCars|BsmtFullBath', 'BldgType_Tencode|BsmtFinSF1', 'PoolArea|KitchenQual_Tencode', '2ndFlrSF|LotArea', 'BsmtFinType2_Tencode|ExterCond_Tencode', 'EnclosedPorch|GarageQual_Tencode', 'HeatingQC_Tencode|Condition2_Tencode', 'CentralAir_Tencode|PavedDrive_Tencode', 'GarageCars|ExterCond_Tencode', 'MoSold|YearRemodAdd', 'BsmtFinSF2|GarageFinish_Tencode', 'BsmtFinSF1|BsmtFinType1_Tencode', '1stFlrSF|MSSubClass', 'MSZoning_Tencode|EnclosedPorch', 'Exterior1st_Tencode|MoSold', 'GarageCond_Tencode|LotArea', 'SaleType_Tencode|LotConfig_Tencode', 'BsmtCond_Tencode|GarageCond_Tencode', 'TotalBsmtSF|MasVnrType_Tencode', 'Functional_Tencode|ExterCond_Tencode', 'YearBuilt|WoodDeckSF', 'BsmtQual_Tencode|OverallQual', 'RoofMatl_Tencode|MasVnrType_Tencode', 'BsmtFinSF2|PavedDrive_Tencode', 'GarageCars|BsmtUnfSF', '3SsnPorch|GarageYrBlt', 'BedroomAbvGr|HalfBath', 'CentralAir_Tencode|PoolQC_Tencode', '3SsnPorch|1stFlrSF', 'RoofMatl_Tencode|HalfBath', 'MSSubClass|FullBath', 'KitchenQual_Tencode|PavedDrive_Tencode', 'BedroomAbvGr|LotConfig_Tencode', 'LandContour_Tencode|GarageYrBlt', 'KitchenQual_Tencode|GarageYrBlt', 'GarageArea|LotArea', 'LandContour_Tencode|LotFrontage', 'ExterQual_Tencode|BsmtFullBath', 'RoofMatl_Tencode|RoofStyle_Tencode', 'Electrical_Tencode|BsmtExposure_Tencode', 'GarageFinish_Tencode|LotFrontage', 'BsmtHalfBath|GarageQual_Tencode', 'SaleCondition_Tencode|GarageArea', 'RoofMatl_Tencode|KitchenAbvGr', 'MSZoning_Tencode|BsmtFinType1_Tencode', 'TotRmsAbvGrd|BsmtHalfBath', 'OverallQual|OverallCond', 'TotalBsmtSF|Electrical_Tencode', 'GrLivArea|LandContour_Tencode', 'Fence_Tencode|TotRmsAbvGrd', 'LotShape_Tencode|LotConfig_Tencode', 'CentralAir_Tencode|EnclosedPorch', 'GarageCars|LotShape_Tencode', 'GarageCond_Tencode|BsmtFullBath', 'GrLivArea|LotFrontage', 'ScreenPorch|GarageQual_Tencode', 'MiscFeature_Tencode|GrLivArea', 'MiscFeature_Tencode|BsmtHalfBath', 'TotalBsmtSF|BsmtFinType1_Tencode', 'TotalBsmtSF|GarageType_Tencode', 'KitchenQual_Tencode|BsmtFinType2_Tencode', 'ExterQual_Tencode|GrLivArea', 'Utilities_Tencode|ScreenPorch', 'HalfBath|RoofStyle_Tencode', '3SsnPorch|Heating_Tencode', 'GarageType_Tencode|ExterCond_Tencode', 'Heating_Tencode|BsmtFinSF2', 'BsmtCond_Tencode|WoodDeckSF', 'YrSold|KitchenAbvGr', 'BsmtFinSF1|ExterCond_Tencode', 'MiscVal|Exterior2nd_Tencode', 'MSSubClass|Street_Tencode', 'MiscFeature_Tencode|OverallCond', 'MasVnrArea|BsmtFullBath', 'Condition2_Tencode|Street_Tencode', 'Exterior1st_Tencode|KitchenQual_Tencode', 'GarageType_Tencode', 'Heating_Tencode|PavedDrive_Tencode', 'GarageFinish_Tencode|WoodDeckSF', 'BsmtCond_Tencode|MasVnrArea', 'TotalBsmtSF|BsmtFinSF2', 'Exterior2nd_Tencode|GarageQual_Tencode', 'Functional_Tencode|Heating_Tencode', 'LandSlope_Tencode|Heating_Tencode', 'Condition2_Tencode|LotFrontage', 'CentralAir_Tencode|MSSubClass', 'MiscVal|LandContour_Tencode', 'OverallCond', 'LotArea|BsmtFinType2_Tencode', 'Utilities_Tencode|BsmtFinSF2', 'TotalBsmtSF|Alley_Tencode', 'GarageQual_Tencode|ExterCond_Tencode', 'ExterCond_Tencode|OverallCond', 'YearBuilt|ScreenPorch', 'SaleType_Tencode|YearRemodAdd', 'PoolQC_Tencode|GarageQual_Tencode', 'MiscVal|GarageQual_Tencode', 'MasVnrType_Tencode|WoodDeckSF', 'FireplaceQu_Tencode|OverallQual', 'GarageYrBlt|BsmtFullBath', 'TotalBsmtSF|BsmtFullBath', 'MasVnrArea|LotFrontage', 'HeatingQC_Tencode|LotFrontage', 'HalfBath|BsmtFinType2_Tencode', '1stFlrSF|Condition1_Tencode', 'CentralAir_Tencode|HeatingQC_Tencode', 'BedroomAbvGr|ExterQual_Tencode', 'LandContour_Tencode|LotArea', 'YrSold|TotalBsmtSF', 'MiscFeature_Tencode|YrSold', 'MiscVal|Functional_Tencode', 'SaleCondition_Tencode|PavedDrive_Tencode', 'MasVnrType_Tencode|BsmtFinType2_Tencode', 'ExterQual_Tencode|MasVnrArea', 'PoolQC_Tencode|OverallCond', 'GarageCars|Condition2_Tencode', 'BsmtQual_Tencode|OpenPorchSF', 'BsmtHalfBath|KitchenAbvGr', 'BldgType_Tencode|LotShape_Tencode', 'Fence_Tencode|BsmtUnfSF', 'RoofMatl_Tencode|GrLivArea', 'OpenPorchSF|Alley_Tencode', 'RoofStyle_Tencode|Alley_Tencode', 'GarageArea|LotFrontage', 'LowQualFinSF|Condition1_Tencode', 'BldgType_Tencode|KitchenAbvGr', 'YearBuilt|GarageYrBlt', 'Exterior1st_Tencode|EnclosedPorch', 'Fireplaces|MasVnrType_Tencode', 'MoSold|BsmtFullBath', 'TotRmsAbvGrd|GarageArea', 'ScreenPorch|BsmtFullBath', 'GrLivArea|HalfBath', '2ndFlrSF|LandSlope_Tencode', '3SsnPorch|Street_Tencode', 'Electrical_Tencode|MSSubClass', 'BsmtUnfSF|GarageYrBlt', 'KitchenQual_Tencode|ExterCond_Tencode', 'BsmtCond_Tencode|Utilities_Tencode', 'LandSlope_Tencode|Alley_Tencode', '1stFlrSF|Street_Tencode', 'SaleCondition_Tencode|LandContour_Tencode', 'RoofStyle_Tencode|GarageFinish_Tencode', 'BsmtHalfBath|BsmtFinSF1', 'Electrical_Tencode|KitchenQual_Tencode', 'PoolArea|LotFrontage', 'PoolQC_Tencode', 'MasVnrType_Tencode|MasVnrArea', 'Neighborhood_Tencode|BsmtFinType2_Tencode', 'MasVnrType_Tencode|Condition1_Tencode', 'LandContour_Tencode|HouseStyle_Tencode', 'Condition2_Tencode|HouseStyle_Tencode', 'Electrical_Tencode|LotShape_Tencode', 'LotConfig_Tencode|LowQualFinSF', '2ndFlrSF|KitchenQual_Tencode', 'LotShape_Tencode|Condition1_Tencode', 'BsmtUnfSF|Functional_Tencode', 'GarageCars|Electrical_Tencode', 'GrLivArea|BsmtExposure_Tencode', 'CentralAir_Tencode|GarageArea', '1stFlrSF|BsmtFullBath', 'BsmtCond_Tencode|KitchenAbvGr', 'HalfBath|MasVnrType_Tencode', '3SsnPorch|Condition1_Tencode', 'Functional_Tencode|LotFrontage', 'BsmtCond_Tencode|LotFrontage', 'MSZoning_Tencode|BsmtFullBath', 'EnclosedPorch|LotArea', 'BedroomAbvGr|OverallCond', 'TotRmsAbvGrd|Foundation_Tencode', 'ExterQual_Tencode|LotFrontage', 'GarageType_Tencode|BsmtExposure_Tencode', 'BsmtFinSF1|Alley_Tencode', 'BsmtUnfSF|Street_Tencode', 'Exterior1st_Tencode|TotalBsmtSF', 'GarageYrBlt|BsmtExposure_Tencode', 'LandContour_Tencode|GarageType_Tencode', 'Fireplaces|KitchenAbvGr', 'Exterior2nd_Tencode|BldgType_Tencode', 'WoodDeckSF|HouseStyle_Tencode', 'BsmtQual_Tencode|Utilities_Tencode', 'Street_Tencode|GarageQual_Tencode', '2ndFlrSF|MoSold', 'YrSold|EnclosedPorch', 'Electrical_Tencode|GarageQual_Tencode', 'MasVnrArea|ScreenPorch', 'OpenPorchSF|BsmtExposure_Tencode', 'MoSold|LowQualFinSF', 'YearBuilt|BsmtExposure_Tencode', 'BsmtQual_Tencode|LotShape_Tencode', 'TotRmsAbvGrd|KitchenAbvGr', 'BsmtUnfSF|GrLivArea', 'CentralAir_Tencode', 'Exterior2nd_Tencode|2ndFlrSF', 'CentralAir_Tencode|LotArea', 'SaleCondition_Tencode|OpenPorchSF', 'GarageType_Tencode|KitchenAbvGr', 'LandSlope_Tencode|ScreenPorch', 'BsmtFinSF2|HouseStyle_Tencode', '2ndFlrSF|Exterior1st_Tencode', 'MSZoning_Tencode|LotArea', 'YrSold|HalfBath', 'OverallQual|LotShape_Tencode', 'SaleType_Tencode|LotFrontage', 'BldgType_Tencode|Street_Tencode', 'Fence_Tencode|LotShape_Tencode', 'MasVnrType_Tencode|ExterCond_Tencode', 'BsmtCond_Tencode|HalfBath', 'MSZoning_Tencode|LowQualFinSF', 'YrSold|LandSlope_Tencode', 'PoolQC_Tencode|MSSubClass', 'BsmtFinSF2|RoofStyle_Tencode', 'Heating_Tencode|ScreenPorch', 'GarageFinish_Tencode|HouseStyle_Tencode', 'MSZoning_Tencode|GarageArea', 'Fence_Tencode|GrLivArea', 'GarageCond_Tencode|GarageYrBlt', 'GarageYrBlt|GarageFinish_Tencode', 'RoofMatl_Tencode|HouseStyle_Tencode', 'Fireplaces|Alley_Tencode', 'ExterQual_Tencode|ScreenPorch', 'BldgType_Tencode|MasVnrArea', 'SaleType_Tencode|GarageCond_Tencode', 'BsmtFinSF2|GarageType_Tencode', 'RoofMatl_Tencode|BsmtFinSF1', 'GarageYrBlt|LotArea', 'Heating_Tencode|GarageCond_Tencode', 'ScreenPorch|BsmtFinType2_Tencode', 'YearBuilt|MSZoning_Tencode', 'ExterQual_Tencode|KitchenQual_Tencode', 'HeatingQC_Tencode|Condition1_Tencode', 'SaleCondition_Tencode', 'TotalBsmtSF|MoSold', 'PavedDrive_Tencode|BsmtFinType2_Tencode', 'Functional_Tencode|KitchenAbvGr', 'RoofMatl_Tencode|Exterior1st_Tencode', 'MiscFeature_Tencode|Exterior1st_Tencode', 'EnclosedPorch|BsmtFinType2_Tencode', 'Fireplaces|MSZoning_Tencode', 'SaleCondition_Tencode|OverallQual', 'PoolQC_Tencode|WoodDeckSF', 'HalfBath|ScreenPorch', 'BsmtFinSF1|LotFrontage', 'GarageCars|OpenPorchSF', 'GarageCars|Condition1_Tencode', 'RoofStyle_Tencode|WoodDeckSF', 'Condition2_Tencode|BsmtFinType1_Tencode', 'OpenPorchSF', 'CentralAir_Tencode|GarageType_Tencode', 'MiscVal|GarageYrBlt', 'WoodDeckSF|Condition1_Tencode', 'TotalBsmtSF|LandContour_Tencode', 'ExterQual_Tencode|MSSubClass', 'TotRmsAbvGrd|GrLivArea', 'GarageQual_Tencode|WoodDeckSF', 'ExterQual_Tencode|OpenPorchSF', 'SaleCondition_Tencode|Alley_Tencode', 'Exterior2nd_Tencode|ScreenPorch', 'Exterior2nd_Tencode|PavedDrive_Tencode', 'TotRmsAbvGrd|Electrical_Tencode', 'OverallQual|GarageFinish_Tencode', 'GarageArea|GarageFinish_Tencode', 'CentralAir_Tencode|MoSold', 'GarageArea|LowQualFinSF', 'BedroomAbvGr|BsmtHalfBath', 'MasVnrType_Tencode|Street_Tencode', 'MiscVal|Utilities_Tencode', 'MiscVal|BsmtUnfSF', 'GarageCars|ScreenPorch', 'LotConfig_Tencode', 'Condition2_Tencode|YearRemodAdd', 'SaleType_Tencode|HouseStyle_Tencode', 'LotArea|LotFrontage', 'MSZoning_Tencode|BsmtFinType2_Tencode', 'OpenPorchSF|ScreenPorch', 'MiscVal|EnclosedPorch', 'TotRmsAbvGrd|BldgType_Tencode', 'GarageFinish_Tencode', 'BsmtFinType2_Tencode', 'MasVnrType_Tencode|Foundation_Tencode', 'BsmtUnfSF|LotFrontage', 'YearRemodAdd|ExterCond_Tencode', 'GrLivArea|Street_Tencode', 'OverallQual|WoodDeckSF', 'Utilities_Tencode|Street_Tencode', 'CentralAir_Tencode|BsmtFinSF2', 'CentralAir_Tencode|GrLivArea', 'BedroomAbvGr|MasVnrType_Tencode', 'SaleCondition_Tencode|HeatingQC_Tencode', 'FireplaceQu_Tencode|MiscFeature_Tencode', 'YearBuilt|LandSlope_Tencode', 'Exterior1st_Tencode|ScreenPorch', 'Neighborhood_Tencode|OverallCond', 'GrLivArea|HouseStyle_Tencode', 'FireplaceQu_Tencode|GarageCond_Tencode', 'MiscVal|GarageType_Tencode', 'TotRmsAbvGrd|YrSold', 'LandContour_Tencode|EnclosedPorch', 'OverallQual|BsmtFullBath', 'KitchenQual_Tencode|OverallCond', 'YearBuilt|SaleType_Tencode', 'Condition2_Tencode|LotArea', '2ndFlrSF|Condition1_Tencode', 'GarageCars|HouseStyle_Tencode', 'WoodDeckSF|LotFrontage', '2ndFlrSF|HouseStyle_Tencode', 'PoolQC_Tencode|MasVnrArea', 'Exterior2nd_Tencode|3SsnPorch', 'LandSlope_Tencode|MasVnrType_Tencode', 'ExterQual_Tencode|BsmtFinSF1', 'BedroomAbvGr|GarageFinish_Tencode', 'Exterior2nd_Tencode', 'BsmtFinSF1|HouseStyle_Tencode', 'HalfBath|EnclosedPorch', 'MSZoning_Tencode|BsmtHalfBath', 'MoSold|GarageArea', 'Exterior1st_Tencode|HalfBath', 'GarageCars|BsmtExposure_Tencode', 'KitchenQual_Tencode|HouseStyle_Tencode', 'Fence_Tencode|Street_Tencode', 'BsmtFinSF1|GarageType_Tencode', 'BsmtFinSF2|Foundation_Tencode', 'BsmtFullBath|Foundation_Tencode', 'MiscFeature_Tencode|LotFrontage', 'BsmtQual_Tencode|ScreenPorch', 'EnclosedPorch|Street_Tencode', 'ScreenPorch|Condition1_Tencode', 'SaleType_Tencode|GarageYrBlt', 'FullBath|Condition1_Tencode', 'KitchenQual_Tencode|LotArea', 'RoofStyle_Tencode|ScreenPorch', 'Utilities_Tencode|GarageYrBlt', 'LandSlope_Tencode|GarageCond_Tencode', '3SsnPorch|BsmtFinType1_Tencode', 'Fireplaces|YearBuilt', 'KitchenQual_Tencode|Street_Tencode', 'MasVnrArea|YearRemodAdd', 'LotConfig_Tencode|MSSubClass', 'MasVnrType_Tencode|FullBath', 'YearBuilt|HeatingQC_Tencode', 'BsmtFinSF2|BsmtExposure_Tencode', 'Exterior1st_Tencode|Street_Tencode', 'LandSlope_Tencode|BsmtFinType2_Tencode', 'PoolArea|GarageQual_Tencode', 'YrSold|MoSold', 'RoofStyle_Tencode|LotArea', 'Electrical_Tencode|Condition1_Tencode', 'PoolArea|1stFlrSF', 'Exterior1st_Tencode|OverallCond', 'Heating_Tencode|SaleType_Tencode', 'PoolQC_Tencode|Street_Tencode', 'BsmtCond_Tencode|OverallQual', 'BedroomAbvGr|SaleType_Tencode', 'HalfBath|PoolQC_Tencode', 'LotConfig_Tencode|ExterCond_Tencode', 'BsmtUnfSF|LandContour_Tencode', 'BedroomAbvGr|ScreenPorch', 'MasVnrType_Tencode|LotFrontage', 'HeatingQC_Tencode|EnclosedPorch', 'SaleType_Tencode|Condition1_Tencode', 'Fence_Tencode|MoSold', '2ndFlrSF|OpenPorchSF', 'LandContour_Tencode|Foundation_Tencode', 'TotRmsAbvGrd|OverallCond', 'YearBuilt|1stFlrSF', 'FireplaceQu_Tencode|EnclosedPorch', 'MasVnrType_Tencode|KitchenQual_Tencode', 'HeatingQC_Tencode|MasVnrType_Tencode', 'BldgType_Tencode|EnclosedPorch', 'GrLivArea|OverallQual', '2ndFlrSF|GarageArea', 'LotArea|FullBath', 'BsmtFinSF2|OpenPorchSF', 'SaleCondition_Tencode|BsmtFullBath', 'LotShape_Tencode|RoofStyle_Tencode', 'Utilities_Tencode|LowQualFinSF', 'Heating_Tencode|BsmtFinType2_Tencode', 'MiscVal|HeatingQC_Tencode', 'Street_Tencode|Foundation_Tencode', 'GarageFinish_Tencode|BsmtFinType2_Tencode', 'HeatingQC_Tencode|Street_Tencode', 'OverallQual|LowQualFinSF', 'GrLivArea|3SsnPorch', 'MasVnrType_Tencode|BsmtExposure_Tencode', 'BsmtFinType1_Tencode|MSSubClass', 'YearBuilt|YearRemodAdd', 'GarageCars|BsmtCond_Tencode', 'HalfBath|Street_Tencode', 'BsmtFullBath|LotFrontage', 'Condition2_Tencode|GarageArea', 'GrLivArea|MasVnrArea', 'KitchenAbvGr|LotFrontage', 'TotRmsAbvGrd|LandSlope_Tencode', 'TotalBsmtSF|GarageCond_Tencode', '2ndFlrSF|GarageCond_Tencode', 'HouseStyle_Tencode|Condition1_Tencode', 'CentralAir_Tencode|WoodDeckSF', 'MiscVal|RoofStyle_Tencode', 'BsmtUnfSF|OverallQual', 'MiscVal|MasVnrArea', 'LotConfig_Tencode|HouseStyle_Tencode', 'Condition1_Tencode|LotFrontage', 'Exterior1st_Tencode|Alley_Tencode', 'Functional_Tencode|LotConfig_Tencode', 'CentralAir_Tencode|MSZoning_Tencode', 'LandSlope_Tencode|HouseStyle_Tencode', 'FireplaceQu_Tencode|ExterQual_Tencode', 'TotalBsmtSF|Condition2_Tencode', 'YrSold|FullBath', 'Heating_Tencode|Alley_Tencode', 'LandSlope_Tencode|RoofStyle_Tencode', 'BsmtUnfSF|PoolArea', 'PavedDrive_Tencode|ExterCond_Tencode', 'Fence_Tencode|YearBuilt', 'PoolArea|Condition1_Tencode', 'MiscFeature_Tencode|WoodDeckSF', 'Fireplaces|2ndFlrSF', '1stFlrSF|GarageCond_Tencode', 'Fence_Tencode|LandContour_Tencode', 'TotRmsAbvGrd|LotFrontage', 'PoolArea|ExterCond_Tencode', 'BsmtCond_Tencode|HouseStyle_Tencode', 'MSZoning_Tencode', 'YearBuilt|Condition2_Tencode', 'OverallQual|OpenPorchSF', 'TotRmsAbvGrd|Alley_Tencode', '3SsnPorch|BsmtFinSF1', 'FireplaceQu_Tencode|BsmtExposure_Tencode', 'MasVnrArea|BsmtExposure_Tencode', 'MSZoning_Tencode|MasVnrArea', 'BldgType_Tencode|Exterior1st_Tencode', 'BsmtFinType1_Tencode|Foundation_Tencode', 'PoolQC_Tencode|BsmtFinType2_Tencode', 'PavedDrive_Tencode|Condition1_Tencode', 'Fireplaces|LandSlope_Tencode', 'TotalBsmtSF|RoofStyle_Tencode', 'YearRemodAdd|BsmtFullBath', '1stFlrSF|GarageYrBlt', 'CentralAir_Tencode|LandSlope_Tencode', 'OverallQual|Street_Tencode', 'GarageCars|Neighborhood_Tencode', 'PoolArea|BsmtFullBath', 'BsmtFinSF2|LotFrontage', 'BsmtHalfBath|HouseStyle_Tencode', 'Exterior2nd_Tencode|BsmtFinType1_Tencode', 'BsmtQual_Tencode|ExterCond_Tencode', 'BedroomAbvGr|Fireplaces', 'Condition2_Tencode|LotConfig_Tencode', 'MoSold', 'Heating_Tencode|KitchenQual_Tencode', 'OpenPorchSF|EnclosedPorch', 'BsmtCond_Tencode|Heating_Tencode', 'LandSlope_Tencode|BsmtFinType1_Tencode', 'BsmtFullBath|Condition1_Tencode', 'Fence_Tencode|LotArea', 'MiscVal|BsmtFinSF1', 'Fireplaces|LotConfig_Tencode', 'LandContour_Tencode|MSSubClass', '2ndFlrSF|PoolQC_Tencode', 'MSZoning_Tencode|LotConfig_Tencode', 'ExterQual_Tencode|Electrical_Tencode', 'KitchenQual_Tencode', '3SsnPorch|TotalBsmtSF', 'HeatingQC_Tencode|LotShape_Tencode', 'Fireplaces|BsmtHalfBath', 'TotRmsAbvGrd|Exterior1st_Tencode', 'BsmtUnfSF|Electrical_Tencode', 'GarageYrBlt|KitchenAbvGr', 'KitchenQual_Tencode|FullBath', '1stFlrSF|LowQualFinSF', 'Functional_Tencode|BldgType_Tencode', 'FireplaceQu_Tencode|BedroomAbvGr', 'SaleCondition_Tencode|Condition2_Tencode', 'MasVnrArea|Street_Tencode', 'Fireplaces|GarageFinish_Tencode', 'GrLivArea|EnclosedPorch', 'Utilities_Tencode|GarageType_Tencode', 'Alley_Tencode|MasVnrArea', 'YrSold|Street_Tencode', '3SsnPorch|YearRemodAdd', 'BsmtCond_Tencode|LotShape_Tencode', 'RoofMatl_Tencode|BsmtQual_Tencode', 'GrLivArea|BsmtFinSF1', 'TotRmsAbvGrd|GarageType_Tencode', 'Street_Tencode|Condition1_Tencode', 'MoSold|MSSubClass', 'GarageCond_Tencode|GarageQual_Tencode', 'MSZoning_Tencode|YearRemodAdd', 'MiscVal|3SsnPorch', '3SsnPorch|LotShape_Tencode', 'MSSubClass|OverallCond', 'MasVnrType_Tencode|BsmtFinType1_Tencode', 'SaleType_Tencode|BsmtFinType1_Tencode', 'Fence_Tencode|GarageYrBlt', 'HeatingQC_Tencode|KitchenQual_Tencode', 'GrLivArea|OpenPorchSF', 'PoolQC_Tencode|Alley_Tencode', '2ndFlrSF|BldgType_Tencode', 'Fence_Tencode|BldgType_Tencode', 'TotRmsAbvGrd|OverallQual', 'PoolArea|LowQualFinSF', 'BsmtHalfBath|OverallCond', 'PoolArea|ScreenPorch', 'BsmtHalfBath|PavedDrive_Tencode', 'BedroomAbvGr|Condition1_Tencode', 'BsmtFinSF2|GarageCond_Tencode', 'GarageQual_Tencode|OverallCond', 'Fence_Tencode|BsmtQual_Tencode', 'Fence_Tencode|Exterior1st_Tencode', 'GrLivArea|RoofStyle_Tencode', 'BldgType_Tencode|GarageArea', 'GarageCars|SaleType_Tencode', 'BldgType_Tencode|SaleCondition_Tencode', 'Fireplaces|YrSold', '3SsnPorch|LotArea', 'FireplaceQu_Tencode|HouseStyle_Tencode', 'FireplaceQu_Tencode|KitchenAbvGr', 'PavedDrive_Tencode|GarageYrBlt', 'Street_Tencode|OverallCond', 'OverallQual|LotArea', 'GarageCars|MSZoning_Tencode', 'BsmtUnfSF|LowQualFinSF', 'WoodDeckSF|LowQualFinSF', 'FireplaceQu_Tencode|GarageArea', 'BsmtFinSF2|HeatingQC_Tencode', '1stFlrSF|WoodDeckSF', 'Utilities_Tencode|GarageQual_Tencode', 'TotalBsmtSF|Utilities_Tencode', 'ExterQual_Tencode|LotShape_Tencode', 'HeatingQC_Tencode|GarageQual_Tencode', 'MiscVal|PoolArea', 'Exterior2nd_Tencode|HalfBath', 'YrSold|BsmtFinSF1', '3SsnPorch|LandContour_Tencode', 'Fireplaces|GarageYrBlt', 'BsmtHalfBath|MasVnrArea', 'GrLivArea|GarageType_Tencode', 'RoofMatl_Tencode|PoolQC_Tencode', 'Street_Tencode|BsmtFullBath', 'GarageCond_Tencode|BsmtFinType1_Tencode', 'FireplaceQu_Tencode|2ndFlrSF', 'LotShape_Tencode|BsmtExposure_Tencode', 'TotalBsmtSF|BsmtExposure_Tencode', 'Functional_Tencode|PoolArea', 'GarageArea|BsmtExposure_Tencode', 'Utilities_Tencode|BsmtFinSF1', 'OverallQual|Neighborhood_Tencode', 'BsmtCond_Tencode|EnclosedPorch', '2ndFlrSF|LotConfig_Tencode', 'MoSold|BsmtFinSF1', 'PoolArea|MSZoning_Tencode', 'Utilities_Tencode|MasVnrArea', 'Alley_Tencode|LotArea', 'BsmtHalfBath|Condition1_Tencode', 'BsmtQual_Tencode|BsmtFinSF2', 'PoolQC_Tencode|KitchenAbvGr', 'Condition2_Tencode|GarageYrBlt', 'BsmtFinSF1|WoodDeckSF', 'ExterQual_Tencode|Functional_Tencode', 'Exterior2nd_Tencode|TotalBsmtSF', 'PoolArea|GarageCond_Tencode', 'SaleType_Tencode|GarageArea', 'Exterior2nd_Tencode|BsmtUnfSF', 'BsmtQual_Tencode|MSSubClass', 'Exterior2nd_Tencode|Utilities_Tencode', 'Neighborhood_Tencode|KitchenAbvGr', 'BsmtUnfSF|OpenPorchSF', 'TotalBsmtSF|LotConfig_Tencode', 'CentralAir_Tencode|Functional_Tencode', 'GrLivArea|BldgType_Tencode', 'YrSold|PavedDrive_Tencode', 'Electrical_Tencode|BsmtHalfBath', 'LandContour_Tencode|GarageFinish_Tencode', 'GarageQual_Tencode|LowQualFinSF', 'HalfBath|MSSubClass', 'TotRmsAbvGrd|LowQualFinSF', 'EnclosedPorch|MasVnrArea', 'MiscFeature_Tencode|GarageCond_Tencode', '2ndFlrSF|GrLivArea', 'TotRmsAbvGrd|GarageQual_Tencode', 'GarageArea|MSSubClass', 'GarageCars|OverallCond', 'Heating_Tencode|ExterCond_Tencode', 'Exterior1st_Tencode|GarageArea', 'GarageCond_Tencode|PavedDrive_Tencode', 'KitchenQual_Tencode|LotConfig_Tencode', 'PavedDrive_Tencode|BsmtExposure_Tencode', 'MiscVal|Electrical_Tencode', 'Electrical_Tencode|Alley_Tencode', 'BsmtHalfBath|GarageArea', 'MasVnrType_Tencode|PavedDrive_Tencode', 'HalfBath|GarageArea', 'PoolArea|OverallCond', 'HeatingQC_Tencode|HouseStyle_Tencode', 'BedroomAbvGr|BsmtUnfSF', 'LotConfig_Tencode|BsmtFinType2_Tencode', 'BsmtUnfSF|YrSold', '1stFlrSF|BsmtFinType1_Tencode', 'OverallQual|SaleType_Tencode', 'SaleCondition_Tencode|GarageQual_Tencode', 'MasVnrType_Tencode|YearRemodAdd', 'Electrical_Tencode|WoodDeckSF', 'KitchenQual_Tencode|GarageFinish_Tencode', 'Fireplaces|BsmtFullBath', 'WoodDeckSF|BsmtFullBath', 'KitchenQual_Tencode|BsmtExposure_Tencode', 'Street_Tencode|HouseStyle_Tencode', 'TotRmsAbvGrd|PoolQC_Tencode', 'Alley_Tencode|BsmtExposure_Tencode', 'FireplaceQu_Tencode|MiscVal', 'YrSold|MSZoning_Tencode', 'PoolArea|LandContour_Tencode', 'YrSold|GarageType_Tencode', 'BedroomAbvGr|Alley_Tencode', 'LotConfig_Tencode|BsmtFullBath', 'LandSlope_Tencode|BsmtHalfBath', 'RoofStyle_Tencode|MasVnrArea', 'GarageFinish_Tencode|Street_Tencode', 'FireplaceQu_Tencode|RoofStyle_Tencode', 'ExterQual_Tencode|Exterior1st_Tencode', 'MiscFeature_Tencode|PoolArea', 'LandContour_Tencode|HeatingQC_Tencode', 'BsmtQual_Tencode|BsmtHalfBath', 'MasVnrArea|KitchenAbvGr', 'PoolArea|LotShape_Tencode', 'Exterior1st_Tencode|GarageType_Tencode', 'HalfBath|GarageType_Tencode', 'Utilities_Tencode|Condition2_Tencode', 'PoolQC_Tencode|MasVnrType_Tencode', 'HeatingQC_Tencode|LowQualFinSF', 'RoofMatl_Tencode|EnclosedPorch', 'LotShape_Tencode|KitchenAbvGr', 'YrSold|GarageArea', 'SaleCondition_Tencode|1stFlrSF', 'Functional_Tencode|BsmtFinSF1', 'Alley_Tencode|BsmtFinType1_Tencode', 'MoSold|KitchenQual_Tencode', 'MSZoning_Tencode|HouseStyle_Tencode', 'CentralAir_Tencode|OverallCond', 'OpenPorchSF|HouseStyle_Tencode', '2ndFlrSF|Alley_Tencode', 'BsmtCond_Tencode|Street_Tencode', 'GrLivArea|Alley_Tencode', 'RoofMatl_Tencode|BsmtFullBath', 'YearRemodAdd|WoodDeckSF', 'Condition2_Tencode|EnclosedPorch', 'LandContour_Tencode|Street_Tencode', 'MiscVal|BsmtQual_Tencode', 'YrSold|PoolArea', 'MiscFeature_Tencode|Condition2_Tencode', 'MiscFeature_Tencode|SaleType_Tencode', 'YearBuilt|OverallQual', 'BsmtUnfSF|WoodDeckSF', 'CentralAir_Tencode|GarageQual_Tencode', 'BsmtQual_Tencode|PoolArea', 'KitchenQual_Tencode|WoodDeckSF', 'Exterior1st_Tencode|RoofStyle_Tencode', 'BldgType_Tencode|LandContour_Tencode', 'MasVnrType_Tencode|GarageType_Tencode', 'LandContour_Tencode|PoolQC_Tencode', 'Exterior2nd_Tencode|ExterCond_Tencode', 'YearBuilt|MoSold', 'LotConfig_Tencode|WoodDeckSF', 'GarageCond_Tencode|LotFrontage', 'TotRmsAbvGrd|Utilities_Tencode', 'BsmtFinType1_Tencode|Condition1_Tencode', 'YearBuilt|OverallCond', 'RoofMatl_Tencode|PoolArea', 'Exterior1st_Tencode|OverallQual', 'KitchenQual_Tencode|RoofStyle_Tencode', 'RoofStyle_Tencode|LotFrontage', 'BsmtUnfSF|ExterCond_Tencode', 'Functional_Tencode|BsmtExposure_Tencode', 'RoofMatl_Tencode|BsmtFinSF2', 'FireplaceQu_Tencode|BsmtFinType2_Tencode', 'CentralAir_Tencode|Foundation_Tencode', '1stFlrSF|Electrical_Tencode', 'TotalBsmtSF|KitchenAbvGr', 'GarageArea|KitchenAbvGr', 'LotArea|MSSubClass', 'GarageYrBlt|OverallCond', 'KitchenAbvGr|BsmtExposure_Tencode', 'BldgType_Tencode|MasVnrType_Tencode', 'PoolArea|BsmtExposure_Tencode', 'Exterior1st_Tencode|Condition1_Tencode', '2ndFlrSF|BsmtFinSF2', 'BsmtHalfBath|Foundation_Tencode', 'FireplaceQu_Tencode|TotalBsmtSF', 'CentralAir_Tencode|Fireplaces', 'Utilities_Tencode|LotArea', 'GarageCars|Exterior1st_Tencode', 'Functional_Tencode|GarageYrBlt', 'BsmtUnfSF|MSSubClass', 'BldgType_Tencode|GarageYrBlt', 'Heating_Tencode|Foundation_Tencode', 'PoolQC_Tencode|FullBath', 'BedroomAbvGr|BsmtExposure_Tencode', 'BsmtUnfSF|MasVnrArea', 'CentralAir_Tencode|Street_Tencode', 'BldgType_Tencode|TotalBsmtSF', 'OpenPorchSF|Neighborhood_Tencode', 'FireplaceQu_Tencode|RoofMatl_Tencode', 'BsmtExposure_Tencode|FullBath', 'Fireplaces|ScreenPorch', 'GarageCond_Tencode|Neighborhood_Tencode', 'Fireplaces|Condition2_Tencode', 'MiscVal|GarageArea', 'Neighborhood_Tencode|MSSubClass', 'MiscVal|Fireplaces', 'LowQualFinSF|BsmtFullBath', '1stFlrSF|YearRemodAdd', 'Fence_Tencode', 'BsmtCond_Tencode|YearRemodAdd', 'Functional_Tencode|Exterior1st_Tencode', 'BsmtCond_Tencode|GrLivArea', 'BsmtQual_Tencode|GarageCond_Tencode', 'GarageYrBlt|YearRemodAdd', 'Functional_Tencode|OpenPorchSF', 'PoolArea|Condition2_Tencode', 'OverallQual|HouseStyle_Tencode', 'FireplaceQu_Tencode|Street_Tencode', 'LandSlope_Tencode|Utilities_Tencode', 'BsmtQual_Tencode|2ndFlrSF', 'BedroomAbvGr|HouseStyle_Tencode', 'MiscVal|LandSlope_Tencode', 'SaleCondition_Tencode|OverallCond', 'GarageCond_Tencode|MSSubClass', 'MiscFeature_Tencode|HeatingQC_Tencode', 'BsmtFinSF2|BsmtFinSF1', 'LandSlope_Tencode|WoodDeckSF', 'ExterQual_Tencode|Condition2_Tencode', 'HouseStyle_Tencode|OverallCond', 'LandSlope_Tencode|YearRemodAdd', 'YearRemodAdd|Condition1_Tencode', 'SaleCondition_Tencode|3SsnPorch', 'BldgType_Tencode|YearRemodAdd', 'Exterior1st_Tencode|Condition2_Tencode', 'GarageType_Tencode|MSSubClass', 'BedroomAbvGr|3SsnPorch', 'Exterior2nd_Tencode|BsmtHalfBath', 'YrSold|SaleCondition_Tencode', 'GarageCond_Tencode|LotShape_Tencode', 'PoolQC_Tencode|LowQualFinSF', '3SsnPorch|Foundation_Tencode', 'Exterior2nd_Tencode|FullBath', 'ExterQual_Tencode|MasVnrType_Tencode', 'MasVnrArea|LotArea', 'PoolArea|RoofStyle_Tencode', 'GarageQual_Tencode|Condition1_Tencode', 'MasVnrArea|GarageType_Tencode', 'GrLivArea|LandSlope_Tencode', 'MiscFeature_Tencode|BsmtUnfSF', 'GarageCars|YearRemodAdd', 'MSZoning_Tencode|PavedDrive_Tencode', 'PoolArea|LandSlope_Tencode', 'Exterior2nd_Tencode|Neighborhood_Tencode', 'KitchenQual_Tencode|GarageQual_Tencode', 'Heating_Tencode|OpenPorchSF', 'GarageCars|ExterQual_Tencode', 'BsmtExposure_Tencode|LowQualFinSF', 'BsmtHalfBath|LotConfig_Tencode', 'YearBuilt|BsmtHalfBath', 'MiscFeature_Tencode|Functional_Tencode', 'BsmtUnfSF|YearRemodAdd', 'CentralAir_Tencode|BldgType_Tencode', 'OverallCond|LotFrontage', 'Exterior1st_Tencode|PoolQC_Tencode', 'GarageArea|ScreenPorch', 'RoofMatl_Tencode|YearRemodAdd', 'SaleCondition_Tencode|BsmtFinSF1', 'ExterQual_Tencode|GarageFinish_Tencode', 'BsmtCond_Tencode|HeatingQC_Tencode', 'LandSlope_Tencode|MSSubClass', 'RoofMatl_Tencode|GarageQual_Tencode', '2ndFlrSF|Street_Tencode', 'BldgType_Tencode|WoodDeckSF', 'ExterQual_Tencode|MSZoning_Tencode', 'KitchenAbvGr|LowQualFinSF', 'Condition2_Tencode|BsmtFinSF1', 'MoSold|MasVnrArea', 'YrSold|MSSubClass', 'BsmtCond_Tencode', 'TotRmsAbvGrd|3SsnPorch', 'MSZoning_Tencode|BsmtExposure_Tencode', 'CentralAir_Tencode|GarageCond_Tencode', 'BsmtHalfBath|MasVnrType_Tencode', 'KitchenAbvGr|WoodDeckSF', 'LotShape_Tencode|LowQualFinSF', 'Foundation_Tencode|HouseStyle_Tencode', 'BsmtFinSF2|LowQualFinSF', 'FireplaceQu_Tencode|BldgType_Tencode', 'MSZoning_Tencode|GarageQual_Tencode', 'BedroomAbvGr|HeatingQC_Tencode', '1stFlrSF|Neighborhood_Tencode', 'Exterior1st_Tencode|LotShape_Tencode', 'LotShape_Tencode|ScreenPorch', 'MoSold|GarageFinish_Tencode', 'Utilities_Tencode|GarageFinish_Tencode', 'LotArea|Condition1_Tencode', '1stFlrSF|KitchenQual_Tencode', 'ScreenPorch|BsmtFinType1_Tencode', 'PavedDrive_Tencode|LowQualFinSF', 'PoolQC_Tencode|BsmtHalfBath', 'SaleCondition_Tencode|LotArea', 'Fence_Tencode|PavedDrive_Tencode', 'OverallQual|MSSubClass', 'CentralAir_Tencode|MasVnrArea', 'Fence_Tencode|LotFrontage', 'BedroomAbvGr|Exterior2nd_Tencode', 'GarageYrBlt|FullBath', 'LandContour_Tencode|BsmtFullBath', '2ndFlrSF|Heating_Tencode', '3SsnPorch|SaleType_Tencode', 'MSZoning_Tencode|FullBath', 'MiscFeature_Tencode|ExterCond_Tencode', 'OpenPorchSF|PoolQC_Tencode', 'BsmtHalfBath|LotArea', 'Exterior2nd_Tencode|GrLivArea', 'BsmtFinSF1|Foundation_Tencode', 'LandContour_Tencode|BsmtFinSF1', 'LotShape_Tencode|LotFrontage', 'YrSold|WoodDeckSF', 'Exterior1st_Tencode|LotArea', 'BsmtQual_Tencode|LandContour_Tencode', 'Fireplaces|ExterQual_Tencode', 'Utilities_Tencode|ExterCond_Tencode', 'MSSubClass|GarageQual_Tencode', 'BsmtCond_Tencode|TotRmsAbvGrd', 'FireplaceQu_Tencode|YearBuilt', 'BsmtQual_Tencode|Foundation_Tencode', 'Functional_Tencode|SaleType_Tencode', 'RoofMatl_Tencode|BsmtFinType1_Tencode', 'GarageCars|LotFrontage', 'RoofMatl_Tencode|1stFlrSF', 'BsmtFinType1_Tencode|GarageFinish_Tencode', 'ExterQual_Tencode|GarageQual_Tencode', 'ExterQual_Tencode|SaleCondition_Tencode', 'GarageCond_Tencode|KitchenQual_Tencode', 'BedroomAbvGr|SaleCondition_Tencode', 'ExterQual_Tencode|Alley_Tencode', 'GarageCars|MasVnrArea', 'SaleType_Tencode|PoolQC_Tencode', 'GrLivArea|BsmtFinType2_Tencode', 'Utilities_Tencode|Alley_Tencode', 'LandSlope_Tencode|OpenPorchSF', 'BsmtQual_Tencode|YearRemodAdd', 'LotArea|HouseStyle_Tencode', 'BsmtUnfSF|BsmtExposure_Tencode', 'MSZoning_Tencode|Electrical_Tencode', 'SaleType_Tencode|GarageQual_Tencode', 'LotConfig_Tencode|ScreenPorch', 'Heating_Tencode|Street_Tencode', 'PoolQC_Tencode|GarageArea', 'GarageCars|FullBath', 'BsmtFinSF2|LotShape_Tencode', 'GarageType_Tencode|GarageFinish_Tencode', 'BsmtHalfBath|FullBath', 'BsmtUnfSF|GarageCond_Tencode', 'Condition2_Tencode|Foundation_Tencode', 'RoofMatl_Tencode|3SsnPorch', 'TotRmsAbvGrd|HeatingQC_Tencode', 'GarageQual_Tencode|BsmtExposure_Tencode', 'HalfBath', 'MSSubClass|LotFrontage', 'BsmtUnfSF|HalfBath', 'BsmtHalfBath|LowQualFinSF', 'EnclosedPorch|GarageType_Tencode', 'BsmtQual_Tencode|PavedDrive_Tencode', 'Condition2_Tencode|MSSubClass', 'MSSubClass|ExterCond_Tencode', 'PavedDrive_Tencode|KitchenAbvGr', 'GarageYrBlt', 'Condition2_Tencode|GarageType_Tencode', '2ndFlrSF|HeatingQC_Tencode', 'TotalBsmtSF|HalfBath', 'Condition2_Tencode|PoolQC_Tencode', '2ndFlrSF|BsmtExposure_Tencode', 'PavedDrive_Tencode|MasVnrArea', 'PoolArea|HalfBath', '3SsnPorch|KitchenAbvGr', 'Neighborhood_Tencode|Street_Tencode', 'TotalBsmtSF|Heating_Tencode', 'HalfBath|HouseStyle_Tencode', '2ndFlrSF|OverallCond', 'SaleCondition_Tencode|LandSlope_Tencode', 'Fireplaces|Electrical_Tencode', 'BsmtFinSF2|EnclosedPorch', 'GarageCars|PavedDrive_Tencode', 'CentralAir_Tencode|HalfBath', 'GarageYrBlt|MSSubClass', 'GarageCars|SaleCondition_Tencode', 'BsmtHalfBath|BsmtExposure_Tencode', 'GarageCars|WoodDeckSF', 'Electrical_Tencode|PoolQC_Tencode', 'PavedDrive_Tencode|GarageType_Tencode', 'GrLivArea|ExterCond_Tencode', 'Exterior2nd_Tencode|Condition2_Tencode', 'ExterQual_Tencode|GarageYrBlt', 'FireplaceQu_Tencode|LotShape_Tencode', 'BsmtFinSF2|HalfBath', 'Fireplaces|PoolQC_Tencode', 'GarageType_Tencode|LowQualFinSF', 'BsmtFinType1_Tencode|LowQualFinSF', '2ndFlrSF|ExterCond_Tencode', 'MiscVal|WoodDeckSF', 'KitchenAbvGr|BsmtFullBath', 'SaleCondition_Tencode|Foundation_Tencode', 'MasVnrArea|FullBath', 'BsmtHalfBath|BsmtFullBath', 'CentralAir_Tencode|SaleCondition_Tencode', 'ScreenPorch|LowQualFinSF', 'ExterQual_Tencode|OverallCond', 'BsmtFinType1_Tencode|Street_Tencode', 'SaleCondition_Tencode|LotFrontage', 'GarageCond_Tencode|Condition1_Tencode', 'BsmtFinSF2|Condition2_Tencode', 'BsmtCond_Tencode|MSZoning_Tencode', 'FireplaceQu_Tencode|Heating_Tencode', 'MiscFeature_Tencode|GarageYrBlt', 'MSZoning_Tencode|GarageYrBlt', 'BldgType_Tencode|Electrical_Tencode', 'EnclosedPorch|ExterCond_Tencode', 'Exterior2nd_Tencode|WoodDeckSF', 'ExterCond_Tencode|LowQualFinSF', 'LandContour_Tencode|BsmtHalfBath', 'Functional_Tencode|WoodDeckSF', 'MSZoning_Tencode|MoSold', 'OpenPorchSF|Foundation_Tencode', 'BsmtCond_Tencode|BsmtFinSF2', 'Functional_Tencode|RoofStyle_Tencode', 'Fireplaces|PavedDrive_Tencode', 'BsmtFinSF2|GarageQual_Tencode', 'YrSold|GarageCond_Tencode', 'Exterior2nd_Tencode|Functional_Tencode', 'BldgType_Tencode|MoSold', 'Exterior2nd_Tencode|Heating_Tencode', 'ScreenPorch|MSSubClass', 'GarageCond_Tencode|HouseStyle_Tencode', 'Neighborhood_Tencode|MasVnrArea', 'TotRmsAbvGrd|Exterior2nd_Tencode', 'BsmtCond_Tencode|Condition2_Tencode', 'GrLivArea|GarageYrBlt', 'ExterCond_Tencode|Condition1_Tencode', 'KitchenQual_Tencode|Neighborhood_Tencode', 'BsmtQual_Tencode|Heating_Tencode', 'LandContour_Tencode', 'BedroomAbvGr|Electrical_Tencode', 'GarageType_Tencode|BsmtFullBath', 'GarageCond_Tencode|FullBath', 'Functional_Tencode|GarageCond_Tencode', 'GarageType_Tencode|Foundation_Tencode', 'RoofMatl_Tencode|Condition1_Tencode', 'LandContour_Tencode|FullBath', 'RoofMatl_Tencode|SaleCondition_Tencode', 'OverallQual|FullBath', 'BsmtUnfSF|BsmtFinType2_Tencode', 'Fireplaces|BsmtFinType1_Tencode', 'EnclosedPorch|GarageFinish_Tencode', 'FireplaceQu_Tencode|MSZoning_Tencode', 'SaleCondition_Tencode|MoSold', 'TotalBsmtSF|WoodDeckSF', 'PoolArea|BsmtFinType1_Tencode', 'RoofMatl_Tencode|TotalBsmtSF', 'GrLivArea|Neighborhood_Tencode', 'Heating_Tencode|MasVnrType_Tencode', 'HeatingQC_Tencode|RoofStyle_Tencode', 'MSSubClass|LowQualFinSF', '3SsnPorch|MoSold', 'FireplaceQu_Tencode|WoodDeckSF', 'Exterior2nd_Tencode|OverallQual', 'HalfBath|BsmtHalfBath', 'BedroomAbvGr|ExterCond_Tencode', 'FireplaceQu_Tencode|MasVnrArea', 'GrLivArea|BsmtHalfBath', 'Street_Tencode|ExterCond_Tencode', 'BsmtUnfSF|SaleType_Tencode', 'GrLivArea|LowQualFinSF', 'MiscFeature_Tencode|BsmtFullBath', 'Fireplaces|SaleCondition_Tencode', 'Neighborhood_Tencode|WoodDeckSF', 'LandSlope_Tencode|BsmtExposure_Tencode', 'BedroomAbvGr|MasVnrArea', 'MiscFeature_Tencode|KitchenQual_Tencode', 'Exterior2nd_Tencode|MasVnrArea', 'BsmtQual_Tencode|LotConfig_Tencode', 'Condition2_Tencode|GarageQual_Tencode', 'OverallQual|BsmtExposure_Tencode', 'LotShape_Tencode|Foundation_Tencode', 'MiscVal|PavedDrive_Tencode', 'MiscVal|BsmtFinType1_Tencode', 'Electrical_Tencode|HouseStyle_Tencode', 'MasVnrType_Tencode|ScreenPorch', 'WoodDeckSF', 'BsmtUnfSF|LotShape_Tencode', 'GarageCars|TotRmsAbvGrd', 'Electrical_Tencode|GarageYrBlt', 'Foundation_Tencode', 'BsmtCond_Tencode|LotArea', 'SaleCondition_Tencode|Heating_Tencode', 'LotShape_Tencode|WoodDeckSF', 'MasVnrArea|BsmtFinType1_Tencode', 'CentralAir_Tencode|Condition2_Tencode', 'HeatingQC_Tencode|ExterCond_Tencode', 'PoolArea|PavedDrive_Tencode', 'SaleCondition_Tencode|LowQualFinSF', 'TotRmsAbvGrd|Functional_Tencode', 'Foundation_Tencode|LotFrontage', 'PoolQC_Tencode|BsmtFinSF1', 'MoSold|GarageYrBlt', 'BsmtFinSF2|PoolQC_Tencode', 'GarageCars|GarageQual_Tencode', 'ExterQual_Tencode|YearBuilt', 'BsmtHalfBath|LotFrontage', 'PoolArea|KitchenAbvGr', 'ExterCond_Tencode|HouseStyle_Tencode', 'TotalBsmtSF|Condition1_Tencode', 'LandContour_Tencode|BsmtFinType1_Tencode', 'GrLivArea|TotalBsmtSF', 'PoolQC_Tencode|HouseStyle_Tencode', 'Functional_Tencode|PavedDrive_Tencode', 'EnclosedPorch', 'Functional_Tencode|GarageQual_Tencode', 'MasVnrType_Tencode|BsmtFinSF1', 'LandContour_Tencode|LotShape_Tencode', 'GarageQual_Tencode|BsmtFullBath', 'LandContour_Tencode|GarageQual_Tencode', 'ExterQual_Tencode|FullBath', '1stFlrSF|SaleType_Tencode', 'MiscFeature_Tencode|LotConfig_Tencode', 'Fireplaces|MSSubClass', '3SsnPorch|MSSubClass', 'YrSold', 'LotConfig_Tencode|GarageType_Tencode', 'GarageYrBlt|GarageType_Tencode', 'GarageCond_Tencode|BsmtExposure_Tencode', 'SaleType_Tencode|MasVnrType_Tencode', 'MiscFeature_Tencode|LowQualFinSF', '2ndFlrSF|KitchenAbvGr', 'BsmtQual_Tencode|WoodDeckSF', 'BsmtFinSF1|BsmtExposure_Tencode', 'YearBuilt|BsmtFinSF2', 'GarageArea|BsmtFinType2_Tencode', 'Heating_Tencode|Utilities_Tencode', 'RoofMatl_Tencode|LotFrontage', 'GrLivArea|Functional_Tencode', 'HalfBath|LotConfig_Tencode', 'BedroomAbvGr|GarageArea', 'GarageYrBlt|BsmtFinType2_Tencode', 'BsmtQual_Tencode|GarageFinish_Tencode', 'TotRmsAbvGrd|MSZoning_Tencode', 'OpenPorchSF|RoofStyle_Tencode', 'BldgType_Tencode|GarageCond_Tencode', 'BsmtUnfSF|TotalBsmtSF', 'BsmtHalfBath|GarageYrBlt', 'BsmtQual_Tencode|MasVnrArea', 'MoSold|BsmtFinType2_Tencode', 'TotRmsAbvGrd|LotConfig_Tencode', 'YrSold|Foundation_Tencode', 'Heating_Tencode|RoofStyle_Tencode', 'Exterior2nd_Tencode|BsmtFinSF2', 'GarageCars|Foundation_Tencode', 'BedroomAbvGr|GarageCond_Tencode', 'RoofStyle_Tencode|BsmtFinType1_Tencode', 'Exterior1st_Tencode|BsmtExposure_Tencode', 'MoSold|KitchenAbvGr', 'PoolArea|Exterior1st_Tencode', 'BsmtUnfSF|RoofStyle_Tencode', 'BedroomAbvGr|LandSlope_Tencode', 'BsmtFinSF1', 'TotRmsAbvGrd|KitchenQual_Tencode', 'LandContour_Tencode|Utilities_Tencode', 'GarageCars|LandContour_Tencode', 'HeatingQC_Tencode|GarageCond_Tencode', 'TotalBsmtSF|MasVnrArea', 'SaleCondition_Tencode|GarageYrBlt', 'YearRemodAdd|HouseStyle_Tencode', 'YearRemodAdd', 'PoolArea|BldgType_Tencode', 'CentralAir_Tencode|Heating_Tencode', 'EnclosedPorch|BsmtExposure_Tencode', 'EnclosedPorch|KitchenAbvGr', 'MoSold|Condition1_Tencode', 'HeatingQC_Tencode|YearRemodAdd', 'KitchenAbvGr', 'GarageCars|KitchenAbvGr', 'HalfBath|GarageQual_Tencode', 'Alley_Tencode|FullBath', 'Heating_Tencode|BsmtFinType1_Tencode', 'LotConfig_Tencode|PavedDrive_Tencode', 'Fence_Tencode|OverallQual', 'BsmtCond_Tencode|BsmtFullBath', 'HeatingQC_Tencode|MasVnrArea', 'Alley_Tencode|GarageType_Tencode', 'Exterior1st_Tencode|OpenPorchSF', 'LandContour_Tencode|LotConfig_Tencode', 'BedroomAbvGr|BsmtCond_Tencode', 'OpenPorchSF|GarageFinish_Tencode', 'PoolArea|Heating_Tencode', 'BsmtUnfSF|Alley_Tencode', 'GarageArea|WoodDeckSF', 'Street_Tencode|LowQualFinSF', 'TotRmsAbvGrd|LandContour_Tencode', 'Utilities_Tencode|YearRemodAdd', 'BsmtQual_Tencode|YearBuilt', 'CentralAir_Tencode|BsmtHalfBath', 'BsmtFinType1_Tencode|FullBath', 'MiscFeature_Tencode', 'CentralAir_Tencode|Alley_Tencode', 'LandContour_Tencode|ExterCond_Tencode', 'YearRemodAdd|LotFrontage', 'BsmtFinType1_Tencode|BsmtFinType2_Tencode', 'Exterior1st_Tencode|BsmtFinSF2', 'LotArea|KitchenAbvGr', 'YearRemodAdd|LowQualFinSF', 'PavedDrive_Tencode|BsmtFinType1_Tencode', 'PoolArea|3SsnPorch', 'MiscVal|LotFrontage', 'Condition2_Tencode|Condition1_Tencode', '3SsnPorch|Exterior1st_Tencode', 'BsmtQual_Tencode|1stFlrSF', 'GarageCars|OverallQual', 'YearBuilt|Utilities_Tencode', 'BsmtQual_Tencode', 'MoSold|ScreenPorch', 'Utilities_Tencode|GarageArea', 'BedroomAbvGr|TotRmsAbvGrd', 'GarageCars|YrSold', 'Functional_Tencode|BsmtFinSF2', 'Functional_Tencode|Electrical_Tencode', 'MasVnrArea|GarageArea', 'BedroomAbvGr|1stFlrSF', 'BedroomAbvGr|GarageYrBlt', 'BsmtCond_Tencode|GarageQual_Tencode', '2ndFlrSF|Functional_Tencode', 'Utilities_Tencode|OverallQual', 'YearBuilt|ExterCond_Tencode', 'GarageCars|Functional_Tencode', 'MiscVal|ExterCond_Tencode', 'SaleCondition_Tencode|KitchenAbvGr', 'BldgType_Tencode|Foundation_Tencode', 'BsmtQual_Tencode|LotArea', 'LandContour_Tencode|GarageCond_Tencode', 'BedroomAbvGr|OverallQual', 'FireplaceQu_Tencode|HalfBath', 'Condition2_Tencode|ExterCond_Tencode', 'FireplaceQu_Tencode|YrSold', 'EnclosedPorch|MasVnrType_Tencode', 'Functional_Tencode|ScreenPorch', 'HeatingQC_Tencode|BsmtExposure_Tencode', 'GarageYrBlt|WoodDeckSF', 'FireplaceQu_Tencode|Foundation_Tencode', 'BsmtQual_Tencode|LandSlope_Tencode', 'MiscFeature_Tencode|FullBath', 'RoofStyle_Tencode|OverallCond', 'MiscFeature_Tencode|Street_Tencode', 'BldgType_Tencode|Alley_Tencode', 'RoofMatl_Tencode|LowQualFinSF', 'MiscFeature_Tencode|RoofMatl_Tencode', 'HalfBath|YearRemodAdd', 'BsmtCond_Tencode|TotalBsmtSF', 'MSZoning_Tencode|Utilities_Tencode', 'MiscFeature_Tencode|Alley_Tencode', 'GarageFinish_Tencode|OverallCond', 'BsmtFinSF2|MasVnrArea', '2ndFlrSF|Condition2_Tencode', '2ndFlrSF|BsmtFullBath', 'MoSold|ExterCond_Tencode', 'TotalBsmtSF|LotShape_Tencode', 'CentralAir_Tencode|MiscVal', 'RoofMatl_Tencode|PavedDrive_Tencode', 'Fence_Tencode|Neighborhood_Tencode', 'SaleType_Tencode|Street_Tencode', 'SaleType_Tencode|GarageType_Tencode', 'BsmtCond_Tencode|Condition1_Tencode', 'GrLivArea|LotConfig_Tencode', 'Exterior2nd_Tencode|Street_Tencode', 'RoofMatl_Tencode|Fireplaces', 'FireplaceQu_Tencode|LotConfig_Tencode', 'PavedDrive_Tencode|GarageArea', 'Utilities_Tencode|MSSubClass', 'BsmtCond_Tencode|Neighborhood_Tencode', 'FireplaceQu_Tencode|Fence_Tencode', 'GarageFinish_Tencode|BsmtExposure_Tencode', 'TotRmsAbvGrd|BsmtFinType1_Tencode', 'MasVnrArea|OverallCond', 'Electrical_Tencode|GarageType_Tencode', 'Utilities_Tencode|Electrical_Tencode', 'BsmtCond_Tencode|BsmtHalfBath', 'EnclosedPorch|GarageArea', 'MiscVal|BsmtFullBath', 'RoofStyle_Tencode|HouseStyle_Tencode', 'Exterior1st_Tencode|LowQualFinSF', 'HalfBath|Neighborhood_Tencode', 'TotRmsAbvGrd|MasVnrArea', '2ndFlrSF|SaleType_Tencode', 'ScreenPorch|ExterCond_Tencode', 'BsmtHalfBath|GarageType_Tencode', 'Functional_Tencode|Condition1_Tencode', 'YrSold|GarageYrBlt', '3SsnPorch|OverallCond', 'Fireplaces|OverallCond', 'Foundation_Tencode|OverallCond', 'YrSold|ScreenPorch', 'MSSubClass|BsmtFinType2_Tencode', 'BsmtUnfSF|Utilities_Tencode', 'YearBuilt', '3SsnPorch|HouseStyle_Tencode', 'MSZoning_Tencode|BsmtFinSF1', 'GarageType_Tencode|FullBath', 'SaleCondition_Tencode|GarageType_Tencode', 'OverallQual|HalfBath', 'GrLivArea|GarageCond_Tencode', '2ndFlrSF|MSSubClass', '3SsnPorch|GarageQual_Tencode', 'TotRmsAbvGrd|BsmtFinType2_Tencode', 'PoolArea|GarageType_Tencode', 'GarageCars', 'BsmtUnfSF|MasVnrType_Tencode', '2ndFlrSF|FullBath', 'BsmtQual_Tencode|LowQualFinSF', 'MSZoning_Tencode|MSSubClass', 'MasVnrType_Tencode|BsmtFullBath', 'LotArea|BsmtExposure_Tencode', 'EnclosedPorch|FullBath', 'YrSold|LotShape_Tencode', 'GarageCars|2ndFlrSF', 'ExterQual_Tencode|PoolArea', 'FireplaceQu_Tencode|YearRemodAdd', 'MiscVal|SaleCondition_Tencode', 'LandSlope_Tencode|KitchenQual_Tencode', 'Condition2_Tencode|BsmtFullBath', 'MiscFeature_Tencode|YearRemodAdd', 'BedroomAbvGr|BsmtFinSF1', 'LotConfig_Tencode|KitchenAbvGr', 'Heating_Tencode|Electrical_Tencode', '3SsnPorch|FullBath', 'RoofMatl_Tencode|ExterQual_Tencode', 'GarageCond_Tencode|LotConfig_Tencode', 'Utilities_Tencode|PoolQC_Tencode', 'MiscFeature_Tencode|2ndFlrSF', 'Fence_Tencode|Exterior2nd_Tencode', 'Alley_Tencode|YearRemodAdd', 'GarageFinish_Tencode|Condition1_Tencode', 'GrLivArea|SaleCondition_Tencode', '2ndFlrSF|MasVnrType_Tencode', 'BsmtCond_Tencode|MasVnrType_Tencode', 'BsmtFinType2_Tencode|WoodDeckSF', 'OverallQual|ScreenPorch', 'EnclosedPorch|BsmtFinSF1', 'LandSlope_Tencode', 'BedroomAbvGr|BsmtFullBath', 'FireplaceQu_Tencode|FullBath', 'GarageCars|BsmtFinSF1', 'ExterCond_Tencode|FullBath', '1stFlrSF|Heating_Tencode', 'MSZoning_Tencode|MasVnrType_Tencode', 'BsmtHalfBath|Alley_Tencode', 'MiscVal|BedroomAbvGr', 'Exterior2nd_Tencode|PoolArea', 'FireplaceQu_Tencode|GarageType_Tencode', 'RoofMatl_Tencode|TotRmsAbvGrd', 'MiscFeature_Tencode|OpenPorchSF', 'SaleType_Tencode|Neighborhood_Tencode', 'BsmtFinSF2|MSSubClass', 'SaleCondition_Tencode|TotalBsmtSF', 'BedroomAbvGr|BsmtFinType2_Tencode', 'ExterQual_Tencode|BsmtHalfBath', 'HalfBath|Condition1_Tencode', 'BsmtHalfBath|ScreenPorch', 'Fence_Tencode|MasVnrArea', 'BsmtCond_Tencode|Electrical_Tencode', 'EnclosedPorch|BsmtFullBath', 'Exterior2nd_Tencode|GarageType_Tencode', 'Electrical_Tencode|GarageCond_Tencode', 'LandContour_Tencode|HalfBath', 'MasVnrType_Tencode|GarageArea', 'SaleType_Tencode', '1stFlrSF|GarageArea', 'MiscFeature_Tencode|MoSold', 'Fireplaces|GarageArea', '3SsnPorch|Electrical_Tencode', 'RoofStyle_Tencode|BsmtExposure_Tencode', 'BsmtQual_Tencode|BsmtExposure_Tencode', 'YearBuilt|GarageCond_Tencode', 'BsmtUnfSF|ScreenPorch', 'CentralAir_Tencode|1stFlrSF', 'MiscVal|Neighborhood_Tencode', 'LandSlope_Tencode|GarageQual_Tencode', 'LandSlope_Tencode|MoSold', 'YrSold|Utilities_Tencode', 'Fireplaces|Heating_Tencode', 'EnclosedPorch|ScreenPorch', 'Fence_Tencode|PoolArea', 'GarageArea', 'CentralAir_Tencode|LowQualFinSF', 'MiscFeature_Tencode|Fireplaces', 'CentralAir_Tencode|BsmtCond_Tencode', 'ExterQual_Tencode|PoolQC_Tencode', 'BldgType_Tencode|LowQualFinSF', 'Fence_Tencode|MSZoning_Tencode', '1stFlrSF|KitchenAbvGr', 'HalfBath|Electrical_Tencode', 'CentralAir_Tencode|BsmtExposure_Tencode', 'GarageCars|LowQualFinSF', 'BldgType_Tencode|ScreenPorch', 'LotShape_Tencode|BsmtFinSF1', 'Condition2_Tencode|MasVnrType_Tencode', 'BsmtExposure_Tencode|ExterCond_Tencode', 'CentralAir_Tencode|LotConfig_Tencode', 'KitchenAbvGr|Condition1_Tencode', 'YrSold|Alley_Tencode', 'TotRmsAbvGrd|SaleCondition_Tencode', 'GarageQual_Tencode', 'Exterior1st_Tencode|HeatingQC_Tencode', 'MSZoning_Tencode|Street_Tencode', 'FireplaceQu_Tencode|Exterior1st_Tencode', 'FireplaceQu_Tencode|PavedDrive_Tencode', 'ExterQual_Tencode|OverallQual', 'LandContour_Tencode|OverallCond', 'Street_Tencode|LotFrontage', 'BsmtUnfSF|GarageFinish_Tencode', 'SaleType_Tencode|MSSubClass', 'BsmtFinSF2|LotArea', 'BldgType_Tencode|HalfBath', 'MasVnrArea|GarageFinish_Tencode', 'ExterQual_Tencode|Condition1_Tencode', 'Heating_Tencode|LowQualFinSF', 'MoSold|LotArea', 'Utilities_Tencode|KitchenAbvGr', 'HeatingQC_Tencode|KitchenAbvGr', 'BedroomAbvGr|LowQualFinSF', '1stFlrSF|LotArea', 'TotRmsAbvGrd|HouseStyle_Tencode', 'GrLivArea|Utilities_Tencode', 'Exterior1st_Tencode|GarageCond_Tencode', 'FireplaceQu_Tencode|TotRmsAbvGrd', 'Fireplaces|GarageCond_Tencode', 'OverallQual|Alley_Tencode', 'Fireplaces|Street_Tencode', 'TotalBsmtSF|LotFrontage', 'PavedDrive_Tencode|MSSubClass', 'RoofMatl_Tencode|LandSlope_Tencode', 'MiscFeature_Tencode|HalfBath', 'Functional_Tencode', 'MiscFeature_Tencode|BedroomAbvGr', 'ScreenPorch|WoodDeckSF', 'BsmtCond_Tencode|BsmtFinType1_Tencode', 'LandContour_Tencode|GarageArea', 'FireplaceQu_Tencode|LandContour_Tencode', 'CentralAir_Tencode|BsmtFinSF1', 'BedroomAbvGr|PoolQC_Tencode', 'MSZoning_Tencode|Neighborhood_Tencode', 'PoolQC_Tencode|Neighborhood_Tencode', 'Fireplaces|BsmtFinType2_Tencode', 'GarageCars|TotalBsmtSF', 'OverallQual|HeatingQC_Tencode', 'BldgType_Tencode|LotFrontage', 'PoolQC_Tencode|LotShape_Tencode', '1stFlrSF|BsmtExposure_Tencode', 'CentralAir_Tencode|Condition1_Tencode', 'BsmtFinSF2|OverallCond', 'LotShape_Tencode|ExterCond_Tencode', 'Fireplaces|Functional_Tencode', 'LandContour_Tencode|KitchenQual_Tencode', 'TotRmsAbvGrd|YearRemodAdd', 'YrSold|LowQualFinSF', 'GarageQual_Tencode|Foundation_Tencode', 'BsmtExposure_Tencode|Condition1_Tencode', '1stFlrSF|ExterCond_Tencode', 'KitchenAbvGr|HouseStyle_Tencode', 'BsmtCond_Tencode|Functional_Tencode', 'RoofStyle_Tencode|YearRemodAdd', 'ExterQual_Tencode|Street_Tencode', 'Condition2_Tencode|KitchenAbvGr', 'OverallQual|BsmtFinType2_Tencode', 'SaleCondition_Tencode|MasVnrType_Tencode', 'YearBuilt|BsmtFinType1_Tencode', 'MSZoning_Tencode|KitchenAbvGr', 'TotRmsAbvGrd|BsmtFinSF1', 'Electrical_Tencode', 'Fence_Tencode|Foundation_Tencode', 'GarageCond_Tencode|MasVnrType_Tencode', 'BsmtCond_Tencode|GarageType_Tencode', 'FireplaceQu_Tencode|KitchenQual_Tencode', 'BsmtQual_Tencode|Neighborhood_Tencode', 'TotRmsAbvGrd|Condition1_Tencode', 'YearBuilt|PavedDrive_Tencode', 'CentralAir_Tencode|GarageYrBlt', 'Functional_Tencode|BsmtHalfBath', 'BedroomAbvGr|YearBuilt', 'YrSold|2ndFlrSF', 'Neighborhood_Tencode|GarageYrBlt', 'Utilities_Tencode|RoofStyle_Tencode', 'GarageType_Tencode|BsmtFinType1_Tencode', 'SaleCondition_Tencode|HalfBath', 'Heating_Tencode|LotConfig_Tencode', 'ExterCond_Tencode|WoodDeckSF', 'GrLivArea|1stFlrSF', 'MiscFeature_Tencode|Electrical_Tencode', 'MiscVal|PoolQC_Tencode', 'Functional_Tencode|GarageArea', 'Alley_Tencode|KitchenAbvGr', 'BedroomAbvGr|Condition2_Tencode', 'LandSlope_Tencode|BsmtFullBath', 'GarageYrBlt|Street_Tencode', '2ndFlrSF|SaleCondition_Tencode', 'GarageCars|HeatingQC_Tencode', 'BsmtFinSF2|MoSold', 'Exterior1st_Tencode|GarageYrBlt', '3SsnPorch|WoodDeckSF', 'BldgType_Tencode|SaleType_Tencode', 'LotShape_Tencode|MasVnrArea', 'PoolArea|SaleCondition_Tencode', 'BldgType_Tencode|OverallCond', 'PavedDrive_Tencode|Neighborhood_Tencode', 'BsmtQual_Tencode|BsmtFinType1_Tencode', 'CentralAir_Tencode|YrSold', 'Functional_Tencode|MoSold', 'Functional_Tencode|Neighborhood_Tencode', 'Electrical_Tencode|LowQualFinSF', 'MasVnrArea|GarageQual_Tencode', 'BedroomAbvGr|MoSold', 'Electrical_Tencode|MasVnrArea', 'YearBuilt|BsmtFinType2_Tencode', 'YearBuilt|MasVnrArea', 'MasVnrArea|GarageYrBlt', 'GarageFinish_Tencode|ExterCond_Tencode', 'BldgType_Tencode|RoofStyle_Tencode', 'Alley_Tencode|GarageFinish_Tencode', 'BsmtExposure_Tencode|BsmtFullBath', 'FireplaceQu_Tencode|BsmtUnfSF', '3SsnPorch|HeatingQC_Tencode', 'MiscFeature_Tencode|BldgType_Tencode', 'Heating_Tencode|LotShape_Tencode', 'BedroomAbvGr', 'SaleType_Tencode|ScreenPorch', 'ExterCond_Tencode|LotFrontage', 'EnclosedPorch|MSSubClass', '3SsnPorch|BsmtFullBath', 'Exterior1st_Tencode|MasVnrType_Tencode', 'HalfBath|GarageYrBlt', 'HeatingQC_Tencode|ScreenPorch', 'Exterior1st_Tencode|LandContour_Tencode', 'RoofMatl_Tencode|BsmtExposure_Tencode', '2ndFlrSF|HalfBath', 'Exterior2nd_Tencode|LowQualFinSF', 'MiscVal|Foundation_Tencode', 'RoofMatl_Tencode|LotConfig_Tencode', 'Fence_Tencode|Fireplaces', 'OpenPorchSF|LotShape_Tencode', 'MSZoning_Tencode|Alley_Tencode', 'MiscFeature_Tencode|BsmtFinSF1', 'TotRmsAbvGrd|RoofStyle_Tencode', 'SaleCondition_Tencode|Utilities_Tencode', 'BsmtFinSF1|LowQualFinSF', 'YearRemodAdd|FullBath', 'BsmtFinSF2|YearRemodAdd', 'SaleType_Tencode|PavedDrive_Tencode', 'GarageType_Tencode|Street_Tencode', 'SaleCondition_Tencode|BsmtFinType1_Tencode', 'Fireplaces|LandContour_Tencode', 'Fence_Tencode|ExterQual_Tencode', 'MiscVal|Alley_Tencode', 'BedroomAbvGr|TotalBsmtSF', 'BsmtFinType2_Tencode|KitchenAbvGr', 'Exterior2nd_Tencode|Foundation_Tencode', 'MSZoning_Tencode|Condition2_Tencode', 'RoofMatl_Tencode|BldgType_Tencode', 'RoofStyle_Tencode|LotConfig_Tencode', 'BsmtQual_Tencode|MoSold', 'MiscVal|RoofMatl_Tencode', 'LotArea|GarageFinish_Tencode', 'OverallQual|KitchenQual_Tencode', 'BsmtUnfSF|MSZoning_Tencode', 'BsmtHalfBath|Neighborhood_Tencode', 'OverallQual|Condition1_Tencode', 'Fireplaces|PoolArea', 'GarageArea|GarageType_Tencode', 'Neighborhood_Tencode|GarageQual_Tencode', 'ScreenPorch|Street_Tencode', 'Fence_Tencode|Electrical_Tencode', '2ndFlrSF|LotFrontage', 'MasVnrType_Tencode|GarageFinish_Tencode', 'RoofMatl_Tencode|BsmtUnfSF', 'FireplaceQu_Tencode|SaleType_Tencode', 'Fireplaces|OpenPorchSF', 'ExterQual_Tencode|MoSold', 'YrSold|Exterior1st_Tencode', 'TotalBsmtSF|GarageArea', 'OpenPorchSF|BsmtFinSF1', 'BsmtFinSF1|MSSubClass', 'BsmtUnfSF|KitchenQual_Tencode', 'RoofStyle_Tencode|FullBath', 'Exterior2nd_Tencode|OpenPorchSF', 'BsmtCond_Tencode|1stFlrSF', 'SaleCondition_Tencode|MasVnrArea', 'KitchenAbvGr|FullBath', 'Condition2_Tencode|BsmtFinType2_Tencode', 'Fireplaces|BsmtFinSF1', 'Fence_Tencode|SaleCondition_Tencode', 'ExterCond_Tencode', 'YrSold|1stFlrSF', 'SaleType_Tencode|BsmtFinSF1', 'LandContour_Tencode|Condition2_Tencode', 'MSZoning_Tencode|ScreenPorch', 'Fence_Tencode|2ndFlrSF', 'GarageCars|KitchenQual_Tencode', 'TotalBsmtSF|FullBath', 'YrSold|ExterCond_Tencode', 'MiscFeature_Tencode|YearBuilt', 'FireplaceQu_Tencode|MSSubClass', 'GrLivArea|OverallCond', 'MiscFeature_Tencode|ExterQual_Tencode', 'RoofStyle_Tencode|Foundation_Tencode', 'FireplaceQu_Tencode|LowQualFinSF', 'MiscVal|ScreenPorch', 'HeatingQC_Tencode|BsmtFinSF1', 'BsmtFinType2_Tencode|BsmtExposure_Tencode', 'BsmtCond_Tencode|YearBuilt', 'PavedDrive_Tencode|HouseStyle_Tencode', 'Electrical_Tencode|Neighborhood_Tencode', 'ScreenPorch|FullBath', 'BsmtFinSF1|KitchenQual_Tencode', 'Alley_Tencode|GarageArea', 'GarageFinish_Tencode|GarageQual_Tencode', 'EnclosedPorch|RoofStyle_Tencode', 'TotalBsmtSF|1stFlrSF', 'KitchenQual_Tencode|BsmtFinType1_Tencode', '2ndFlrSF|LotShape_Tencode', 'MiscVal|MoSold', 'OverallQual|Electrical_Tencode', 'BedroomAbvGr|BldgType_Tencode', 'RoofMatl_Tencode', 'OverallQual|PavedDrive_Tencode', 'SaleCondition_Tencode|SaleType_Tencode', 'BedroomAbvGr|LotShape_Tencode', 'FireplaceQu_Tencode|OpenPorchSF', 'ExterQual_Tencode|Heating_Tencode', 'Neighborhood_Tencode|BsmtFinType1_Tencode', 'LandSlope_Tencode|PoolQC_Tencode', 'Functional_Tencode|Foundation_Tencode', 'EnclosedPorch|Foundation_Tencode', 'GarageYrBlt|Foundation_Tencode', 'TotRmsAbvGrd|PavedDrive_Tencode', 'HalfBath|Foundation_Tencode', 'YearRemodAdd|MSSubClass', 'BsmtFinType1_Tencode|KitchenAbvGr', 'Heating_Tencode|KitchenAbvGr', '2ndFlrSF|BsmtFinType1_Tencode', 'BsmtQual_Tencode|SaleCondition_Tencode', 'Exterior1st_Tencode|LotFrontage', 'ExterQual_Tencode|BsmtExposure_Tencode', 'YrSold|GarageQual_Tencode', 'LotConfig_Tencode|GarageArea', 'RoofStyle_Tencode|MSSubClass', 'Fireplaces|TotalBsmtSF', 'YearBuilt|GarageArea', 'Electrical_Tencode|BsmtFinSF1', 'YrSold|SaleType_Tencode', 'BsmtQual_Tencode|KitchenQual_Tencode', 'LotArea|Street_Tencode', 'BedroomAbvGr|BsmtQual_Tencode', 'PoolArea', 'LotConfig_Tencode|MasVnrArea', 'GrLivArea|KitchenAbvGr', 'BsmtQual_Tencode|FullBath', 'Fence_Tencode|PoolQC_Tencode', 'BldgType_Tencode|ExterCond_Tencode', 'Alley_Tencode|HouseStyle_Tencode', 'MiscFeature_Tencode|EnclosedPorch', 'BsmtFinSF2|Alley_Tencode', 'Exterior1st_Tencode|Utilities_Tencode', 'OpenPorchSF|KitchenQual_Tencode', 'Heating_Tencode|GarageYrBlt', '2ndFlrSF|PoolArea', 'FireplaceQu_Tencode|BsmtQual_Tencode', 'RoofMatl_Tencode|LandContour_Tencode', 'MasVnrType_Tencode|LotArea', 'WoodDeckSF|Foundation_Tencode', 'BsmtHalfBath|RoofStyle_Tencode', 'Fence_Tencode|MasVnrType_Tencode', 'YearRemodAdd|KitchenAbvGr', 'Utilities_Tencode|MoSold', 'LandSlope_Tencode|HeatingQC_Tencode', 'Neighborhood_Tencode|BsmtExposure_Tencode', 'PoolArea|BsmtFinSF1', 'Functional_Tencode|GarageFinish_Tencode', 'YearBuilt|Electrical_Tencode', '3SsnPorch|Neighborhood_Tencode', 'Functional_Tencode|BsmtFinType1_Tencode', 'KitchenQual_Tencode|BsmtFullBath', 'Exterior2nd_Tencode|Electrical_Tencode', 'LandSlope_Tencode|Neighborhood_Tencode', '3SsnPorch|BsmtHalfBath', 'FireplaceQu_Tencode|1stFlrSF', 'HeatingQC_Tencode|PavedDrive_Tencode', 'PoolArea|GarageArea', 'CentralAir_Tencode|KitchenQual_Tencode', 'FireplaceQu_Tencode|GrLivArea', 'CentralAir_Tencode|BsmtFullBath', 'GarageCars|BsmtQual_Tencode', 'MSZoning_Tencode|SaleCondition_Tencode', 'RoofStyle_Tencode|Condition1_Tencode', 'LandContour_Tencode|Neighborhood_Tencode', 'BsmtQual_Tencode|MSZoning_Tencode', 'MSZoning_Tencode|Foundation_Tencode', 'YrSold|HouseStyle_Tencode', 'BsmtCond_Tencode|SaleType_Tencode', 'TotRmsAbvGrd|Condition2_Tencode', 'OpenPorchSF|MSSubClass', 'Fence_Tencode|YearRemodAdd', 'Fireplaces|BsmtFinSF2', 'BsmtUnfSF|KitchenAbvGr', 'BsmtFinType2_Tencode|LotFrontage', 'Street_Tencode|FullBath', 'Fence_Tencode|HouseStyle_Tencode']"
     ]
    },
    {
     "name": "stdout",
     "output_type": "stream",
     "text": [
      "\n",
      "\n",
      "Categorical = ['LotShape', 'Exterior2nd', 'Functional', 'BsmtCond', 'PoolQC', 'KitchenQual', 'Electrical', 'BldgType', 'MasVnrType', 'GarageCond', 'Foundation', 'Utilities', 'GarageType', 'CentralAir', 'FireplaceQu', 'GarageFinish', 'Condition2', 'RoofStyle', 'RoofMatl', 'SaleCondition', 'LotConfig', 'GarageQual', 'Exterior1st', 'LandContour', 'BsmtFinType2', 'Condition1', 'Neighborhood', 'BsmtQual', 'ExterQual', 'Street', 'SaleType', 'MSZoning', 'BsmtFinType1', 'Fence', 'Heating', 'LandSlope', 'ExterCond', 'HeatingQC', 'MiscFeature', 'PavedDrive', 'BsmtExposure', 'Alley', 'HouseStyle']\n"
     ]
    }
   ],
   "source": [
    "encoded_combined_nums, cats = get_type_lists(frame=train)"
   ]
  },
  {
   "cell_type": "code",
   "execution_count": 16,
   "metadata": {},
   "outputs": [
    {
     "name": "stdout",
     "output_type": "stream",
     "text": [
      "True\n",
      "True\n"
     ]
    }
   ],
   "source": [
    "# check number of created variables is correct\n",
    "# 1 id column, 1 target column, 79 original + encoded numeric columns, 43 original categorical variables\n",
    "# sum(range(1, 79)) combined variables\n",
    "print(train.shape == (1001, sum(range(1, 79), (79 + 43 + 1 + 1))))\n",
    "print(test.shape == (1459, sum(range(1, 79), (79 + 43 + 1 + 1))))"
   ]
  },
  {
   "cell_type": "code",
   "execution_count": 17,
   "metadata": {},
   "outputs": [
    {
     "data": {
      "text/html": [
       "<table>\n",
       "<thead>\n",
       "<tr><th style=\"text-align: right;\">  Fence_Tencode</th><th style=\"text-align: right;\">  2ndFlrSF</th><th style=\"text-align: right;\">  Fence_Tencode|2ndFlrSF</th></tr>\n",
       "</thead>\n",
       "<tbody>\n",
       "<tr><td style=\"text-align: right;\">         182172</td><td style=\"text-align: right;\">       895</td><td style=\"text-align: right;\">             1.63044e+08</td></tr>\n",
       "</tbody>\n",
       "</table>"
      ]
     },
     "metadata": {},
     "output_type": "display_data"
    },
    {
     "name": "stdout",
     "output_type": "stream",
     "text": [
      "\n"
     ]
    },
    {
     "data": {
      "text/html": [
       "<table>\n",
       "<thead>\n",
       "<tr><th style=\"text-align: right;\">  Fence_Tencode</th><th style=\"text-align: right;\">  2ndFlrSF</th><th style=\"text-align: right;\">  Fence_Tencode|2ndFlrSF</th></tr>\n",
       "</thead>\n",
       "<tbody>\n",
       "<tr><td style=\"text-align: right;\">         178193</td><td style=\"text-align: right;\">       595</td><td style=\"text-align: right;\">             1.06025e+08</td></tr>\n",
       "</tbody>\n",
       "</table>"
      ]
     },
     "metadata": {},
     "output_type": "display_data"
    },
    {
     "name": "stdout",
     "output_type": "stream",
     "text": [
      "\n",
      "163043903.34165838\n",
      "106025130.55555554\n"
     ]
    }
   ],
   "source": [
    "# check multiplication for a random column\n",
    "ridx = np.random.choice(sum(range(1, 79)))\n",
    "combined_only = [name for name in encoded_combined_nums if name not in encoded_nums]\n",
    "combined_check_vars = combined_only[ridx].split('|')\n",
    "combined_check_vars.append(combined_only[ridx])\n",
    "\n",
    "print(train[736, combined_check_vars])\n",
    "print(test[637, combined_check_vars])\n",
    "\n",
    "print(train[736, combined_check_vars[0]]*train[736, combined_check_vars[1]])\n",
    "print(test[637, combined_check_vars[0]]*test[637, combined_check_vars[1]])"
   ]
  },
  {
   "cell_type": "code",
   "execution_count": 18,
   "metadata": {
    "collapsed": true
   },
   "outputs": [],
   "source": [
    "h2o.show_progress()                                          # turn on progress bars\n",
    "from h2o.estimators.glm import H2OGeneralizedLinearEstimator # import GLM models\n",
    "from h2o.grid.grid_search import H2OGridSearch               # grid search"
   ]
  },
  {
   "cell_type": "code",
   "execution_count": 19,
   "metadata": {},
   "outputs": [
    {
     "data": {
      "text/html": [
       "<table>\n",
       "<thead>\n",
       "<tr><th style=\"text-align: right;\">  SalePrice</th></tr>\n",
       "</thead>\n",
       "<tbody>\n",
       "<tr><td style=\"text-align: right;\">    12.2477</td></tr>\n",
       "<tr><td style=\"text-align: right;\">    12.109 </td></tr>\n",
       "<tr><td style=\"text-align: right;\">    12.3172</td></tr>\n",
       "</tbody>\n",
       "</table>"
      ]
     },
     "metadata": {},
     "output_type": "display_data"
    },
    {
     "name": "stdout",
     "output_type": "stream",
     "text": [
      "\n"
     ]
    },
    {
     "data": {
      "image/png": "[encoded data removed]",
      "text/plain": [
       "<matplotlib.figure.Figure at 0x7fb4b546ae10>"
      ]
     },
     "metadata": {},
     "output_type": "display_data"
    }
   ],
   "source": [
    "# Check log transform - looks good\n",
    "%matplotlib inline\n",
    "train['SalePrice'].log().as_data_frame().hist()\n",
    "\n",
    "# Execute log transform\n",
    "train['SalePrice'] = train['SalePrice'].log()\n",
    "valid['SalePrice'] = valid['SalePrice'].log()\n",
    "print(train[0:3, 'SalePrice'])"
   ]
  },
  {
   "cell_type": "code",
   "execution_count": 20,
   "metadata": {},
   "outputs": [
    {
     "name": "stdout",
     "output_type": "stream",
     "text": [
      "(504, 3205)\n",
      "(230, 3205)\n",
      "(497, 3205)\n",
      "(229, 3205)\n"
     ]
    }
   ],
   "source": [
    "half_train, other_half_train = train.split_frame([0.5], seed=12345)\n",
    "half_valid, other_half_valid = valid.split_frame([0.5], seed=12345)\n",
    "print(half_train.shape)\n",
    "print(half_valid.shape)\n",
    "print(other_half_train.shape)\n",
    "print(other_half_valid.shape)\n",
    "# no idea why this works better, but it does ... \n",
    "# could be a lucky split that happens to be more representative of test data\n",
    "# could be that it just prevents overfitting"
   ]
  },
  {
   "cell_type": "code",
   "execution_count": 23,
   "metadata": {
    "collapsed": true
   },
   "outputs": [],
   "source": [
    "def glm_grid(X, y, train, valid):\n",
    "    \n",
    "    \"\"\" Wrapper function for penalized GLM with alpha and lambda search.\n",
    "    \n",
    "    :param X: List of inputs.\n",
    "    :param y: Name of target variable.\n",
    "    :param train: Name of training H2OFrame.\n",
    "    :param valid: Name of validation H2OFrame.\n",
    "    :return: Best H2Omodel from H2OGeneralizedLinearEstimator\n",
    "\n",
    "    \"\"\"\n",
    "    \n",
    "    alpha_opts = [0.01, 0.25, 0.5, 0.99] # always keep some L2\n",
    "    hyper_parameters = {\"alpha\":alpha_opts}\n",
    "\n",
    "    # initialize grid search\n",
    "    grid = H2OGridSearch(\n",
    "        H2OGeneralizedLinearEstimator(\n",
    "            family=\"gaussian\",\n",
    "            lambda_search=True,\n",
    "            seed=12345),\n",
    "        hyper_params=hyper_parameters)\n",
    "    \n",
    "    # train grid\n",
    "    grid.train(y=y,\n",
    "               x=X, \n",
    "               training_frame=train,\n",
    "               validation_frame=valid)\n",
    "\n",
    "    # show grid search results\n",
    "    print(grid.show())\n",
    "\n",
    "    best = grid.get_grid()[0]\n",
    "    print(best)\n",
    "    \n",
    "    # plot top frame values\n",
    "    yhat_frame = valid.cbind(best.predict(valid))\n",
    "    print(yhat_frame[0:10, [y, 'predict']])\n",
    "\n",
    "    # plot sorted predictions\n",
    "    yhat_frame_df = yhat_frame[[y, 'predict']].as_data_frame()\n",
    "    yhat_frame_df.sort_values(by='predict', inplace=True)\n",
    "    yhat_frame_df.reset_index(inplace=True, drop=True)\n",
    "    _ = yhat_frame_df.plot(title='Ranked Predictions Plot')\n",
    "    \n",
    "    # select best model\n",
    "    return best"
   ]
  },
  {
   "cell_type": "code",
   "execution_count": 27,
   "metadata": {
    "collapsed": true
   },
   "outputs": [],
   "source": [
    "import re\n",
    "import time\n",
    "\n",
    "def gen_submission(model, test=test):\n",
    "\n",
    "    \"\"\" Generates submission file for Kaggle House Prices contest.\n",
    "    \n",
    "    :param model: Model with which to score test data.\n",
    "    :param test: Test data.\n",
    "    \n",
    "    \"\"\"\n",
    "    \n",
    "    # create time stamp\n",
    "    time_stamp = re.sub('[: ]', '_', time.asctime())\n",
    "\n",
    "    # create predictions column\n",
    "    sub = test['Id'].cbind(model.predict(test).exp())\n",
    "    sub.columns = ['Id', 'SalePrice']\n",
    "    \n",
    "    # save file for submission\n",
    "    sub_fname = '/home/youdan/Documents/ML_House price/submission_' + str(time_stamp) + '.csv'\n",
    "    h2o.download_csv(sub, sub_fname)"
   ]
  },
  {
   "cell_type": "code",
   "execution_count": 28,
   "metadata": {
    "collapsed": true
   },
   "outputs": [],
   "source": [
    "import os\n",
    "\n",
    "def pred_blender(dir_, files):\n",
    "    \n",
    "    \"\"\" Performs simple blending of prediction files. \n",
    "    \n",
    "    :param dir_: Directory in which files to be read are stored.\n",
    "    :param files: List of prediction files to be blended.\n",
    "    \n",
    "    \"\"\"\n",
    "    \n",
    "    # read predictions in files list and cbind\n",
    "    for i, file in enumerate(files):\n",
    "        if i == 0:\n",
    "            df = pd.read_csv(dir_ + os.sep + file).drop('SalePrice', axis=1)\n",
    "        col = pd.read_csv(dir_ + os.sep + file).drop('Id', axis=1)\n",
    "        col.columns = ['SalePrice' + str(i)]\n",
    "        df = pd.concat([df, col], axis=1)\n",
    "        \n",
    "    # create mean prediction    \n",
    "    df['mean'] = df.iloc[:, 1:].mean(axis=1)\n",
    "    print(df.head())\n",
    "        \n",
    "    # create time stamp\n",
    "    time_stamp = re.sub('[: ]', '_', time.asctime())        \n",
    "        \n",
    "    # write new submission file    \n",
    "    df = df[['Id', 'mean']]\n",
    "    df.columns = ['Id', 'SalePrice']\n",
    "    \n",
    "    # save file for submission\n",
    "    sub_fname = '/home/youdan/Documents/ML_House price/submission_' + str(time_stamp) + '.csv'\n",
    "    df.to_csv(sub_fname, index=False)"
   ]
  },
  {
   "cell_type": "code",
   "execution_count": 29,
   "metadata": {},
   "outputs": [
    {
     "name": "stdout",
     "output_type": "stream",
     "text": [
      "glm Grid Build progress: |████████████████████████████████████████████████| 100%\n",
      "      alpha                                                      model_ids  \\\n",
      "0    [0.99]  Grid_GLM_py_288_sid_9558_model_python_1498169729571_2_model_3   \n",
      "1     [0.5]  Grid_GLM_py_288_sid_9558_model_python_1498169729571_2_model_2   \n",
      "2    [0.25]  Grid_GLM_py_288_sid_9558_model_python_1498169729571_2_model_1   \n",
      "3    [0.01]  Grid_GLM_py_288_sid_9558_model_python_1498169729571_2_model_0   \n",
      "\n",
      "   residual_deviance  \n",
      "0  4.025940991543425  \n",
      "1  4.037235202840872  \n",
      "2  4.058507339499793  \n",
      "3  4.491994155264091  \n",
      "None\n",
      "Model Details\n",
      "=============\n",
      "H2OGeneralizedLinearEstimator :  Generalized Linear Modeling\n",
      "Model Key:  Grid_GLM_py_288_sid_9558_model_python_1498169729571_2_model_3\n",
      "\n",
      "\n",
      "ModelMetricsRegressionGLM: glm\n",
      "** Reported on train data. **\n",
      "\n",
      "MSE: 0.02156440483938825\n",
      "RMSE: 0.14684823744052308\n",
      "MAE: 0.09686367637083071\n",
      "RMSLE: 0.01136422834169376\n",
      "R^2: 0.8623195698871438\n",
      "Mean Residual Deviance: 0.02156440483938825\n",
      "Null degrees of freedom: 503\n",
      "Residual degrees of freedom: 479\n",
      "Null deviance: 78.93975948609085\n",
      "Residual deviance: 10.868460039051678\n",
      "AIC: -451.41242737800656\n",
      "\n",
      "ModelMetricsRegressionGLM: glm\n",
      "** Reported on validation data. **\n",
      "\n",
      "MSE: 0.01750409126758011\n",
      "RMSE: 0.13230302818749126\n",
      "MAE: 0.09463802529252496\n",
      "RMSLE: 0.010248815547846188\n",
      "R^2: 0.882049320422833\n",
      "Mean Residual Deviance: 0.01750409126758011\n",
      "Null degrees of freedom: 229\n",
      "Residual degrees of freedom: 205\n",
      "Null deviance: 34.66875782373327\n",
      "Residual deviance: 4.025940991543425\n",
      "AIC: -225.71202161711278\n",
      "Scoring History: \n"
     ]
    },
    {
     "data": {
      "text/html": [
       "<div style=\"overflow:auto\"><table style=\"width:50%\"><tr><td><b></b></td>\n",
       "<td><b>timestamp</b></td>\n",
       "<td><b>duration</b></td>\n",
       "<td><b>iteration</b></td>\n",
       "<td><b>lambda</b></td>\n",
       "<td><b>predictors</b></td>\n",
       "<td><b>deviance_train</b></td>\n",
       "<td><b>deviance_test</b></td></tr>\n",
       "<tr><td></td>\n",
       "<td>2017-06-22 15:35:30</td>\n",
       "<td> 0.000 sec</td>\n",
       "<td>0</td>\n",
       "<td>.31E0</td>\n",
       "<td>2</td>\n",
       "<td>0.1472858</td>\n",
       "<td>0.1420261</td></tr>\n",
       "<tr><td></td>\n",
       "<td>2017-06-22 15:35:30</td>\n",
       "<td> 0.001 sec</td>\n",
       "<td>0</td>\n",
       "<td>.3E0</td>\n",
       "<td>2</td>\n",
       "<td>0.1387711</td>\n",
       "<td>0.1340858</td></tr>\n",
       "<tr><td></td>\n",
       "<td>2017-06-22 15:35:30</td>\n",
       "<td> 0.003 sec</td>\n",
       "<td>0</td>\n",
       "<td>.29E0</td>\n",
       "<td>2</td>\n",
       "<td>0.1310096</td>\n",
       "<td>0.1268453</td></tr>\n",
       "<tr><td></td>\n",
       "<td>2017-06-22 15:35:30</td>\n",
       "<td> 0.006 sec</td>\n",
       "<td>0</td>\n",
       "<td>.27E0</td>\n",
       "<td>2</td>\n",
       "<td>0.1239348</td>\n",
       "<td>0.1202429</td></tr>\n",
       "<tr><td></td>\n",
       "<td>2017-06-22 15:35:30</td>\n",
       "<td> 0.009 sec</td>\n",
       "<td>0</td>\n",
       "<td>.26E0</td>\n",
       "<td>2</td>\n",
       "<td>0.1174861</td>\n",
       "<td>0.1142224</td></tr>\n",
       "<tr><td>---</td>\n",
       "<td>---</td>\n",
       "<td>---</td>\n",
       "<td>---</td>\n",
       "<td>---</td>\n",
       "<td>---</td>\n",
       "<td>---</td>\n",
       "<td>---</td></tr>\n",
       "<tr><td></td>\n",
       "<td>2017-06-22 15:35:31</td>\n",
       "<td> 0.695 sec</td>\n",
       "<td>0</td>\n",
       "<td>.39E-2</td>\n",
       "<td>28</td>\n",
       "<td>0.0211140</td>\n",
       "<td>0.0177064</td></tr>\n",
       "<tr><td></td>\n",
       "<td>2017-06-22 15:35:31</td>\n",
       "<td> 0.698 sec</td>\n",
       "<td>0</td>\n",
       "<td>.38E-2</td>\n",
       "<td>29</td>\n",
       "<td>0.0210799</td>\n",
       "<td>0.0177301</td></tr>\n",
       "<tr><td></td>\n",
       "<td>2017-06-22 15:35:31</td>\n",
       "<td> 0.700 sec</td>\n",
       "<td>0</td>\n",
       "<td>.36E-2</td>\n",
       "<td>30</td>\n",
       "<td>0.0210495</td>\n",
       "<td>0.0177502</td></tr>\n",
       "<tr><td></td>\n",
       "<td>2017-06-22 15:35:31</td>\n",
       "<td> 0.712 sec</td>\n",
       "<td>0</td>\n",
       "<td>.34E-2</td>\n",
       "<td>30</td>\n",
       "<td>0.0210200</td>\n",
       "<td>0.0177665</td></tr>\n",
       "<tr><td></td>\n",
       "<td>2017-06-22 15:35:31</td>\n",
       "<td> 0.715 sec</td>\n",
       "<td>0</td>\n",
       "<td>.33E-2</td>\n",
       "<td>31</td>\n",
       "<td>0.0209917</td>\n",
       "<td>0.0177857</td></tr></table></div>"
      ],
      "text/plain": [
       "     timestamp            duration    iteration    lambda    predictors    deviance_train        deviance_test\n",
       "---  -------------------  ----------  -----------  --------  ------------  --------------------  --------------------\n",
       "     2017-06-22 15:35:30  0.000 sec   0            .31E0     2             0.14728575501451108   0.1420260820776464\n",
       "     2017-06-22 15:35:30  0.001 sec   0            .3E0      2             0.1387710942020469    0.13408581289830784\n",
       "     2017-06-22 15:35:30  0.003 sec   0            .29E0     2             0.13100962039635985   0.12684530753516482\n",
       "     2017-06-22 15:35:30  0.006 sec   0            .27E0     2             0.12393484198349013   0.12024290891193028\n",
       "     2017-06-22 15:35:30  0.009 sec   0            .26E0     2             0.1174861199065379    0.1142223816300643\n",
       "---  ---                  ---         ---          ---       ---           ---                   ---\n",
       "     2017-06-22 15:35:31  0.695 sec   0            .39E-2    28            0.02111396520760738   0.017706411532192413\n",
       "     2017-06-22 15:35:31  0.698 sec   0            .38E-2    29            0.021079919242043933  0.017730128697301496\n",
       "     2017-06-22 15:35:31  0.700 sec   0            .36E-2    30            0.021049518039627214  0.01775021768911363\n",
       "     2017-06-22 15:35:31  0.712 sec   0            .34E-2    30            0.021019993314742653  0.017766522628043624\n",
       "     2017-06-22 15:35:31  0.715 sec   0            .33E-2    31            0.02099172105983367   0.017785698362599748"
      ]
     },
     "metadata": {},
     "output_type": "display_data"
    },
    {
     "name": "stdout",
     "output_type": "stream",
     "text": [
      "\n",
      "See the whole table with table.as_data_frame()\n",
      "\n",
      "glm prediction progress: |████████████████████████████████████████████████| 100%\n"
     ]
    },
    {
     "data": {
      "text/html": [
       "<table>\n",
       "<thead>\n",
       "<tr><th style=\"text-align: right;\">  SalePrice</th><th style=\"text-align: right;\">  predict</th></tr>\n",
       "</thead>\n",
       "<tbody>\n",
       "<tr><td style=\"text-align: right;\">    11.8494</td><td style=\"text-align: right;\">  11.9833</td></tr>\n",
       "<tr><td style=\"text-align: right;\">    12.2061</td><td style=\"text-align: right;\">  12.3454</td></tr>\n",
       "<tr><td style=\"text-align: right;\">    11.6784</td><td style=\"text-align: right;\">  11.6651</td></tr>\n",
       "<tr><td style=\"text-align: right;\">    11.914 </td><td style=\"text-align: right;\">  11.8164</td></tr>\n",
       "<tr><td style=\"text-align: right;\">    12.6758</td><td style=\"text-align: right;\">  12.4798</td></tr>\n",
       "<tr><td style=\"text-align: right;\">    12.861 </td><td style=\"text-align: right;\">  12.7562</td></tr>\n",
       "<tr><td style=\"text-align: right;\">    12.1035</td><td style=\"text-align: right;\">  12.0074</td></tr>\n",
       "<tr><td style=\"text-align: right;\">    11.2898</td><td style=\"text-align: right;\">  11.3823</td></tr>\n",
       "<tr><td style=\"text-align: right;\">    11.7714</td><td style=\"text-align: right;\">  11.7068</td></tr>\n",
       "<tr><td style=\"text-align: right;\">    11.5843</td><td style=\"text-align: right;\">  11.4633</td></tr>\n",
       "</tbody>\n",
       "</table>"
      ]
     },
     "metadata": {},
     "output_type": "display_data"
    },
    {
     "name": "stdout",
     "output_type": "stream",
     "text": [
      "\n",
      "glm prediction progress: |████████████████████████████████████████████████| 100%\n"
     ]
    },
    {
     "data": {
      "image/png": "[encoded data removed]",
      "text/plain": [
       "<matplotlib.figure.Figure at 0x7fb4ae39d160>"
      ]
     },
     "metadata": {},
     "output_type": "display_data"
    }
   ],
   "source": [
    "glm0_0 = glm_grid(original_nums, 'SalePrice', half_train, half_valid)\n",
    "gen_submission(glm0_0) # Valid RMSE: ~0.1323, ~0.1445 on public leaderboard"
   ]
  },
  {
   "cell_type": "code",
   "execution_count": 30,
   "metadata": {},
   "outputs": [
    {
     "name": "stdout",
     "output_type": "stream",
     "text": [
      "glm Grid Build progress: |████████████████████████████████████████████████| 100%\n",
      "      alpha                                                      model_ids  \\\n",
      "0    [0.99]  Grid_GLM_py_290_sid_9558_model_python_1498169729571_3_model_3   \n",
      "1     [0.5]  Grid_GLM_py_290_sid_9558_model_python_1498169729571_3_model_2   \n",
      "2    [0.25]  Grid_GLM_py_290_sid_9558_model_python_1498169729571_3_model_1   \n",
      "3    [0.01]  Grid_GLM_py_290_sid_9558_model_python_1498169729571_3_model_0   \n",
      "\n",
      "    residual_deviance  \n",
      "0  3.3933211971158057  \n",
      "1  3.4022965382962496  \n",
      "2   3.412497153328939  \n",
      "3  3.7916030401799707  \n",
      "None\n",
      "Model Details\n",
      "=============\n",
      "H2OGeneralizedLinearEstimator :  Generalized Linear Modeling\n",
      "Model Key:  Grid_GLM_py_290_sid_9558_model_python_1498169729571_3_model_3\n",
      "\n",
      "\n",
      "ModelMetricsRegressionGLM: glm\n",
      "** Reported on train data. **\n",
      "\n",
      "MSE: 0.022272602172885826\n",
      "RMSE: 0.14924008232671887\n",
      "MAE: 0.10217670666125683\n",
      "RMSLE: 0.011407191199535444\n",
      "R^2: 0.854201320285019\n",
      "Mean Residual Deviance: 0.022272602172885826\n",
      "Null degrees of freedom: 496\n",
      "Residual degrees of freedom: 473\n",
      "Null deviance: 75.92306941024773\n",
      "Residual deviance: 11.069483279924256\n",
      "AIC: -430.3608831101828\n",
      "\n",
      "ModelMetricsRegressionGLM: glm\n",
      "** Reported on validation data. **\n",
      "\n",
      "MSE: 0.014817996493955484\n",
      "RMSE: 0.12172919326913936\n",
      "MAE: 0.09137556505357035\n",
      "RMSLE: 0.009475806499854848\n",
      "R^2: 0.9214747577076831\n",
      "Mean Residual Deviance: 0.014817996493955484\n",
      "Null degrees of freedom: 228\n",
      "Residual degrees of freedom: 205\n",
      "Null deviance: 43.21927170266359\n",
      "Residual deviance: 3.3933211971158057\n",
      "AIC: -264.65419618147695\n",
      "Scoring History: \n"
     ]
    },
    {
     "data": {
      "text/html": [
       "<div style=\"overflow:auto\"><table style=\"width:50%\"><tr><td><b></b></td>\n",
       "<td><b>timestamp</b></td>\n",
       "<td><b>duration</b></td>\n",
       "<td><b>iteration</b></td>\n",
       "<td><b>lambda</b></td>\n",
       "<td><b>predictors</b></td>\n",
       "<td><b>deviance_train</b></td>\n",
       "<td><b>deviance_test</b></td></tr>\n",
       "<tr><td></td>\n",
       "<td>2017-06-22 15:46:05</td>\n",
       "<td> 0.000 sec</td>\n",
       "<td>0</td>\n",
       "<td>.3E0</td>\n",
       "<td>2</td>\n",
       "<td>0.1442675</td>\n",
       "<td>0.1766220</td></tr>\n",
       "<tr><td></td>\n",
       "<td>2017-06-22 15:46:05</td>\n",
       "<td> 0.002 sec</td>\n",
       "<td>0</td>\n",
       "<td>.28E0</td>\n",
       "<td>2</td>\n",
       "<td>0.1365238</td>\n",
       "<td>0.1655749</td></tr>\n",
       "<tr><td></td>\n",
       "<td>2017-06-22 15:46:05</td>\n",
       "<td> 0.010 sec</td>\n",
       "<td>0</td>\n",
       "<td>.27E0</td>\n",
       "<td>2</td>\n",
       "<td>0.1294652</td>\n",
       "<td>0.1554957</td></tr>\n",
       "<tr><td></td>\n",
       "<td>2017-06-22 15:46:05</td>\n",
       "<td> 0.023 sec</td>\n",
       "<td>0</td>\n",
       "<td>.26E0</td>\n",
       "<td>2</td>\n",
       "<td>0.1230313</td>\n",
       "<td>0.1462994</td></tr>\n",
       "<tr><td></td>\n",
       "<td>2017-06-22 15:46:05</td>\n",
       "<td> 0.025 sec</td>\n",
       "<td>0</td>\n",
       "<td>.25E0</td>\n",
       "<td>2</td>\n",
       "<td>0.1171668</td>\n",
       "<td>0.1379085</td></tr>\n",
       "<tr><td>---</td>\n",
       "<td>---</td>\n",
       "<td>---</td>\n",
       "<td>---</td>\n",
       "<td>---</td>\n",
       "<td>---</td>\n",
       "<td>---</td>\n",
       "<td>---</td></tr>\n",
       "<tr><td></td>\n",
       "<td>2017-06-22 15:46:06</td>\n",
       "<td> 0.491 sec</td>\n",
       "<td>0</td>\n",
       "<td>.38E-2</td>\n",
       "<td>27</td>\n",
       "<td>0.0219279</td>\n",
       "<td>0.0149371</td></tr>\n",
       "<tr><td></td>\n",
       "<td>2017-06-22 15:46:06</td>\n",
       "<td> 0.498 sec</td>\n",
       "<td>0</td>\n",
       "<td>.36E-2</td>\n",
       "<td>27</td>\n",
       "<td>0.0218700</td>\n",
       "<td>0.0149759</td></tr>\n",
       "<tr><td></td>\n",
       "<td>2017-06-22 15:46:06</td>\n",
       "<td> 0.507 sec</td>\n",
       "<td>0</td>\n",
       "<td>.34E-2</td>\n",
       "<td>28</td>\n",
       "<td>0.0218168</td>\n",
       "<td>0.0150147</td></tr>\n",
       "<tr><td></td>\n",
       "<td>2017-06-22 15:46:06</td>\n",
       "<td> 0.510 sec</td>\n",
       "<td>0</td>\n",
       "<td>.33E-2</td>\n",
       "<td>28</td>\n",
       "<td>0.0217677</td>\n",
       "<td>0.0150506</td></tr>\n",
       "<tr><td></td>\n",
       "<td>2017-06-22 15:46:06</td>\n",
       "<td> 0.515 sec</td>\n",
       "<td>0</td>\n",
       "<td>.31E-2</td>\n",
       "<td>28</td>\n",
       "<td>0.0217230</td>\n",
       "<td>0.0150873</td></tr></table></div>"
      ],
      "text/plain": [
       "     timestamp            duration    iteration    lambda    predictors    deviance_train        deviance_test\n",
       "---  -------------------  ----------  -----------  --------  ------------  --------------------  --------------------\n",
       "     2017-06-22 15:46:05  0.000 sec   0            .3E0      2             0.1442675312730201    0.17662204011526292\n",
       "     2017-06-22 15:46:05  0.002 sec   0            .28E0     2             0.13652382426535883   0.1655748725637167\n",
       "     2017-06-22 15:46:05  0.010 sec   0            .27E0     2             0.12946524348881652   0.15549568383761259\n",
       "     2017-06-22 15:46:05  0.023 sec   0            .26E0     2             0.123031288094675     0.1462994220421723\n",
       "     2017-06-22 15:46:05  0.025 sec   0            .25E0     2             0.11716678478108916   0.1379085054522757\n",
       "---  ---                  ---         ---          ---       ---           ---                   ---\n",
       "     2017-06-22 15:46:06  0.491 sec   0            .38E-2    27            0.021927870255126665  0.01493705957403586\n",
       "     2017-06-22 15:46:06  0.498 sec   0            .36E-2    27            0.021869979558496875  0.014975878294725093\n",
       "     2017-06-22 15:46:06  0.507 sec   0            .34E-2    28            0.02181680923889033   0.01501470255580778\n",
       "     2017-06-22 15:46:06  0.510 sec   0            .33E-2    28            0.021767667002350062  0.01505063897579451\n",
       "     2017-06-22 15:46:06  0.515 sec   0            .31E-2    28            0.02172299224717713   0.015087271327510948"
      ]
     },
     "metadata": {},
     "output_type": "display_data"
    },
    {
     "name": "stdout",
     "output_type": "stream",
     "text": [
      "\n",
      "See the whole table with table.as_data_frame()\n",
      "\n",
      "glm prediction progress: |████████████████████████████████████████████████| 100%\n"
     ]
    },
    {
     "data": {
      "text/html": [
       "<table>\n",
       "<thead>\n",
       "<tr><th style=\"text-align: right;\">  SalePrice</th><th style=\"text-align: right;\">  predict</th></tr>\n",
       "</thead>\n",
       "<tbody>\n",
       "<tr><td style=\"text-align: right;\">    11.7906</td><td style=\"text-align: right;\">  11.8534</td></tr>\n",
       "<tr><td style=\"text-align: right;\">    11.9117</td><td style=\"text-align: right;\">  11.9847</td></tr>\n",
       "<tr><td style=\"text-align: right;\">    11.9767</td><td style=\"text-align: right;\">  11.9344</td></tr>\n",
       "<tr><td style=\"text-align: right;\">    11.8451</td><td style=\"text-align: right;\">  11.8394</td></tr>\n",
       "<tr><td style=\"text-align: right;\">    11.1346</td><td style=\"text-align: right;\">  11.3083</td></tr>\n",
       "<tr><td style=\"text-align: right;\">    11.8845</td><td style=\"text-align: right;\">  11.8418</td></tr>\n",
       "<tr><td style=\"text-align: right;\">    11.9382</td><td style=\"text-align: right;\">  11.907 </td></tr>\n",
       "<tr><td style=\"text-align: right;\">    11.8565</td><td style=\"text-align: right;\">  11.7382</td></tr>\n",
       "<tr><td style=\"text-align: right;\">    11.9704</td><td style=\"text-align: right;\">  12.0465</td></tr>\n",
       "<tr><td style=\"text-align: right;\">    12.6667</td><td style=\"text-align: right;\">  12.5716</td></tr>\n",
       "</tbody>\n",
       "</table>"
      ]
     },
     "metadata": {},
     "output_type": "display_data"
    },
    {
     "name": "stdout",
     "output_type": "stream",
     "text": [
      "\n",
      "glm prediction progress: |████████████████████████████████████████████████| 100%\n"
     ]
    },
    {
     "data": {
      "image/png": "[encoded data removed]",
      "text/plain": [
       "<matplotlib.figure.Figure at 0x7fb4addbef98>"
      ]
     },
     "metadata": {},
     "output_type": "display_data"
    }
   ],
   "source": [
    "glm0_1 = glm_grid(original_nums, 'SalePrice', other_half_train, other_half_valid)\n",
    "gen_submission(glm0_1) # Valid RMSE: 0.1492"
   ]
  },
  {
   "cell_type": "code",
   "execution_count": 31,
   "metadata": {},
   "outputs": [
    {
     "name": "stdout",
     "output_type": "stream",
     "text": [
      "glm Grid Build progress: |████████████████████████████████████████████████| 100%\n",
      "      alpha                                                      model_ids  \\\n",
      "0    [0.99]  Grid_GLM_py_290_sid_9558_model_python_1498169729571_4_model_3   \n",
      "1     [0.5]  Grid_GLM_py_290_sid_9558_model_python_1498169729571_4_model_2   \n",
      "2    [0.25]  Grid_GLM_py_290_sid_9558_model_python_1498169729571_4_model_1   \n",
      "3    [0.01]  Grid_GLM_py_290_sid_9558_model_python_1498169729571_4_model_0   \n",
      "\n",
      "    residual_deviance  \n",
      "0  3.4608118526528804  \n",
      "1  3.4828956211591198  \n",
      "2  3.5017586899430517  \n",
      "3   3.809841366471101  \n",
      "None\n",
      "Model Details\n",
      "=============\n",
      "H2OGeneralizedLinearEstimator :  Generalized Linear Modeling\n",
      "Model Key:  Grid_GLM_py_290_sid_9558_model_python_1498169729571_4_model_3\n",
      "\n",
      "\n",
      "ModelMetricsRegressionGLM: glm\n",
      "** Reported on train data. **\n",
      "\n",
      "MSE: 0.012019552402364653\n",
      "RMSE: 0.10963371927634606\n",
      "MAE: 0.07904242103741424\n",
      "RMSLE: 0.008535306613288952\n",
      "R^2: 0.9213188087576417\n",
      "Mean Residual Deviance: 0.012019552402364653\n",
      "Null degrees of freedom: 496\n",
      "Residual degrees of freedom: 436\n",
      "Null deviance: 75.92306941024773\n",
      "Residual deviance: 5.973717543975233\n",
      "AIC: -662.9217303838614\n",
      "\n",
      "ModelMetricsRegressionGLM: glm\n",
      "** Reported on validation data. **\n",
      "\n",
      "MSE: 0.015112715513768037\n",
      "RMSE: 0.1229337850786676\n",
      "MAE: 0.09522833547654556\n",
      "RMSLE: 0.009630946396780301\n",
      "R^2: 0.9199129485624066\n",
      "Mean Residual Deviance: 0.015112715513768037\n",
      "Null degrees of freedom: 228\n",
      "Residual degrees of freedom: 168\n",
      "Null deviance: 43.21927170266359\n",
      "Residual deviance: 3.4608118526528804\n",
      "AIC: -186.1442575677588\n",
      "Scoring History: \n"
     ]
    },
    {
     "data": {
      "text/html": [
       "<div style=\"overflow:auto\"><table style=\"width:50%\"><tr><td><b></b></td>\n",
       "<td><b>timestamp</b></td>\n",
       "<td><b>duration</b></td>\n",
       "<td><b>iteration</b></td>\n",
       "<td><b>lambda</b></td>\n",
       "<td><b>predictors</b></td>\n",
       "<td><b>deviance_train</b></td>\n",
       "<td><b>deviance_test</b></td></tr>\n",
       "<tr><td></td>\n",
       "<td>2017-06-22 15:52:00</td>\n",
       "<td> 0.000 sec</td>\n",
       "<td>0</td>\n",
       "<td>.31E0</td>\n",
       "<td>3</td>\n",
       "<td>0.1435965</td>\n",
       "<td>0.1781689</td></tr>\n",
       "<tr><td></td>\n",
       "<td>2017-06-22 15:52:00</td>\n",
       "<td> 0.101 sec</td>\n",
       "<td>0</td>\n",
       "<td>.29E0</td>\n",
       "<td>3</td>\n",
       "<td>0.1346193</td>\n",
       "<td>0.1670832</td></tr>\n",
       "<tr><td></td>\n",
       "<td>2017-06-22 15:52:00</td>\n",
       "<td> 0.248 sec</td>\n",
       "<td>0</td>\n",
       "<td>.28E0</td>\n",
       "<td>3</td>\n",
       "<td>0.1264427</td>\n",
       "<td>0.1569494</td></tr>\n",
       "<tr><td></td>\n",
       "<td>2017-06-22 15:52:00</td>\n",
       "<td> 0.334 sec</td>\n",
       "<td>0</td>\n",
       "<td>.27E0</td>\n",
       "<td>5</td>\n",
       "<td>0.1184378</td>\n",
       "<td>0.1468388</td></tr>\n",
       "<tr><td></td>\n",
       "<td>2017-06-22 15:52:01</td>\n",
       "<td> 0.421 sec</td>\n",
       "<td>0</td>\n",
       "<td>.26E0</td>\n",
       "<td>5</td>\n",
       "<td>0.1107316</td>\n",
       "<td>0.1370611</td></tr>\n",
       "<tr><td>---</td>\n",
       "<td>---</td>\n",
       "<td>---</td>\n",
       "<td>---</td>\n",
       "<td>---</td>\n",
       "<td>---</td>\n",
       "<td>---</td>\n",
       "<td>---</td></tr>\n",
       "<tr><td></td>\n",
       "<td>2017-06-22 15:52:15</td>\n",
       "<td>14.743 sec</td>\n",
       "<td>0</td>\n",
       "<td>.39E-2</td>\n",
       "<td>87</td>\n",
       "<td>0.0093247</td>\n",
       "<td>0.0164268</td></tr>\n",
       "<tr><td></td>\n",
       "<td>2017-06-22 15:52:15</td>\n",
       "<td>15.038 sec</td>\n",
       "<td>0</td>\n",
       "<td>.37E-2</td>\n",
       "<td>94</td>\n",
       "<td>0.0092351</td>\n",
       "<td>0.0164405</td></tr>\n",
       "<tr><td></td>\n",
       "<td>2017-06-22 15:52:15</td>\n",
       "<td>15.246 sec</td>\n",
       "<td>0</td>\n",
       "<td>.35E-2</td>\n",
       "<td>96</td>\n",
       "<td>0.0091355</td>\n",
       "<td>0.0164636</td></tr>\n",
       "<tr><td></td>\n",
       "<td>2017-06-22 15:52:16</td>\n",
       "<td>15.506 sec</td>\n",
       "<td>0</td>\n",
       "<td>.34E-2</td>\n",
       "<td>99</td>\n",
       "<td>0.0090208</td>\n",
       "<td>0.0166055</td></tr>\n",
       "<tr><td></td>\n",
       "<td>2017-06-22 15:52:16</td>\n",
       "<td>15.718 sec</td>\n",
       "<td>0</td>\n",
       "<td>.32E-2</td>\n",
       "<td>106</td>\n",
       "<td>0.0089207</td>\n",
       "<td>0.0167174</td></tr></table></div>"
      ],
      "text/plain": [
       "     timestamp            duration    iteration    lambda    predictors    deviance_train        deviance_test\n",
       "---  -------------------  ----------  -----------  --------  ------------  --------------------  --------------------\n",
       "     2017-06-22 15:52:00  0.000 sec   0            .31E0     3             0.14359650304784596   0.1781688572630758\n",
       "     2017-06-22 15:52:00  0.101 sec   0            .29E0     3             0.1346193134042873    0.1670831739246755\n",
       "     2017-06-22 15:52:00  0.248 sec   0            .28E0     3             0.1264426740673085    0.15694939998725016\n",
       "     2017-06-22 15:52:00  0.334 sec   0            .27E0     5             0.1184378069918228    0.14683879149613155\n",
       "     2017-06-22 15:52:01  0.421 sec   0            .26E0     5             0.1107315723843998    0.13706113878196993\n",
       "---  ---                  ---         ---          ---       ---           ---                   ---\n",
       "     2017-06-22 15:52:15  14.743 sec  0            .39E-2    87            0.009324726388802362  0.016426797131250705\n",
       "     2017-06-22 15:52:15  15.038 sec  0            .37E-2    94            0.009235122143579048  0.016440548671869303\n",
       "     2017-06-22 15:52:15  15.246 sec  0            .35E-2    96            0.009135489300632628  0.016463628792175573\n",
       "     2017-06-22 15:52:16  15.506 sec  0            .34E-2    99            0.009020774424237937  0.016605548939054072\n",
       "     2017-06-22 15:52:16  15.718 sec  0            .32E-2    106           0.00892070647252614   0.016717411518707117"
      ]
     },
     "metadata": {},
     "output_type": "display_data"
    },
    {
     "name": "stdout",
     "output_type": "stream",
     "text": [
      "\n",
      "See the whole table with table.as_data_frame()\n",
      "\n",
      "glm prediction progress: |████████████████████████████████████████████████| 100%\n"
     ]
    },
    {
     "data": {
      "text/html": [
       "<table>\n",
       "<thead>\n",
       "<tr><th style=\"text-align: right;\">  SalePrice</th><th style=\"text-align: right;\">  predict</th></tr>\n",
       "</thead>\n",
       "<tbody>\n",
       "<tr><td style=\"text-align: right;\">    11.7906</td><td style=\"text-align: right;\">  11.7273</td></tr>\n",
       "<tr><td style=\"text-align: right;\">    11.9117</td><td style=\"text-align: right;\">  11.8989</td></tr>\n",
       "<tr><td style=\"text-align: right;\">    11.9767</td><td style=\"text-align: right;\">  11.8275</td></tr>\n",
       "<tr><td style=\"text-align: right;\">    11.8451</td><td style=\"text-align: right;\">  11.7022</td></tr>\n",
       "<tr><td style=\"text-align: right;\">    11.1346</td><td style=\"text-align: right;\">  11.1499</td></tr>\n",
       "<tr><td style=\"text-align: right;\">    11.8845</td><td style=\"text-align: right;\">  11.8045</td></tr>\n",
       "<tr><td style=\"text-align: right;\">    11.9382</td><td style=\"text-align: right;\">  11.907 </td></tr>\n",
       "<tr><td style=\"text-align: right;\">    11.8565</td><td style=\"text-align: right;\">  11.742 </td></tr>\n",
       "<tr><td style=\"text-align: right;\">    11.9704</td><td style=\"text-align: right;\">  11.9711</td></tr>\n",
       "<tr><td style=\"text-align: right;\">    12.6667</td><td style=\"text-align: right;\">  12.5146</td></tr>\n",
       "</tbody>\n",
       "</table>"
      ]
     },
     "metadata": {},
     "output_type": "display_data"
    },
    {
     "name": "stdout",
     "output_type": "stream",
     "text": [
      "\n",
      "glm prediction progress: |████████████████████████████████████████████████| 100%\n"
     ]
    },
    {
     "data": {
      "image/png": "[encoded data removed]",
      "text/plain": [
       "<matplotlib.figure.Figure at 0x7fb4b1fcf908>"
      ]
     },
     "metadata": {},
     "output_type": "display_data"
    }
   ],
   "source": [
    "glm2_1 = glm_grid(encoded_combined_nums, 'SalePrice', other_half_train, other_half_valid)\n",
    "gen_submission(glm2_1) # Valid RMSE: ~0.1229"
   ]
  },
  {
   "cell_type": "code",
   "execution_count": null,
   "metadata": {
    "collapsed": true
   },
   "outputs": [],
   "source": []
  },
  {
   "cell_type": "code",
   "execution_count": null,
   "metadata": {
    "collapsed": true
   },
   "outputs": [],
   "source": []
  },
  {
   "cell_type": "code",
   "execution_count": null,
   "metadata": {
    "collapsed": true
   },
   "outputs": [],
   "source": []
  },
  {
   "cell_type": "code",
   "execution_count": null,
   "metadata": {
    "collapsed": true
   },
   "outputs": [],
   "source": []
  },
  {
   "cell_type": "code",
   "execution_count": null,
   "metadata": {
    "collapsed": true
   },
   "outputs": [],
   "source": []
  },
  {
   "cell_type": "code",
   "execution_count": null,
   "metadata": {
    "collapsed": true
   },
   "outputs": [],
   "source": []
  },
  {
   "cell_type": "code",
   "execution_count": null,
   "metadata": {
    "collapsed": true
   },
   "outputs": [],
   "source": []
  },
  {
   "cell_type": "code",
   "execution_count": null,
   "metadata": {
    "collapsed": true
   },
   "outputs": [],
   "source": []
  },
  {
   "cell_type": "code",
   "execution_count": null,
   "metadata": {
    "collapsed": true
   },
   "outputs": [],
   "source": []
  },
  {
   "cell_type": "code",
   "execution_count": null,
   "metadata": {
    "collapsed": true
   },
   "outputs": [],
   "source": []
  },
  {
   "cell_type": "code",
   "execution_count": null,
   "metadata": {
    "collapsed": true
   },
   "outputs": [],
   "source": []
  },
  {
   "cell_type": "code",
   "execution_count": null,
   "metadata": {
    "collapsed": true
   },
   "outputs": [],
   "source": []
  },
  {
   "cell_type": "code",
   "execution_count": null,
   "metadata": {
    "collapsed": true
   },
   "outputs": [],
   "source": []
  },
  {
   "cell_type": "code",
   "execution_count": null,
   "metadata": {
    "collapsed": true
   },
   "outputs": [],
   "source": []
  },
  {
   "cell_type": "code",
   "execution_count": null,
   "metadata": {
    "collapsed": true
   },
   "outputs": [],
   "source": []
  },
  {
   "cell_type": "code",
   "execution_count": null,
   "metadata": {
    "collapsed": true
   },
   "outputs": [],
   "source": []
  }
 ],
 "metadata": {
  "anaconda-cloud": {},
  "kernelspec": {
   "display_name": "Python [default]",
   "language": "python",
   "name": "python3"
  },
  "language_info": {
   "codemirror_mode": {
    "name": "ipython",
    "version": 3
   },
   "file_extension": ".py",
   "mimetype": "text/x-python",
   "name": "python",
   "nbconvert_exporter": "python",
   "pygments_lexer": "ipython3",
   "version": "3.5.2"
  }
 },
 "nbformat": 4,
 "nbformat_minor": 2
}
